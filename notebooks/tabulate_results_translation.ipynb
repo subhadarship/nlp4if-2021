{
 "cells": [
  {
   "cell_type": "code",
   "execution_count": 1,
   "metadata": {
    "collapsed": true
   },
   "outputs": [],
   "source": [
    "import os\n",
    "from typing import Dict\n",
    "\n",
    "import pandas as pd\n",
    "from IPython.display import display"
   ]
  },
  {
   "cell_type": "code",
   "execution_count": 2,
   "outputs": [],
   "source": [
    "LOGDIR = os.path.join('../logs_translation')"
   ],
   "metadata": {
    "collapsed": false,
    "pycharm": {
     "name": "#%%\n"
    }
   }
  },
  {
   "cell_type": "code",
   "execution_count": 3,
   "outputs": [],
   "source": [
    "def get_scores(fpath: str) -> Dict[str, float]:\n",
    "    \"\"\"Get scores from a log file\"\"\"\n",
    "    with open(fpath, 'r', encoding='utf-8') as f:\n",
    "        lines = f.readlines()\n",
    "    best_dev_line = [line for line in lines if '📣 best validation metrics 📣' in line][0].strip()\n",
    "    test_line = [line for line in lines if '📣 test metrics 📣' in line][0].strip()\n",
    "    best_dev_f1 = eval('{' + best_dev_line.split('{')[-1])['f1']\n",
    "    test_f1 = eval('{' + test_line.split('{')[-1])['f1']\n",
    "    return {'dev': best_dev_f1, 'test': test_f1}"
   ],
   "metadata": {
    "collapsed": false,
    "pycharm": {
     "name": "#%%\n"
    }
   }
  },
  {
   "cell_type": "code",
   "execution_count": 4,
   "outputs": [
    {
     "name": "stdout",
     "output_type": "stream",
     "text": [
      "*** enbg ***\n",
      "\t> baseline_bert\n"
     ]
    },
    {
     "data": {
      "text/plain": "                     logfile  dev F1  test F1\n0  fc128_lr0.0005_frozen.txt   0.803    0.769\n6  fc512_lr0.0005_frozen.txt   0.803    0.770\n3  fc256_lr0.0005_frozen.txt   0.803    0.770\n5    fc256_lr0.05_frozen.txt   0.803    0.770\n2    fc128_lr0.05_frozen.txt   0.803    0.770\n8    fc512_lr0.05_frozen.txt   0.803    0.770\n1   fc128_lr0.005_frozen.txt   0.797    0.774\n7   fc512_lr0.005_frozen.txt   0.768    0.739\n4   fc256_lr0.005_frozen.txt   0.723    0.697",
      "text/html": "<div>\n<style scoped>\n    .dataframe tbody tr th:only-of-type {\n        vertical-align: middle;\n    }\n\n    .dataframe tbody tr th {\n        vertical-align: top;\n    }\n\n    .dataframe thead th {\n        text-align: right;\n    }\n</style>\n<table border=\"1\" class=\"dataframe\">\n  <thead>\n    <tr style=\"text-align: right;\">\n      <th></th>\n      <th>logfile</th>\n      <th>dev F1</th>\n      <th>test F1</th>\n    </tr>\n  </thead>\n  <tbody>\n    <tr>\n      <th>0</th>\n      <td>fc128_lr0.0005_frozen.txt</td>\n      <td>0.803</td>\n      <td>0.769</td>\n    </tr>\n    <tr>\n      <th>6</th>\n      <td>fc512_lr0.0005_frozen.txt</td>\n      <td>0.803</td>\n      <td>0.770</td>\n    </tr>\n    <tr>\n      <th>3</th>\n      <td>fc256_lr0.0005_frozen.txt</td>\n      <td>0.803</td>\n      <td>0.770</td>\n    </tr>\n    <tr>\n      <th>5</th>\n      <td>fc256_lr0.05_frozen.txt</td>\n      <td>0.803</td>\n      <td>0.770</td>\n    </tr>\n    <tr>\n      <th>2</th>\n      <td>fc128_lr0.05_frozen.txt</td>\n      <td>0.803</td>\n      <td>0.770</td>\n    </tr>\n    <tr>\n      <th>8</th>\n      <td>fc512_lr0.05_frozen.txt</td>\n      <td>0.803</td>\n      <td>0.770</td>\n    </tr>\n    <tr>\n      <th>1</th>\n      <td>fc128_lr0.005_frozen.txt</td>\n      <td>0.797</td>\n      <td>0.774</td>\n    </tr>\n    <tr>\n      <th>7</th>\n      <td>fc512_lr0.005_frozen.txt</td>\n      <td>0.768</td>\n      <td>0.739</td>\n    </tr>\n    <tr>\n      <th>4</th>\n      <td>fc256_lr0.005_frozen.txt</td>\n      <td>0.723</td>\n      <td>0.697</td>\n    </tr>\n  </tbody>\n</table>\n</div>"
     },
     "metadata": {},
     "output_type": "display_data"
    },
    {
     "name": "stdout",
     "output_type": "stream",
     "text": [
      "\t> baseline_mbert\n"
     ]
    },
    {
     "data": {
      "text/plain": "                     logfile  dev F1  test F1\n7   fc512_lr0.005_frozen.txt   0.812    0.784\n4   fc256_lr0.005_frozen.txt   0.811    0.776\n1   fc128_lr0.005_frozen.txt   0.810    0.776\n3  fc256_lr0.0005_frozen.txt   0.804    0.776\n0  fc128_lr0.0005_frozen.txt   0.803    0.769\n2    fc128_lr0.05_frozen.txt   0.803    0.770\n5    fc256_lr0.05_frozen.txt   0.803    0.770\n6  fc512_lr0.0005_frozen.txt   0.803    0.770\n8    fc512_lr0.05_frozen.txt   0.803    0.769",
      "text/html": "<div>\n<style scoped>\n    .dataframe tbody tr th:only-of-type {\n        vertical-align: middle;\n    }\n\n    .dataframe tbody tr th {\n        vertical-align: top;\n    }\n\n    .dataframe thead th {\n        text-align: right;\n    }\n</style>\n<table border=\"1\" class=\"dataframe\">\n  <thead>\n    <tr style=\"text-align: right;\">\n      <th></th>\n      <th>logfile</th>\n      <th>dev F1</th>\n      <th>test F1</th>\n    </tr>\n  </thead>\n  <tbody>\n    <tr>\n      <th>7</th>\n      <td>fc512_lr0.005_frozen.txt</td>\n      <td>0.812</td>\n      <td>0.784</td>\n    </tr>\n    <tr>\n      <th>4</th>\n      <td>fc256_lr0.005_frozen.txt</td>\n      <td>0.811</td>\n      <td>0.776</td>\n    </tr>\n    <tr>\n      <th>1</th>\n      <td>fc128_lr0.005_frozen.txt</td>\n      <td>0.810</td>\n      <td>0.776</td>\n    </tr>\n    <tr>\n      <th>3</th>\n      <td>fc256_lr0.0005_frozen.txt</td>\n      <td>0.804</td>\n      <td>0.776</td>\n    </tr>\n    <tr>\n      <th>0</th>\n      <td>fc128_lr0.0005_frozen.txt</td>\n      <td>0.803</td>\n      <td>0.769</td>\n    </tr>\n    <tr>\n      <th>2</th>\n      <td>fc128_lr0.05_frozen.txt</td>\n      <td>0.803</td>\n      <td>0.770</td>\n    </tr>\n    <tr>\n      <th>5</th>\n      <td>fc256_lr0.05_frozen.txt</td>\n      <td>0.803</td>\n      <td>0.770</td>\n    </tr>\n    <tr>\n      <th>6</th>\n      <td>fc512_lr0.0005_frozen.txt</td>\n      <td>0.803</td>\n      <td>0.770</td>\n    </tr>\n    <tr>\n      <th>8</th>\n      <td>fc512_lr0.05_frozen.txt</td>\n      <td>0.803</td>\n      <td>0.769</td>\n    </tr>\n  </tbody>\n</table>\n</div>"
     },
     "metadata": {},
     "output_type": "display_data"
    },
    {
     "name": "stdout",
     "output_type": "stream",
     "text": [
      "\t> translate_test_bert\n"
     ]
    },
    {
     "data": {
      "text/plain": "                     logfile  dev F1  test F1\n7   fc512_lr0.005_frozen.txt   0.812    0.789\n0  fc128_lr0.0005_frozen.txt   0.810    0.785\n3  fc256_lr0.0005_frozen.txt   0.805    0.781\n6  fc512_lr0.0005_frozen.txt   0.803    0.773\n5    fc256_lr0.05_frozen.txt   0.803    0.768\n2    fc128_lr0.05_frozen.txt   0.803    0.770\n8    fc512_lr0.05_frozen.txt   0.803    0.770\n4   fc256_lr0.005_frozen.txt   0.802    0.780\n1   fc128_lr0.005_frozen.txt   0.800    0.765",
      "text/html": "<div>\n<style scoped>\n    .dataframe tbody tr th:only-of-type {\n        vertical-align: middle;\n    }\n\n    .dataframe tbody tr th {\n        vertical-align: top;\n    }\n\n    .dataframe thead th {\n        text-align: right;\n    }\n</style>\n<table border=\"1\" class=\"dataframe\">\n  <thead>\n    <tr style=\"text-align: right;\">\n      <th></th>\n      <th>logfile</th>\n      <th>dev F1</th>\n      <th>test F1</th>\n    </tr>\n  </thead>\n  <tbody>\n    <tr>\n      <th>7</th>\n      <td>fc512_lr0.005_frozen.txt</td>\n      <td>0.812</td>\n      <td>0.789</td>\n    </tr>\n    <tr>\n      <th>0</th>\n      <td>fc128_lr0.0005_frozen.txt</td>\n      <td>0.810</td>\n      <td>0.785</td>\n    </tr>\n    <tr>\n      <th>3</th>\n      <td>fc256_lr0.0005_frozen.txt</td>\n      <td>0.805</td>\n      <td>0.781</td>\n    </tr>\n    <tr>\n      <th>6</th>\n      <td>fc512_lr0.0005_frozen.txt</td>\n      <td>0.803</td>\n      <td>0.773</td>\n    </tr>\n    <tr>\n      <th>5</th>\n      <td>fc256_lr0.05_frozen.txt</td>\n      <td>0.803</td>\n      <td>0.768</td>\n    </tr>\n    <tr>\n      <th>2</th>\n      <td>fc128_lr0.05_frozen.txt</td>\n      <td>0.803</td>\n      <td>0.770</td>\n    </tr>\n    <tr>\n      <th>8</th>\n      <td>fc512_lr0.05_frozen.txt</td>\n      <td>0.803</td>\n      <td>0.770</td>\n    </tr>\n    <tr>\n      <th>4</th>\n      <td>fc256_lr0.005_frozen.txt</td>\n      <td>0.802</td>\n      <td>0.780</td>\n    </tr>\n    <tr>\n      <th>1</th>\n      <td>fc128_lr0.005_frozen.txt</td>\n      <td>0.800</td>\n      <td>0.765</td>\n    </tr>\n  </tbody>\n</table>\n</div>"
     },
     "metadata": {},
     "output_type": "display_data"
    },
    {
     "name": "stdout",
     "output_type": "stream",
     "text": [
      "\t> translate_test_mbert\n"
     ]
    },
    {
     "data": {
      "text/plain": "                     logfile  dev F1  test F1\n7   fc512_lr0.005_frozen.txt   0.818    0.763\n4   fc256_lr0.005_frozen.txt   0.818    0.777\n1   fc128_lr0.005_frozen.txt   0.816    0.776\n0  fc128_lr0.0005_frozen.txt   0.811    0.778\n6  fc512_lr0.0005_frozen.txt   0.811    0.781\n3  fc256_lr0.0005_frozen.txt   0.810    0.782\n5    fc256_lr0.05_frozen.txt   0.805    0.770\n2    fc128_lr0.05_frozen.txt   0.803    0.770\n8    fc512_lr0.05_frozen.txt   0.803    0.770",
      "text/html": "<div>\n<style scoped>\n    .dataframe tbody tr th:only-of-type {\n        vertical-align: middle;\n    }\n\n    .dataframe tbody tr th {\n        vertical-align: top;\n    }\n\n    .dataframe thead th {\n        text-align: right;\n    }\n</style>\n<table border=\"1\" class=\"dataframe\">\n  <thead>\n    <tr style=\"text-align: right;\">\n      <th></th>\n      <th>logfile</th>\n      <th>dev F1</th>\n      <th>test F1</th>\n    </tr>\n  </thead>\n  <tbody>\n    <tr>\n      <th>7</th>\n      <td>fc512_lr0.005_frozen.txt</td>\n      <td>0.818</td>\n      <td>0.763</td>\n    </tr>\n    <tr>\n      <th>4</th>\n      <td>fc256_lr0.005_frozen.txt</td>\n      <td>0.818</td>\n      <td>0.777</td>\n    </tr>\n    <tr>\n      <th>1</th>\n      <td>fc128_lr0.005_frozen.txt</td>\n      <td>0.816</td>\n      <td>0.776</td>\n    </tr>\n    <tr>\n      <th>0</th>\n      <td>fc128_lr0.0005_frozen.txt</td>\n      <td>0.811</td>\n      <td>0.778</td>\n    </tr>\n    <tr>\n      <th>6</th>\n      <td>fc512_lr0.0005_frozen.txt</td>\n      <td>0.811</td>\n      <td>0.781</td>\n    </tr>\n    <tr>\n      <th>3</th>\n      <td>fc256_lr0.0005_frozen.txt</td>\n      <td>0.810</td>\n      <td>0.782</td>\n    </tr>\n    <tr>\n      <th>5</th>\n      <td>fc256_lr0.05_frozen.txt</td>\n      <td>0.805</td>\n      <td>0.770</td>\n    </tr>\n    <tr>\n      <th>2</th>\n      <td>fc128_lr0.05_frozen.txt</td>\n      <td>0.803</td>\n      <td>0.770</td>\n    </tr>\n    <tr>\n      <th>8</th>\n      <td>fc512_lr0.05_frozen.txt</td>\n      <td>0.803</td>\n      <td>0.770</td>\n    </tr>\n  </tbody>\n</table>\n</div>"
     },
     "metadata": {},
     "output_type": "display_data"
    },
    {
     "name": "stdout",
     "output_type": "stream",
     "text": [
      "\t> translate_train_mbert\n"
     ]
    },
    {
     "data": {
      "text/plain": "                     logfile  dev F1  test F1\n4   fc256_lr0.005_frozen.txt   0.816    0.785\n1   fc128_lr0.005_frozen.txt   0.813    0.784\n7   fc512_lr0.005_frozen.txt   0.812    0.787\n0  fc128_lr0.0005_frozen.txt   0.812    0.782\n3  fc256_lr0.0005_frozen.txt   0.811    0.784\n6  fc512_lr0.0005_frozen.txt   0.810    0.779\n2    fc128_lr0.05_frozen.txt   0.803    0.770\n5    fc256_lr0.05_frozen.txt   0.803    0.770\n8    fc512_lr0.05_frozen.txt   0.803    0.770",
      "text/html": "<div>\n<style scoped>\n    .dataframe tbody tr th:only-of-type {\n        vertical-align: middle;\n    }\n\n    .dataframe tbody tr th {\n        vertical-align: top;\n    }\n\n    .dataframe thead th {\n        text-align: right;\n    }\n</style>\n<table border=\"1\" class=\"dataframe\">\n  <thead>\n    <tr style=\"text-align: right;\">\n      <th></th>\n      <th>logfile</th>\n      <th>dev F1</th>\n      <th>test F1</th>\n    </tr>\n  </thead>\n  <tbody>\n    <tr>\n      <th>4</th>\n      <td>fc256_lr0.005_frozen.txt</td>\n      <td>0.816</td>\n      <td>0.785</td>\n    </tr>\n    <tr>\n      <th>1</th>\n      <td>fc128_lr0.005_frozen.txt</td>\n      <td>0.813</td>\n      <td>0.784</td>\n    </tr>\n    <tr>\n      <th>7</th>\n      <td>fc512_lr0.005_frozen.txt</td>\n      <td>0.812</td>\n      <td>0.787</td>\n    </tr>\n    <tr>\n      <th>0</th>\n      <td>fc128_lr0.0005_frozen.txt</td>\n      <td>0.812</td>\n      <td>0.782</td>\n    </tr>\n    <tr>\n      <th>3</th>\n      <td>fc256_lr0.0005_frozen.txt</td>\n      <td>0.811</td>\n      <td>0.784</td>\n    </tr>\n    <tr>\n      <th>6</th>\n      <td>fc512_lr0.0005_frozen.txt</td>\n      <td>0.810</td>\n      <td>0.779</td>\n    </tr>\n    <tr>\n      <th>2</th>\n      <td>fc128_lr0.05_frozen.txt</td>\n      <td>0.803</td>\n      <td>0.770</td>\n    </tr>\n    <tr>\n      <th>5</th>\n      <td>fc256_lr0.05_frozen.txt</td>\n      <td>0.803</td>\n      <td>0.770</td>\n    </tr>\n    <tr>\n      <th>8</th>\n      <td>fc512_lr0.05_frozen.txt</td>\n      <td>0.803</td>\n      <td>0.770</td>\n    </tr>\n  </tbody>\n</table>\n</div>"
     },
     "metadata": {},
     "output_type": "display_data"
    },
    {
     "name": "stdout",
     "output_type": "stream",
     "text": [
      "*** enar ***\n",
      "\t> baseline_bert\n"
     ]
    },
    {
     "data": {
      "text/plain": "                     logfile  dev F1  test F1\n5    fc256_lr0.05_frozen.txt   0.469    0.487\n3  fc256_lr0.0005_frozen.txt   0.469    0.457\n6  fc512_lr0.0005_frozen.txt   0.465    0.452\n0  fc128_lr0.0005_frozen.txt   0.462    0.435\n4   fc256_lr0.005_frozen.txt   0.458    0.392\n7   fc512_lr0.005_frozen.txt   0.455    0.461\n2    fc128_lr0.05_frozen.txt   0.449    0.448\n1   fc128_lr0.005_frozen.txt   0.445    0.411\n8    fc512_lr0.05_frozen.txt   0.441    0.365",
      "text/html": "<div>\n<style scoped>\n    .dataframe tbody tr th:only-of-type {\n        vertical-align: middle;\n    }\n\n    .dataframe tbody tr th {\n        vertical-align: top;\n    }\n\n    .dataframe thead th {\n        text-align: right;\n    }\n</style>\n<table border=\"1\" class=\"dataframe\">\n  <thead>\n    <tr style=\"text-align: right;\">\n      <th></th>\n      <th>logfile</th>\n      <th>dev F1</th>\n      <th>test F1</th>\n    </tr>\n  </thead>\n  <tbody>\n    <tr>\n      <th>5</th>\n      <td>fc256_lr0.05_frozen.txt</td>\n      <td>0.469</td>\n      <td>0.487</td>\n    </tr>\n    <tr>\n      <th>3</th>\n      <td>fc256_lr0.0005_frozen.txt</td>\n      <td>0.469</td>\n      <td>0.457</td>\n    </tr>\n    <tr>\n      <th>6</th>\n      <td>fc512_lr0.0005_frozen.txt</td>\n      <td>0.465</td>\n      <td>0.452</td>\n    </tr>\n    <tr>\n      <th>0</th>\n      <td>fc128_lr0.0005_frozen.txt</td>\n      <td>0.462</td>\n      <td>0.435</td>\n    </tr>\n    <tr>\n      <th>4</th>\n      <td>fc256_lr0.005_frozen.txt</td>\n      <td>0.458</td>\n      <td>0.392</td>\n    </tr>\n    <tr>\n      <th>7</th>\n      <td>fc512_lr0.005_frozen.txt</td>\n      <td>0.455</td>\n      <td>0.461</td>\n    </tr>\n    <tr>\n      <th>2</th>\n      <td>fc128_lr0.05_frozen.txt</td>\n      <td>0.449</td>\n      <td>0.448</td>\n    </tr>\n    <tr>\n      <th>1</th>\n      <td>fc128_lr0.005_frozen.txt</td>\n      <td>0.445</td>\n      <td>0.411</td>\n    </tr>\n    <tr>\n      <th>8</th>\n      <td>fc512_lr0.05_frozen.txt</td>\n      <td>0.441</td>\n      <td>0.365</td>\n    </tr>\n  </tbody>\n</table>\n</div>"
     },
     "metadata": {},
     "output_type": "display_data"
    },
    {
     "name": "stdout",
     "output_type": "stream",
     "text": [
      "\t> baseline_mbert\n"
     ]
    },
    {
     "data": {
      "text/plain": "                     logfile  dev F1  test F1\n6  fc512_lr0.0005_frozen.txt   0.560    0.531\n3  fc256_lr0.0005_frozen.txt   0.553    0.532\n1   fc128_lr0.005_frozen.txt   0.547    0.533\n7   fc512_lr0.005_frozen.txt   0.547    0.506\n0  fc128_lr0.0005_frozen.txt   0.539    0.513\n4   fc256_lr0.005_frozen.txt   0.535    0.513\n5    fc256_lr0.05_frozen.txt   0.446    0.389\n8    fc512_lr0.05_frozen.txt   0.443    0.407\n2    fc128_lr0.05_frozen.txt   0.441    0.365",
      "text/html": "<div>\n<style scoped>\n    .dataframe tbody tr th:only-of-type {\n        vertical-align: middle;\n    }\n\n    .dataframe tbody tr th {\n        vertical-align: top;\n    }\n\n    .dataframe thead th {\n        text-align: right;\n    }\n</style>\n<table border=\"1\" class=\"dataframe\">\n  <thead>\n    <tr style=\"text-align: right;\">\n      <th></th>\n      <th>logfile</th>\n      <th>dev F1</th>\n      <th>test F1</th>\n    </tr>\n  </thead>\n  <tbody>\n    <tr>\n      <th>6</th>\n      <td>fc512_lr0.0005_frozen.txt</td>\n      <td>0.560</td>\n      <td>0.531</td>\n    </tr>\n    <tr>\n      <th>3</th>\n      <td>fc256_lr0.0005_frozen.txt</td>\n      <td>0.553</td>\n      <td>0.532</td>\n    </tr>\n    <tr>\n      <th>1</th>\n      <td>fc128_lr0.005_frozen.txt</td>\n      <td>0.547</td>\n      <td>0.533</td>\n    </tr>\n    <tr>\n      <th>7</th>\n      <td>fc512_lr0.005_frozen.txt</td>\n      <td>0.547</td>\n      <td>0.506</td>\n    </tr>\n    <tr>\n      <th>0</th>\n      <td>fc128_lr0.0005_frozen.txt</td>\n      <td>0.539</td>\n      <td>0.513</td>\n    </tr>\n    <tr>\n      <th>4</th>\n      <td>fc256_lr0.005_frozen.txt</td>\n      <td>0.535</td>\n      <td>0.513</td>\n    </tr>\n    <tr>\n      <th>5</th>\n      <td>fc256_lr0.05_frozen.txt</td>\n      <td>0.446</td>\n      <td>0.389</td>\n    </tr>\n    <tr>\n      <th>8</th>\n      <td>fc512_lr0.05_frozen.txt</td>\n      <td>0.443</td>\n      <td>0.407</td>\n    </tr>\n    <tr>\n      <th>2</th>\n      <td>fc128_lr0.05_frozen.txt</td>\n      <td>0.441</td>\n      <td>0.365</td>\n    </tr>\n  </tbody>\n</table>\n</div>"
     },
     "metadata": {},
     "output_type": "display_data"
    },
    {
     "name": "stdout",
     "output_type": "stream",
     "text": [
      "\t> translate_test_bert\n"
     ]
    },
    {
     "data": {
      "text/plain": "                     logfile  dev F1  test F1\n7   fc512_lr0.005_frozen.txt   0.619    0.578\n1   fc128_lr0.005_frozen.txt   0.619    0.544\n3  fc256_lr0.0005_frozen.txt   0.617    0.564\n0  fc128_lr0.0005_frozen.txt   0.615    0.560\n6  fc512_lr0.0005_frozen.txt   0.615    0.570\n4   fc256_lr0.005_frozen.txt   0.612    0.543\n5    fc256_lr0.05_frozen.txt   0.513    0.483\n2    fc128_lr0.05_frozen.txt   0.488    0.438\n8    fc512_lr0.05_frozen.txt   0.478    0.427",
      "text/html": "<div>\n<style scoped>\n    .dataframe tbody tr th:only-of-type {\n        vertical-align: middle;\n    }\n\n    .dataframe tbody tr th {\n        vertical-align: top;\n    }\n\n    .dataframe thead th {\n        text-align: right;\n    }\n</style>\n<table border=\"1\" class=\"dataframe\">\n  <thead>\n    <tr style=\"text-align: right;\">\n      <th></th>\n      <th>logfile</th>\n      <th>dev F1</th>\n      <th>test F1</th>\n    </tr>\n  </thead>\n  <tbody>\n    <tr>\n      <th>7</th>\n      <td>fc512_lr0.005_frozen.txt</td>\n      <td>0.619</td>\n      <td>0.578</td>\n    </tr>\n    <tr>\n      <th>1</th>\n      <td>fc128_lr0.005_frozen.txt</td>\n      <td>0.619</td>\n      <td>0.544</td>\n    </tr>\n    <tr>\n      <th>3</th>\n      <td>fc256_lr0.0005_frozen.txt</td>\n      <td>0.617</td>\n      <td>0.564</td>\n    </tr>\n    <tr>\n      <th>0</th>\n      <td>fc128_lr0.0005_frozen.txt</td>\n      <td>0.615</td>\n      <td>0.560</td>\n    </tr>\n    <tr>\n      <th>6</th>\n      <td>fc512_lr0.0005_frozen.txt</td>\n      <td>0.615</td>\n      <td>0.570</td>\n    </tr>\n    <tr>\n      <th>4</th>\n      <td>fc256_lr0.005_frozen.txt</td>\n      <td>0.612</td>\n      <td>0.543</td>\n    </tr>\n    <tr>\n      <th>5</th>\n      <td>fc256_lr0.05_frozen.txt</td>\n      <td>0.513</td>\n      <td>0.483</td>\n    </tr>\n    <tr>\n      <th>2</th>\n      <td>fc128_lr0.05_frozen.txt</td>\n      <td>0.488</td>\n      <td>0.438</td>\n    </tr>\n    <tr>\n      <th>8</th>\n      <td>fc512_lr0.05_frozen.txt</td>\n      <td>0.478</td>\n      <td>0.427</td>\n    </tr>\n  </tbody>\n</table>\n</div>"
     },
     "metadata": {},
     "output_type": "display_data"
    },
    {
     "name": "stdout",
     "output_type": "stream",
     "text": [
      "\t> translate_test_mbert\n"
     ]
    },
    {
     "data": {
      "text/plain": "                     logfile  dev F1  test F1\n1   fc128_lr0.005_frozen.txt   0.603    0.560\n4   fc256_lr0.005_frozen.txt   0.593    0.548\n6  fc512_lr0.0005_frozen.txt   0.586    0.549\n7   fc512_lr0.005_frozen.txt   0.585    0.532\n0  fc128_lr0.0005_frozen.txt   0.579    0.561\n3  fc256_lr0.0005_frozen.txt   0.574    0.540\n8    fc512_lr0.05_frozen.txt   0.488    0.418\n5    fc256_lr0.05_frozen.txt   0.473    0.421\n2    fc128_lr0.05_frozen.txt   0.441    0.365",
      "text/html": "<div>\n<style scoped>\n    .dataframe tbody tr th:only-of-type {\n        vertical-align: middle;\n    }\n\n    .dataframe tbody tr th {\n        vertical-align: top;\n    }\n\n    .dataframe thead th {\n        text-align: right;\n    }\n</style>\n<table border=\"1\" class=\"dataframe\">\n  <thead>\n    <tr style=\"text-align: right;\">\n      <th></th>\n      <th>logfile</th>\n      <th>dev F1</th>\n      <th>test F1</th>\n    </tr>\n  </thead>\n  <tbody>\n    <tr>\n      <th>1</th>\n      <td>fc128_lr0.005_frozen.txt</td>\n      <td>0.603</td>\n      <td>0.560</td>\n    </tr>\n    <tr>\n      <th>4</th>\n      <td>fc256_lr0.005_frozen.txt</td>\n      <td>0.593</td>\n      <td>0.548</td>\n    </tr>\n    <tr>\n      <th>6</th>\n      <td>fc512_lr0.0005_frozen.txt</td>\n      <td>0.586</td>\n      <td>0.549</td>\n    </tr>\n    <tr>\n      <th>7</th>\n      <td>fc512_lr0.005_frozen.txt</td>\n      <td>0.585</td>\n      <td>0.532</td>\n    </tr>\n    <tr>\n      <th>0</th>\n      <td>fc128_lr0.0005_frozen.txt</td>\n      <td>0.579</td>\n      <td>0.561</td>\n    </tr>\n    <tr>\n      <th>3</th>\n      <td>fc256_lr0.0005_frozen.txt</td>\n      <td>0.574</td>\n      <td>0.540</td>\n    </tr>\n    <tr>\n      <th>8</th>\n      <td>fc512_lr0.05_frozen.txt</td>\n      <td>0.488</td>\n      <td>0.418</td>\n    </tr>\n    <tr>\n      <th>5</th>\n      <td>fc256_lr0.05_frozen.txt</td>\n      <td>0.473</td>\n      <td>0.421</td>\n    </tr>\n    <tr>\n      <th>2</th>\n      <td>fc128_lr0.05_frozen.txt</td>\n      <td>0.441</td>\n      <td>0.365</td>\n    </tr>\n  </tbody>\n</table>\n</div>"
     },
     "metadata": {},
     "output_type": "display_data"
    },
    {
     "name": "stdout",
     "output_type": "stream",
     "text": [
      "\t> translate_train_mbert\n"
     ]
    },
    {
     "data": {
      "text/plain": "                     logfile  dev F1  test F1\n6  fc512_lr0.0005_frozen.txt   0.587    0.560\n1   fc128_lr0.005_frozen.txt   0.578    0.551\n4   fc256_lr0.005_frozen.txt   0.577    0.545\n3  fc256_lr0.0005_frozen.txt   0.575    0.551\n0  fc128_lr0.0005_frozen.txt   0.573    0.551\n7   fc512_lr0.005_frozen.txt   0.566    0.549\n5    fc256_lr0.05_frozen.txt   0.462    0.380\n2    fc128_lr0.05_frozen.txt   0.441    0.365\n8    fc512_lr0.05_frozen.txt   0.441    0.365",
      "text/html": "<div>\n<style scoped>\n    .dataframe tbody tr th:only-of-type {\n        vertical-align: middle;\n    }\n\n    .dataframe tbody tr th {\n        vertical-align: top;\n    }\n\n    .dataframe thead th {\n        text-align: right;\n    }\n</style>\n<table border=\"1\" class=\"dataframe\">\n  <thead>\n    <tr style=\"text-align: right;\">\n      <th></th>\n      <th>logfile</th>\n      <th>dev F1</th>\n      <th>test F1</th>\n    </tr>\n  </thead>\n  <tbody>\n    <tr>\n      <th>6</th>\n      <td>fc512_lr0.0005_frozen.txt</td>\n      <td>0.587</td>\n      <td>0.560</td>\n    </tr>\n    <tr>\n      <th>1</th>\n      <td>fc128_lr0.005_frozen.txt</td>\n      <td>0.578</td>\n      <td>0.551</td>\n    </tr>\n    <tr>\n      <th>4</th>\n      <td>fc256_lr0.005_frozen.txt</td>\n      <td>0.577</td>\n      <td>0.545</td>\n    </tr>\n    <tr>\n      <th>3</th>\n      <td>fc256_lr0.0005_frozen.txt</td>\n      <td>0.575</td>\n      <td>0.551</td>\n    </tr>\n    <tr>\n      <th>0</th>\n      <td>fc128_lr0.0005_frozen.txt</td>\n      <td>0.573</td>\n      <td>0.551</td>\n    </tr>\n    <tr>\n      <th>7</th>\n      <td>fc512_lr0.005_frozen.txt</td>\n      <td>0.566</td>\n      <td>0.549</td>\n    </tr>\n    <tr>\n      <th>5</th>\n      <td>fc256_lr0.05_frozen.txt</td>\n      <td>0.462</td>\n      <td>0.380</td>\n    </tr>\n    <tr>\n      <th>2</th>\n      <td>fc128_lr0.05_frozen.txt</td>\n      <td>0.441</td>\n      <td>0.365</td>\n    </tr>\n    <tr>\n      <th>8</th>\n      <td>fc512_lr0.05_frozen.txt</td>\n      <td>0.441</td>\n      <td>0.365</td>\n    </tr>\n  </tbody>\n</table>\n</div>"
     },
     "metadata": {},
     "output_type": "display_data"
    }
   ],
   "source": [
    "for folder in ['enbg', 'enar']:\n",
    "    print(f'*** {folder} ***')\n",
    "    subfolders = os.listdir(os.path.join(LOGDIR, folder, 'zero'))\n",
    "    for subfolder in subfolders:\n",
    "        print(f'\\t> {subfolder}')\n",
    "        lognames, dev_scores, test_scores = [], [], []\n",
    "        logfilenames = os.listdir(os.path.join(LOGDIR, folder, 'zero', subfolder))\n",
    "        for fname in logfilenames:\n",
    "            fpath = os.path.join(LOGDIR, folder, 'zero', subfolder, fname)\n",
    "            scores = get_scores(fpath=fpath)\n",
    "            lognames.append(fname)\n",
    "            dev_scores.append(scores['dev'])\n",
    "            test_scores.append(scores['test'])\n",
    "        display(\n",
    "            pd.DataFrame({'logfile': lognames, 'dev F1': dev_scores, 'test F1': test_scores}).sort_values(by=['dev F1'],\n",
    "                                                                                                          ascending=False).round(\n",
    "                3))"
   ],
   "metadata": {
    "collapsed": false,
    "pycharm": {
     "name": "#%%\n"
    }
   }
  },
  {
   "cell_type": "code",
   "execution_count": 4,
   "outputs": [],
   "source": [],
   "metadata": {
    "collapsed": false,
    "pycharm": {
     "name": "#%%\n"
    }
   }
  }
 ],
 "metadata": {
  "kernelspec": {
   "display_name": "Python 3",
   "language": "python",
   "name": "python3"
  },
  "language_info": {
   "codemirror_mode": {
    "name": "ipython",
    "version": 2
   },
   "file_extension": ".py",
   "mimetype": "text/x-python",
   "name": "python",
   "nbconvert_exporter": "python",
   "pygments_lexer": "ipython2",
   "version": "2.7.6"
  }
 },
 "nbformat": 4,
 "nbformat_minor": 0
}