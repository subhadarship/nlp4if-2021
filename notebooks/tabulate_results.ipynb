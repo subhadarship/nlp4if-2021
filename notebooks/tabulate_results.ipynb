{
 "cells": [
  {
   "cell_type": "markdown",
   "source": [
    "# Tabulate results\n"
   ],
   "metadata": {
    "collapsed": false
   }
  },
  {
   "cell_type": "code",
   "execution_count": 1,
   "outputs": [],
   "source": [
    "import os\n",
    "import sys\n",
    "\n",
    "import pandas as pd\n",
    "from tabulate import tabulate\n",
    "from tqdm import tqdm\n",
    "sys.path.append('../src')\n",
    "from read_log_file import read_log_file"
   ],
   "metadata": {
    "collapsed": false,
    "pycharm": {
     "name": "#%%\n"
    }
   }
  },
  {
   "cell_type": "code",
   "execution_count": 2,
   "outputs": [],
   "source": [
    "LOG_HOME_DIR = os.path.join('../logs/')\n",
    "assert os.path.isdir(LOG_HOME_DIR)"
   ],
   "metadata": {
    "collapsed": false,
    "pycharm": {
     "name": "#%%\n"
    }
   }
  },
  {
   "cell_type": "code",
   "execution_count": 3,
   "outputs": [],
   "source": [
    "MODEL_NAMES = ['logistic_regression', 'transformer_encoder', 'bert-base-uncased', 'bert-base-multilingual-cased']"
   ],
   "metadata": {
    "collapsed": false,
    "pycharm": {
     "name": "#%%\n"
    }
   }
  },
  {
   "cell_type": "code",
   "execution_count": 4,
   "outputs": [],
   "source": [
    "SETUPS = ['zero', 'few50', 'few100', 'few150', 'few200', 'full', 'trg']"
   ],
   "metadata": {
    "collapsed": false,
    "pycharm": {
     "name": "#%%\n"
    }
   }
  },
  {
   "cell_type": "code",
   "execution_count": 5,
   "outputs": [],
   "source": [
    "def get_best_score_from_dict(di: dict) -> dict:\n",
    "    \"\"\"Get max value from a dict\"\"\"\n",
    "    keys_with_max_val = []\n",
    "    # find max value\n",
    "    max_val = -float('inf')\n",
    "    for k, v in di.items():\n",
    "        if v > max_val:\n",
    "            max_val = v\n",
    "    # find all keys with max value\n",
    "    for k, v in di.items():\n",
    "        if v == max_val:\n",
    "            keys_with_max_val.append(k)\n",
    "    return {\n",
    "        'k': keys_with_max_val,\n",
    "        'v': max_val,\n",
    "    }"
   ],
   "metadata": {
    "collapsed": false,
    "pycharm": {
     "name": "#%%\n"
    }
   }
  },
  {
   "cell_type": "code",
   "execution_count": 6,
   "outputs": [],
   "source": [
    "def create_best_results_df(langs: str) -> pd.DataFrame:\n",
    "    results_dict = {}\n",
    "    for model_name in MODEL_NAMES:\n",
    "        results_dict[model_name] = {}\n",
    "        log_dir = os.path.join(LOG_HOME_DIR, langs, model_name)\n",
    "        log_filenames = os.listdir(log_dir)\n",
    "        for fname in log_filenames:\n",
    "            results_dict[model_name][fname] = read_log_file(\n",
    "                log_file_path=os.path.join(log_dir, fname),\n",
    "                plot=False,\n",
    "                verbose=False,\n",
    "            )['best_val_metrics']['f1']\n",
    "\n",
    "    best_results_dict = {'Setup': SETUPS}\n",
    "    best_results_dict.update({model_name: [] for model_name in MODEL_NAMES})\n",
    "    for model_name in MODEL_NAMES:\n",
    "        for setup in SETUPS:\n",
    "            best_results_dict[model_name].append(\n",
    "                get_best_score_from_dict(\n",
    "                    {k: v for k, v in results_dict[model_name].items() if k.startswith(f'{setup}_')}\n",
    "                )['v']\n",
    "            )\n",
    "\n",
    "    best_results_df = pd.DataFrame(best_results_dict)\n",
    "    return best_results_df"
   ],
   "metadata": {
    "collapsed": false,
    "pycharm": {
     "name": "#%%\n"
    }
   }
  },
  {
   "cell_type": "code",
   "execution_count": 7,
   "outputs": [],
   "source": [
    "def highlight_best_score(df: pd.DataFrame) -> pd.DataFrame:\n",
    "    \"\"\"Highlight best score in each row\"\"\"\n",
    "    return df.style.apply(lambda x: ['background: red' if isinstance(v, float) and v == max(x.iloc[1:]) else '' for v in x], axis=1)"
   ],
   "metadata": {
    "collapsed": false,
    "pycharm": {
     "name": "#%%\n"
    }
   }
  },
  {
   "cell_type": "code",
   "execution_count": 8,
   "outputs": [],
   "source": [
    "def tabulate_markdown(df: pd.DataFrame) -> str:\n",
    "    \"\"\"Tabulate in markdown format and bold best scores in each row\"\"\"\n",
    "    df = df.round(4)\n",
    "    for model_name in MODEL_NAMES:\n",
    "        df[model_name] = df[model_name].astype(str)\n",
    "    for idx in range(len(df)):\n",
    "        max_val = max(float(df.iloc[idx][model_name]) for model_name in MODEL_NAMES)\n",
    "        for model_name in MODEL_NAMES:\n",
    "            cell_val = float(df.iloc[idx][model_name])\n",
    "            if cell_val == max_val:\n",
    "                df.at[idx, model_name] = f'**{cell_val}**'\n",
    "            else:\n",
    "                df.at[idx, model_name] = f'{cell_val}'\n",
    "\n",
    "    return tabulate(df, headers='keys', showindex=False, tablefmt='github')\n"
   ],
   "metadata": {
    "collapsed": false,
    "pycharm": {
     "name": "#%%\n"
    }
   }
  },
  {
   "cell_type": "code",
   "execution_count": 10,
   "outputs": [
    {
     "name": "stderr",
     "output_type": "stream",
     "text": [
      "100%|██████████| 2/2 [00:00<00:00,  2.60it/s]\n"
     ]
    }
   ],
   "source": [
    "best_results_dfs_dict = {}\n",
    "for langs in tqdm(['enbg', 'enar', 'bgen', 'bgar', 'aren', 'arbg'][:2]):\n",
    "    best_results_dfs_dict[langs] = create_best_results_df(langs)"
   ],
   "metadata": {
    "collapsed": false,
    "pycharm": {
     "name": "#%%\n"
    }
   }
  },
  {
   "cell_type": "markdown",
   "source": [
    "## en-bg"
   ],
   "metadata": {
    "collapsed": false
   }
  },
  {
   "cell_type": "code",
   "execution_count": 11,
   "outputs": [
    {
     "data": {
      "text/plain": "<pandas.io.formats.style.Styler at 0x20d10f2c748>",
      "text/html": "<style  type=\"text/css\" >\n#T_26ca11ec_960d_11eb_9805_a0cec835c16drow0_col4,#T_26ca11ec_960d_11eb_9805_a0cec835c16drow1_col4,#T_26ca11ec_960d_11eb_9805_a0cec835c16drow2_col4,#T_26ca11ec_960d_11eb_9805_a0cec835c16drow3_col4,#T_26ca11ec_960d_11eb_9805_a0cec835c16drow4_col4,#T_26ca11ec_960d_11eb_9805_a0cec835c16drow5_col4,#T_26ca11ec_960d_11eb_9805_a0cec835c16drow6_col4{\n            background:  red;\n        }</style><table id=\"T_26ca11ec_960d_11eb_9805_a0cec835c16d\" ><thead>    <tr>        <th class=\"blank level0\" ></th>        <th class=\"col_heading level0 col0\" >Setup</th>        <th class=\"col_heading level0 col1\" >logistic_regression</th>        <th class=\"col_heading level0 col2\" >transformer_encoder</th>        <th class=\"col_heading level0 col3\" >bert-base-uncased</th>        <th class=\"col_heading level0 col4\" >bert-base-multilingual-cased</th>    </tr></thead><tbody>\n                <tr>\n                        <th id=\"T_26ca11ec_960d_11eb_9805_a0cec835c16dlevel0_row0\" class=\"row_heading level0 row0\" >0</th>\n                        <td id=\"T_26ca11ec_960d_11eb_9805_a0cec835c16drow0_col0\" class=\"data row0 col0\" >zero</td>\n                        <td id=\"T_26ca11ec_960d_11eb_9805_a0cec835c16drow0_col1\" class=\"data row0 col1\" >0.369656</td>\n                        <td id=\"T_26ca11ec_960d_11eb_9805_a0cec835c16drow0_col2\" class=\"data row0 col2\" >0.803699</td>\n                        <td id=\"T_26ca11ec_960d_11eb_9805_a0cec835c16drow0_col3\" class=\"data row0 col3\" >0.802720</td>\n                        <td id=\"T_26ca11ec_960d_11eb_9805_a0cec835c16drow0_col4\" class=\"data row0 col4\" >0.810053</td>\n            </tr>\n            <tr>\n                        <th id=\"T_26ca11ec_960d_11eb_9805_a0cec835c16dlevel0_row1\" class=\"row_heading level0 row1\" >1</th>\n                        <td id=\"T_26ca11ec_960d_11eb_9805_a0cec835c16drow1_col0\" class=\"data row1 col0\" >few50</td>\n                        <td id=\"T_26ca11ec_960d_11eb_9805_a0cec835c16drow1_col1\" class=\"data row1 col1\" >0.775659</td>\n                        <td id=\"T_26ca11ec_960d_11eb_9805_a0cec835c16drow1_col2\" class=\"data row1 col2\" >0.799576</td>\n                        <td id=\"T_26ca11ec_960d_11eb_9805_a0cec835c16drow1_col3\" class=\"data row1 col3\" >0.810351</td>\n                        <td id=\"T_26ca11ec_960d_11eb_9805_a0cec835c16drow1_col4\" class=\"data row1 col4\" >0.818590</td>\n            </tr>\n            <tr>\n                        <th id=\"T_26ca11ec_960d_11eb_9805_a0cec835c16dlevel0_row2\" class=\"row_heading level0 row2\" >2</th>\n                        <td id=\"T_26ca11ec_960d_11eb_9805_a0cec835c16drow2_col0\" class=\"data row2 col0\" >few100</td>\n                        <td id=\"T_26ca11ec_960d_11eb_9805_a0cec835c16drow2_col1\" class=\"data row2 col1\" >0.781497</td>\n                        <td id=\"T_26ca11ec_960d_11eb_9805_a0cec835c16drow2_col2\" class=\"data row2 col2\" >0.810259</td>\n                        <td id=\"T_26ca11ec_960d_11eb_9805_a0cec835c16drow2_col3\" class=\"data row2 col3\" >0.816115</td>\n                        <td id=\"T_26ca11ec_960d_11eb_9805_a0cec835c16drow2_col4\" class=\"data row2 col4\" >0.822725</td>\n            </tr>\n            <tr>\n                        <th id=\"T_26ca11ec_960d_11eb_9805_a0cec835c16dlevel0_row3\" class=\"row_heading level0 row3\" >3</th>\n                        <td id=\"T_26ca11ec_960d_11eb_9805_a0cec835c16drow3_col0\" class=\"data row3 col0\" >few150</td>\n                        <td id=\"T_26ca11ec_960d_11eb_9805_a0cec835c16drow3_col1\" class=\"data row3 col1\" >0.795635</td>\n                        <td id=\"T_26ca11ec_960d_11eb_9805_a0cec835c16drow3_col2\" class=\"data row3 col2\" >0.819153</td>\n                        <td id=\"T_26ca11ec_960d_11eb_9805_a0cec835c16drow3_col3\" class=\"data row3 col3\" >0.818532</td>\n                        <td id=\"T_26ca11ec_960d_11eb_9805_a0cec835c16drow3_col4\" class=\"data row3 col4\" >0.820666</td>\n            </tr>\n            <tr>\n                        <th id=\"T_26ca11ec_960d_11eb_9805_a0cec835c16dlevel0_row4\" class=\"row_heading level0 row4\" >4</th>\n                        <td id=\"T_26ca11ec_960d_11eb_9805_a0cec835c16drow4_col0\" class=\"data row4 col0\" >few200</td>\n                        <td id=\"T_26ca11ec_960d_11eb_9805_a0cec835c16drow4_col1\" class=\"data row4 col1\" >0.807414</td>\n                        <td id=\"T_26ca11ec_960d_11eb_9805_a0cec835c16drow4_col2\" class=\"data row4 col2\" >0.819964</td>\n                        <td id=\"T_26ca11ec_960d_11eb_9805_a0cec835c16drow4_col3\" class=\"data row4 col3\" >0.815694</td>\n                        <td id=\"T_26ca11ec_960d_11eb_9805_a0cec835c16drow4_col4\" class=\"data row4 col4\" >0.824915</td>\n            </tr>\n            <tr>\n                        <th id=\"T_26ca11ec_960d_11eb_9805_a0cec835c16dlevel0_row5\" class=\"row_heading level0 row5\" >5</th>\n                        <td id=\"T_26ca11ec_960d_11eb_9805_a0cec835c16drow5_col0\" class=\"data row5 col0\" >full</td>\n                        <td id=\"T_26ca11ec_960d_11eb_9805_a0cec835c16drow5_col1\" class=\"data row5 col1\" >0.812499</td>\n                        <td id=\"T_26ca11ec_960d_11eb_9805_a0cec835c16drow5_col2\" class=\"data row5 col2\" >0.814600</td>\n                        <td id=\"T_26ca11ec_960d_11eb_9805_a0cec835c16drow5_col3\" class=\"data row5 col3\" >0.822458</td>\n                        <td id=\"T_26ca11ec_960d_11eb_9805_a0cec835c16drow5_col4\" class=\"data row5 col4\" >0.833575</td>\n            </tr>\n            <tr>\n                        <th id=\"T_26ca11ec_960d_11eb_9805_a0cec835c16dlevel0_row6\" class=\"row_heading level0 row6\" >6</th>\n                        <td id=\"T_26ca11ec_960d_11eb_9805_a0cec835c16drow6_col0\" class=\"data row6 col0\" >trg</td>\n                        <td id=\"T_26ca11ec_960d_11eb_9805_a0cec835c16drow6_col1\" class=\"data row6 col1\" >0.813775</td>\n                        <td id=\"T_26ca11ec_960d_11eb_9805_a0cec835c16drow6_col2\" class=\"data row6 col2\" >0.809617</td>\n                        <td id=\"T_26ca11ec_960d_11eb_9805_a0cec835c16drow6_col3\" class=\"data row6 col3\" >0.821763</td>\n                        <td id=\"T_26ca11ec_960d_11eb_9805_a0cec835c16drow6_col4\" class=\"data row6 col4\" >0.843117</td>\n            </tr>\n    </tbody></table>"
     },
     "execution_count": 11,
     "metadata": {},
     "output_type": "execute_result"
    }
   ],
   "source": [
    "highlight_best_score(best_results_dfs_dict['enbg'])"
   ],
   "metadata": {
    "collapsed": false,
    "pycharm": {
     "name": "#%%\n"
    }
   }
  },
  {
   "cell_type": "code",
   "execution_count": 12,
   "outputs": [
    {
     "name": "stdout",
     "output_type": "stream",
     "text": [
      "| Setup   |   logistic_regression |   transformer_encoder |   bert-base-uncased | bert-base-multilingual-cased   |\n",
      "|---------|-----------------------|-----------------------|---------------------|--------------------------------|\n",
      "| zero    |                0.3697 |                0.8037 |              0.8027 | **0.8101**                     |\n",
      "| few50   |                0.7757 |                0.7996 |              0.8104 | **0.8186**                     |\n",
      "| few100  |                0.7815 |                0.8103 |              0.8161 | **0.8227**                     |\n",
      "| few150  |                0.7956 |                0.8192 |              0.8185 | **0.8207**                     |\n",
      "| few200  |                0.8074 |                0.82   |              0.8157 | **0.8249**                     |\n",
      "| full    |                0.8125 |                0.8146 |              0.8225 | **0.8336**                     |\n",
      "| trg     |                0.8138 |                0.8096 |              0.8218 | **0.8431**                     |\n"
     ]
    }
   ],
   "source": [
    "print(tabulate_markdown(best_results_dfs_dict['enbg']))"
   ],
   "metadata": {
    "collapsed": false,
    "pycharm": {
     "name": "#%%\n"
    }
   }
  },
  {
   "cell_type": "markdown",
   "source": [
    "## en-ar"
   ],
   "metadata": {
    "collapsed": false
   }
  },
  {
   "cell_type": "code",
   "execution_count": 13,
   "outputs": [
    {
     "data": {
      "text/plain": "<pandas.io.formats.style.Styler at 0x20d1113fe48>",
      "text/html": "<style  type=\"text/css\" >\n#T_28efab8a_960d_11eb_90ec_a0cec835c16drow0_col4,#T_28efab8a_960d_11eb_90ec_a0cec835c16drow1_col4,#T_28efab8a_960d_11eb_90ec_a0cec835c16drow2_col4,#T_28efab8a_960d_11eb_90ec_a0cec835c16drow3_col4,#T_28efab8a_960d_11eb_90ec_a0cec835c16drow4_col4,#T_28efab8a_960d_11eb_90ec_a0cec835c16drow5_col4,#T_28efab8a_960d_11eb_90ec_a0cec835c16drow6_col4{\n            background:  red;\n        }</style><table id=\"T_28efab8a_960d_11eb_90ec_a0cec835c16d\" ><thead>    <tr>        <th class=\"blank level0\" ></th>        <th class=\"col_heading level0 col0\" >Setup</th>        <th class=\"col_heading level0 col1\" >logistic_regression</th>        <th class=\"col_heading level0 col2\" >transformer_encoder</th>        <th class=\"col_heading level0 col3\" >bert-base-uncased</th>        <th class=\"col_heading level0 col4\" >bert-base-multilingual-cased</th>    </tr></thead><tbody>\n                <tr>\n                        <th id=\"T_28efab8a_960d_11eb_90ec_a0cec835c16dlevel0_row0\" class=\"row_heading level0 row0\" >0</th>\n                        <td id=\"T_28efab8a_960d_11eb_90ec_a0cec835c16drow0_col0\" class=\"data row0 col0\" >zero</td>\n                        <td id=\"T_28efab8a_960d_11eb_90ec_a0cec835c16drow0_col1\" class=\"data row0 col1\" >0.422418</td>\n                        <td id=\"T_28efab8a_960d_11eb_90ec_a0cec835c16drow0_col2\" class=\"data row0 col2\" >0.584852</td>\n                        <td id=\"T_28efab8a_960d_11eb_90ec_a0cec835c16drow0_col3\" class=\"data row0 col3\" >0.598659</td>\n                        <td id=\"T_28efab8a_960d_11eb_90ec_a0cec835c16drow0_col4\" class=\"data row0 col4\" >0.672059</td>\n            </tr>\n            <tr>\n                        <th id=\"T_28efab8a_960d_11eb_90ec_a0cec835c16dlevel0_row1\" class=\"row_heading level0 row1\" >1</th>\n                        <td id=\"T_28efab8a_960d_11eb_90ec_a0cec835c16drow1_col0\" class=\"data row1 col0\" >few50</td>\n                        <td id=\"T_28efab8a_960d_11eb_90ec_a0cec835c16drow1_col1\" class=\"data row1 col1\" >0.727199</td>\n                        <td id=\"T_28efab8a_960d_11eb_90ec_a0cec835c16drow1_col2\" class=\"data row1 col2\" >0.689753</td>\n                        <td id=\"T_28efab8a_960d_11eb_90ec_a0cec835c16drow1_col3\" class=\"data row1 col3\" >0.675045</td>\n                        <td id=\"T_28efab8a_960d_11eb_90ec_a0cec835c16drow1_col4\" class=\"data row1 col4\" >0.774892</td>\n            </tr>\n            <tr>\n                        <th id=\"T_28efab8a_960d_11eb_90ec_a0cec835c16dlevel0_row2\" class=\"row_heading level0 row2\" >2</th>\n                        <td id=\"T_28efab8a_960d_11eb_90ec_a0cec835c16drow2_col0\" class=\"data row2 col0\" >few100</td>\n                        <td id=\"T_28efab8a_960d_11eb_90ec_a0cec835c16drow2_col1\" class=\"data row2 col1\" >0.743307</td>\n                        <td id=\"T_28efab8a_960d_11eb_90ec_a0cec835c16drow2_col2\" class=\"data row2 col2\" >0.685501</td>\n                        <td id=\"T_28efab8a_960d_11eb_90ec_a0cec835c16drow2_col3\" class=\"data row2 col3\" >0.691503</td>\n                        <td id=\"T_28efab8a_960d_11eb_90ec_a0cec835c16drow2_col4\" class=\"data row2 col4\" >0.824014</td>\n            </tr>\n            <tr>\n                        <th id=\"T_28efab8a_960d_11eb_90ec_a0cec835c16dlevel0_row3\" class=\"row_heading level0 row3\" >3</th>\n                        <td id=\"T_28efab8a_960d_11eb_90ec_a0cec835c16drow3_col0\" class=\"data row3 col0\" >few150</td>\n                        <td id=\"T_28efab8a_960d_11eb_90ec_a0cec835c16drow3_col1\" class=\"data row3 col1\" >0.718456</td>\n                        <td id=\"T_28efab8a_960d_11eb_90ec_a0cec835c16drow3_col2\" class=\"data row3 col2\" >0.688997</td>\n                        <td id=\"T_28efab8a_960d_11eb_90ec_a0cec835c16drow3_col3\" class=\"data row3 col3\" >0.697930</td>\n                        <td id=\"T_28efab8a_960d_11eb_90ec_a0cec835c16drow3_col4\" class=\"data row3 col4\" >0.791109</td>\n            </tr>\n            <tr>\n                        <th id=\"T_28efab8a_960d_11eb_90ec_a0cec835c16dlevel0_row4\" class=\"row_heading level0 row4\" >4</th>\n                        <td id=\"T_28efab8a_960d_11eb_90ec_a0cec835c16drow4_col0\" class=\"data row4 col0\" >few200</td>\n                        <td id=\"T_28efab8a_960d_11eb_90ec_a0cec835c16drow4_col1\" class=\"data row4 col1\" >0.747128</td>\n                        <td id=\"T_28efab8a_960d_11eb_90ec_a0cec835c16drow4_col2\" class=\"data row4 col2\" >0.739566</td>\n                        <td id=\"T_28efab8a_960d_11eb_90ec_a0cec835c16drow4_col3\" class=\"data row4 col3\" >0.711928</td>\n                        <td id=\"T_28efab8a_960d_11eb_90ec_a0cec835c16drow4_col4\" class=\"data row4 col4\" >0.786594</td>\n            </tr>\n            <tr>\n                        <th id=\"T_28efab8a_960d_11eb_90ec_a0cec835c16dlevel0_row5\" class=\"row_heading level0 row5\" >5</th>\n                        <td id=\"T_28efab8a_960d_11eb_90ec_a0cec835c16drow5_col0\" class=\"data row5 col0\" >full</td>\n                        <td id=\"T_28efab8a_960d_11eb_90ec_a0cec835c16drow5_col1\" class=\"data row5 col1\" >0.747128</td>\n                        <td id=\"T_28efab8a_960d_11eb_90ec_a0cec835c16drow5_col2\" class=\"data row5 col2\" >0.739566</td>\n                        <td id=\"T_28efab8a_960d_11eb_90ec_a0cec835c16drow5_col3\" class=\"data row5 col3\" >0.711928</td>\n                        <td id=\"T_28efab8a_960d_11eb_90ec_a0cec835c16drow5_col4\" class=\"data row5 col4\" >0.786594</td>\n            </tr>\n            <tr>\n                        <th id=\"T_28efab8a_960d_11eb_90ec_a0cec835c16dlevel0_row6\" class=\"row_heading level0 row6\" >6</th>\n                        <td id=\"T_28efab8a_960d_11eb_90ec_a0cec835c16drow6_col0\" class=\"data row6 col0\" >trg</td>\n                        <td id=\"T_28efab8a_960d_11eb_90ec_a0cec835c16drow6_col1\" class=\"data row6 col1\" >0.648866</td>\n                        <td id=\"T_28efab8a_960d_11eb_90ec_a0cec835c16drow6_col2\" class=\"data row6 col2\" >0.684390</td>\n                        <td id=\"T_28efab8a_960d_11eb_90ec_a0cec835c16drow6_col3\" class=\"data row6 col3\" >0.734822</td>\n                        <td id=\"T_28efab8a_960d_11eb_90ec_a0cec835c16drow6_col4\" class=\"data row6 col4\" >0.738182</td>\n            </tr>\n    </tbody></table>"
     },
     "execution_count": 13,
     "metadata": {},
     "output_type": "execute_result"
    }
   ],
   "source": [
    "highlight_best_score(best_results_dfs_dict['enar'])"
   ],
   "metadata": {
    "collapsed": false,
    "pycharm": {
     "name": "#%%\n"
    }
   }
  },
  {
   "cell_type": "code",
   "execution_count": 14,
   "outputs": [
    {
     "name": "stdout",
     "output_type": "stream",
     "text": [
      "| Setup   |   logistic_regression |   transformer_encoder |   bert-base-uncased | bert-base-multilingual-cased   |\n",
      "|---------|-----------------------|-----------------------|---------------------|--------------------------------|\n",
      "| zero    |                0.4224 |                0.5849 |              0.5987 | **0.6721**                     |\n",
      "| few50   |                0.7272 |                0.6898 |              0.675  | **0.7749**                     |\n",
      "| few100  |                0.7433 |                0.6855 |              0.6915 | **0.824**                      |\n",
      "| few150  |                0.7185 |                0.689  |              0.6979 | **0.7911**                     |\n",
      "| few200  |                0.7471 |                0.7396 |              0.7119 | **0.7866**                     |\n",
      "| full    |                0.7471 |                0.7396 |              0.7119 | **0.7866**                     |\n",
      "| trg     |                0.6489 |                0.6844 |              0.7348 | **0.7382**                     |\n"
     ]
    }
   ],
   "source": [
    "print(tabulate_markdown(best_results_dfs_dict['enar']))"
   ],
   "metadata": {
    "collapsed": false,
    "pycharm": {
     "name": "#%%\n"
    }
   }
  },
  {
   "cell_type": "markdown",
   "source": [
    "## bg-en"
   ],
   "metadata": {
    "collapsed": false
   }
  },
  {
   "cell_type": "code",
   "execution_count": 15,
   "outputs": [
    {
     "ename": "KeyError",
     "evalue": "'bgen'",
     "output_type": "error",
     "traceback": [
      "\u001B[1;31m---------------------------------------------------------------------------\u001B[0m",
      "\u001B[1;31mKeyError\u001B[0m                                  Traceback (most recent call last)",
      "\u001B[1;32m<ipython-input-15-82a17840154d>\u001B[0m in \u001B[0;36m<module>\u001B[1;34m\u001B[0m\n\u001B[1;32m----> 1\u001B[1;33m \u001B[0mhighlight_best_score\u001B[0m\u001B[1;33m(\u001B[0m\u001B[0mbest_results_dfs_dict\u001B[0m\u001B[1;33m[\u001B[0m\u001B[1;34m'bgen'\u001B[0m\u001B[1;33m]\u001B[0m\u001B[1;33m)\u001B[0m\u001B[1;33m\u001B[0m\u001B[1;33m\u001B[0m\u001B[0m\n\u001B[0m\u001B[0;32m      2\u001B[0m \u001B[1;33m\u001B[0m\u001B[0m\n",
      "\u001B[1;31mKeyError\u001B[0m: 'bgen'"
     ]
    }
   ],
   "source": [
    "highlight_best_score(best_results_dfs_dict['bgen'])"
   ],
   "metadata": {
    "collapsed": false,
    "pycharm": {
     "name": "#%%\n"
    }
   }
  },
  {
   "cell_type": "code",
   "execution_count": 16,
   "outputs": [
    {
     "ename": "KeyError",
     "evalue": "'bgen'",
     "output_type": "error",
     "traceback": [
      "\u001B[1;31m---------------------------------------------------------------------------\u001B[0m",
      "\u001B[1;31mKeyError\u001B[0m                                  Traceback (most recent call last)",
      "\u001B[1;32m<ipython-input-16-7511c04887f2>\u001B[0m in \u001B[0;36m<module>\u001B[1;34m\u001B[0m\n\u001B[1;32m----> 1\u001B[1;33m \u001B[0mprint\u001B[0m\u001B[1;33m(\u001B[0m\u001B[0mtabulate_markdown\u001B[0m\u001B[1;33m(\u001B[0m\u001B[0mbest_results_dfs_dict\u001B[0m\u001B[1;33m[\u001B[0m\u001B[1;34m'bgen'\u001B[0m\u001B[1;33m]\u001B[0m\u001B[1;33m)\u001B[0m\u001B[1;33m)\u001B[0m\u001B[1;33m\u001B[0m\u001B[1;33m\u001B[0m\u001B[0m\n\u001B[0m\u001B[0;32m      2\u001B[0m \u001B[1;33m\u001B[0m\u001B[0m\n",
      "\u001B[1;31mKeyError\u001B[0m: 'bgen'"
     ]
    }
   ],
   "source": [
    "print(tabulate_markdown(best_results_dfs_dict['bgen']))"
   ],
   "metadata": {
    "collapsed": false,
    "pycharm": {
     "name": "#%%\n"
    }
   }
  },
  {
   "cell_type": "markdown",
   "source": [
    "## bg-ar"
   ],
   "metadata": {
    "collapsed": false
   }
  },
  {
   "cell_type": "code",
   "execution_count": 17,
   "outputs": [
    {
     "ename": "KeyError",
     "evalue": "'bgar'",
     "output_type": "error",
     "traceback": [
      "\u001B[1;31m---------------------------------------------------------------------------\u001B[0m",
      "\u001B[1;31mKeyError\u001B[0m                                  Traceback (most recent call last)",
      "\u001B[1;32m<ipython-input-17-4675e251920c>\u001B[0m in \u001B[0;36m<module>\u001B[1;34m\u001B[0m\n\u001B[1;32m----> 1\u001B[1;33m \u001B[0mhighlight_best_score\u001B[0m\u001B[1;33m(\u001B[0m\u001B[0mbest_results_dfs_dict\u001B[0m\u001B[1;33m[\u001B[0m\u001B[1;34m'bgar'\u001B[0m\u001B[1;33m]\u001B[0m\u001B[1;33m)\u001B[0m\u001B[1;33m\u001B[0m\u001B[1;33m\u001B[0m\u001B[0m\n\u001B[0m\u001B[0;32m      2\u001B[0m \u001B[1;33m\u001B[0m\u001B[0m\n",
      "\u001B[1;31mKeyError\u001B[0m: 'bgar'"
     ]
    }
   ],
   "source": [
    "highlight_best_score(best_results_dfs_dict['bgar'])"
   ],
   "metadata": {
    "collapsed": false,
    "pycharm": {
     "name": "#%%\n"
    }
   }
  },
  {
   "cell_type": "code",
   "execution_count": 18,
   "outputs": [
    {
     "ename": "KeyError",
     "evalue": "'bgar'",
     "output_type": "error",
     "traceback": [
      "\u001B[1;31m---------------------------------------------------------------------------\u001B[0m",
      "\u001B[1;31mKeyError\u001B[0m                                  Traceback (most recent call last)",
      "\u001B[1;32m<ipython-input-18-c8dab0a23133>\u001B[0m in \u001B[0;36m<module>\u001B[1;34m\u001B[0m\n\u001B[1;32m----> 1\u001B[1;33m \u001B[0mprint\u001B[0m\u001B[1;33m(\u001B[0m\u001B[0mtabulate_markdown\u001B[0m\u001B[1;33m(\u001B[0m\u001B[0mbest_results_dfs_dict\u001B[0m\u001B[1;33m[\u001B[0m\u001B[1;34m'bgar'\u001B[0m\u001B[1;33m]\u001B[0m\u001B[1;33m)\u001B[0m\u001B[1;33m)\u001B[0m\u001B[1;33m\u001B[0m\u001B[1;33m\u001B[0m\u001B[0m\n\u001B[0m\u001B[0;32m      2\u001B[0m \u001B[1;33m\u001B[0m\u001B[0m\n\u001B[0;32m      3\u001B[0m \u001B[1;33m\u001B[0m\u001B[0m\n",
      "\u001B[1;31mKeyError\u001B[0m: 'bgar'"
     ]
    }
   ],
   "source": [
    "print(tabulate_markdown(best_results_dfs_dict['bgar']))\n"
   ],
   "metadata": {
    "collapsed": false,
    "pycharm": {
     "name": "#%%\n"
    }
   }
  },
  {
   "cell_type": "markdown",
   "source": [
    "## ar-en"
   ],
   "metadata": {
    "collapsed": false
   }
  },
  {
   "cell_type": "code",
   "execution_count": 19,
   "outputs": [
    {
     "ename": "KeyError",
     "evalue": "'aren'",
     "output_type": "error",
     "traceback": [
      "\u001B[1;31m---------------------------------------------------------------------------\u001B[0m",
      "\u001B[1;31mKeyError\u001B[0m                                  Traceback (most recent call last)",
      "\u001B[1;32m<ipython-input-19-c5ab4809a068>\u001B[0m in \u001B[0;36m<module>\u001B[1;34m\u001B[0m\n\u001B[1;32m----> 1\u001B[1;33m \u001B[0mhighlight_best_score\u001B[0m\u001B[1;33m(\u001B[0m\u001B[0mbest_results_dfs_dict\u001B[0m\u001B[1;33m[\u001B[0m\u001B[1;34m'aren'\u001B[0m\u001B[1;33m]\u001B[0m\u001B[1;33m)\u001B[0m\u001B[1;33m\u001B[0m\u001B[1;33m\u001B[0m\u001B[0m\n\u001B[0m\u001B[0;32m      2\u001B[0m \u001B[1;33m\u001B[0m\u001B[0m\n",
      "\u001B[1;31mKeyError\u001B[0m: 'aren'"
     ]
    }
   ],
   "source": [
    "highlight_best_score(best_results_dfs_dict['aren'])"
   ],
   "metadata": {
    "collapsed": false,
    "pycharm": {
     "name": "#%%\n"
    }
   }
  },
  {
   "cell_type": "code",
   "execution_count": 20,
   "outputs": [
    {
     "ename": "KeyError",
     "evalue": "'aren'",
     "output_type": "error",
     "traceback": [
      "\u001B[1;31m---------------------------------------------------------------------------\u001B[0m",
      "\u001B[1;31mKeyError\u001B[0m                                  Traceback (most recent call last)",
      "\u001B[1;32m<ipython-input-20-f86c835495d8>\u001B[0m in \u001B[0;36m<module>\u001B[1;34m\u001B[0m\n\u001B[1;32m----> 1\u001B[1;33m \u001B[0mprint\u001B[0m\u001B[1;33m(\u001B[0m\u001B[0mtabulate_markdown\u001B[0m\u001B[1;33m(\u001B[0m\u001B[0mbest_results_dfs_dict\u001B[0m\u001B[1;33m[\u001B[0m\u001B[1;34m'aren'\u001B[0m\u001B[1;33m]\u001B[0m\u001B[1;33m)\u001B[0m\u001B[1;33m)\u001B[0m\u001B[1;33m\u001B[0m\u001B[1;33m\u001B[0m\u001B[0m\n\u001B[0m\u001B[0;32m      2\u001B[0m \u001B[1;33m\u001B[0m\u001B[0m\n",
      "\u001B[1;31mKeyError\u001B[0m: 'aren'"
     ]
    }
   ],
   "source": [
    "print(tabulate_markdown(best_results_dfs_dict['aren']))"
   ],
   "metadata": {
    "collapsed": false,
    "pycharm": {
     "name": "#%%\n"
    }
   }
  },
  {
   "cell_type": "markdown",
   "source": [
    "## ar-bg"
   ],
   "metadata": {
    "collapsed": false
   }
  },
  {
   "cell_type": "code",
   "execution_count": 21,
   "outputs": [
    {
     "ename": "KeyError",
     "evalue": "'arbg'",
     "output_type": "error",
     "traceback": [
      "\u001B[1;31m---------------------------------------------------------------------------\u001B[0m",
      "\u001B[1;31mKeyError\u001B[0m                                  Traceback (most recent call last)",
      "\u001B[1;32m<ipython-input-21-22c2ac5142f6>\u001B[0m in \u001B[0;36m<module>\u001B[1;34m\u001B[0m\n\u001B[1;32m----> 1\u001B[1;33m \u001B[0mhighlight_best_score\u001B[0m\u001B[1;33m(\u001B[0m\u001B[0mbest_results_dfs_dict\u001B[0m\u001B[1;33m[\u001B[0m\u001B[1;34m'arbg'\u001B[0m\u001B[1;33m]\u001B[0m\u001B[1;33m)\u001B[0m\u001B[1;33m\u001B[0m\u001B[1;33m\u001B[0m\u001B[0m\n\u001B[0m\u001B[0;32m      2\u001B[0m \u001B[1;33m\u001B[0m\u001B[0m\n",
      "\u001B[1;31mKeyError\u001B[0m: 'arbg'"
     ]
    }
   ],
   "source": [
    "highlight_best_score(best_results_dfs_dict['arbg'])"
   ],
   "metadata": {
    "collapsed": false,
    "pycharm": {
     "name": "#%%\n"
    }
   }
  },
  {
   "cell_type": "code",
   "execution_count": 22,
   "outputs": [
    {
     "ename": "KeyError",
     "evalue": "'arbg'",
     "output_type": "error",
     "traceback": [
      "\u001B[1;31m---------------------------------------------------------------------------\u001B[0m",
      "\u001B[1;31mKeyError\u001B[0m                                  Traceback (most recent call last)",
      "\u001B[1;32m<ipython-input-22-87657371b757>\u001B[0m in \u001B[0;36m<module>\u001B[1;34m\u001B[0m\n\u001B[1;32m----> 1\u001B[1;33m \u001B[0mprint\u001B[0m\u001B[1;33m(\u001B[0m\u001B[0mtabulate_markdown\u001B[0m\u001B[1;33m(\u001B[0m\u001B[0mbest_results_dfs_dict\u001B[0m\u001B[1;33m[\u001B[0m\u001B[1;34m'arbg'\u001B[0m\u001B[1;33m]\u001B[0m\u001B[1;33m)\u001B[0m\u001B[1;33m)\u001B[0m\u001B[1;33m\u001B[0m\u001B[1;33m\u001B[0m\u001B[0m\n\u001B[0m\u001B[0;32m      2\u001B[0m \u001B[1;33m\u001B[0m\u001B[0m\n",
      "\u001B[1;31mKeyError\u001B[0m: 'arbg'"
     ]
    }
   ],
   "source": [
    "print(tabulate_markdown(best_results_dfs_dict['arbg']))"
   ],
   "metadata": {
    "collapsed": false,
    "pycharm": {
     "name": "#%%\n"
    }
   }
  },
  {
   "cell_type": "code",
   "execution_count": 21,
   "outputs": [],
   "source": [],
   "metadata": {
    "collapsed": false,
    "pycharm": {
     "name": "#%%\n"
    }
   }
  }
 ],
 "metadata": {
  "kernelspec": {
   "display_name": "Python 3",
   "language": "python",
   "name": "python3"
  },
  "language_info": {
   "codemirror_mode": {
    "name": "ipython",
    "version": 2
   },
   "file_extension": ".py",
   "mimetype": "text/x-python",
   "name": "python",
   "nbconvert_exporter": "python",
   "pygments_lexer": "ipython2",
   "version": "2.7.6"
  }
 },
 "nbformat": 4,
 "nbformat_minor": 0
}