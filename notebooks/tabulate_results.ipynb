{
 "cells": [
  {
   "cell_type": "markdown",
   "metadata": {
    "collapsed": true,
    "pycharm": {
     "name": "#%% md\n"
    }
   },
   "source": [
    "# Tabulate results\n"
   ]
  },
  {
   "cell_type": "code",
   "execution_count": 1,
   "outputs": [],
   "source": [
    "import sys\n",
    "from tqdm import tqdm\n",
    "import pandas as pd\n",
    "import os\n",
    "\n",
    "sys.path.append('../src')\n",
    "from read_log_file import read_log_file"
   ],
   "metadata": {
    "collapsed": false,
    "pycharm": {
     "name": "#%%\n"
    }
   }
  },
  {
   "cell_type": "code",
   "execution_count": 2,
   "outputs": [],
   "source": [
    "LOG_HOME_DIR = os.path.join('../logs/')\n",
    "assert os.path.isdir(LOG_HOME_DIR)"
   ],
   "metadata": {
    "collapsed": false,
    "pycharm": {
     "name": "#%%\n"
    }
   }
  },
  {
   "cell_type": "code",
   "execution_count": 3,
   "outputs": [],
   "source": [
    "MODEL_NAMES = ['logistic_regression', 'transformer_encoder', 'bert-base-uncased', 'bert-base-multilingual-cased']"
   ],
   "metadata": {
    "collapsed": false,
    "pycharm": {
     "name": "#%%\n"
    }
   }
  },
  {
   "cell_type": "code",
   "execution_count": 4,
   "outputs": [],
   "source": [
    "SETUPS = ['zero', 'few50', 'few100', 'few150', 'few200', 'full', 'trg']"
   ],
   "metadata": {
    "collapsed": false,
    "pycharm": {
     "name": "#%%\n"
    }
   }
  },
  {
   "cell_type": "code",
   "execution_count": 5,
   "outputs": [],
   "source": [
    "def get_best_score_from_dict(di: dict) -> dict:\n",
    "    \"\"\"Get max value from a dict\"\"\"\n",
    "    keys_with_max_val = []\n",
    "    # find max value\n",
    "    max_val = -float('inf')\n",
    "    for k, v in di.items():\n",
    "        if v > max_val:\n",
    "            max_val = v\n",
    "    # find all keys with max value\n",
    "    for k, v in di.items():\n",
    "        if v == max_val:\n",
    "            keys_with_max_val.append(k)\n",
    "    return {\n",
    "        'k': keys_with_max_val,\n",
    "        'v': max_val,\n",
    "    }"
   ],
   "metadata": {
    "collapsed": false,
    "pycharm": {
     "name": "#%%\n"
    }
   }
  },
  {
   "cell_type": "code",
   "execution_count": 6,
   "outputs": [],
   "source": [
    "def create_best_results_df(langs: str) -> pd.DataFrame:\n",
    "    results_dict = {}\n",
    "    for model_name in MODEL_NAMES:\n",
    "        results_dict[model_name] = {}\n",
    "        log_dir = os.path.join(LOG_HOME_DIR, langs, model_name)\n",
    "        log_filenames = os.listdir(log_dir)\n",
    "        for fname in log_filenames:\n",
    "            results_dict[model_name][fname] = read_log_file(\n",
    "                log_file_path=os.path.join(log_dir, fname),\n",
    "                plot=False,\n",
    "                verbose=False,\n",
    "            )['best_val_metrics']['f1']\n",
    "\n",
    "    best_results_dict = {'Setup': SETUPS}\n",
    "    best_results_dict.update({model_name: [] for model_name in MODEL_NAMES})\n",
    "    for model_name in MODEL_NAMES:\n",
    "        for setup in SETUPS:\n",
    "            best_results_dict[model_name].append(\n",
    "                get_best_score_from_dict(\n",
    "                    {k: v for k, v in results_dict[model_name].items() if k.startswith(f'{setup}_')}\n",
    "                )['v']\n",
    "            )\n",
    "\n",
    "    best_results_df = pd.DataFrame(best_results_dict)\n",
    "    return best_results_df"
   ],
   "metadata": {
    "collapsed": false,
    "pycharm": {
     "name": "#%%\n"
    }
   }
  },
  {
   "cell_type": "code",
   "execution_count": 7,
   "outputs": [],
   "source": [
    "def highlight_best_score(df: pd.DataFrame) -> pd.DataFrame:\n",
    "    return df.style.apply(lambda x: ['background: red' if isinstance(v, float) and v == max(x.iloc[1:]) else '' for v in x], axis=1)"
   ],
   "metadata": {
    "collapsed": false,
    "pycharm": {
     "name": "#%%\n"
    }
   }
  },
  {
   "cell_type": "code",
   "execution_count": 8,
   "outputs": [
    {
     "name": "stderr",
     "output_type": "stream",
     "text": [
      "100%|██████████| 6/6 [00:02<00:00,  2.84it/s]\n"
     ]
    }
   ],
   "source": [
    "best_results_dfs_dict = {}\n",
    "for langs in tqdm(['enbg', 'enar', 'bgen', 'bgar', 'aren', 'arbg']):\n",
    "    best_results_dfs_dict[langs] = create_best_results_df(langs)"
   ],
   "metadata": {
    "collapsed": false,
    "pycharm": {
     "name": "#%%\n"
    }
   }
  },
  {
   "cell_type": "markdown",
   "source": [
    "## en-bg"
   ],
   "metadata": {
    "collapsed": false
   }
  },
  {
   "cell_type": "code",
   "execution_count": 9,
   "outputs": [
    {
     "data": {
      "text/plain": "<pandas.io.formats.style.Styler at 0x269c5142b70>",
      "text/html": "<style  type=\"text/css\" >\n#T_28076ac6_8dc5_11eb_b00f_a0cec835c16drow0_col4,#T_28076ac6_8dc5_11eb_b00f_a0cec835c16drow1_col3,#T_28076ac6_8dc5_11eb_b00f_a0cec835c16drow2_col4,#T_28076ac6_8dc5_11eb_b00f_a0cec835c16drow3_col3,#T_28076ac6_8dc5_11eb_b00f_a0cec835c16drow4_col4,#T_28076ac6_8dc5_11eb_b00f_a0cec835c16drow5_col4,#T_28076ac6_8dc5_11eb_b00f_a0cec835c16drow6_col4{\n            background:  red;\n        }</style><table id=\"T_28076ac6_8dc5_11eb_b00f_a0cec835c16d\" ><thead>    <tr>        <th class=\"blank level0\" ></th>        <th class=\"col_heading level0 col0\" >Setup</th>        <th class=\"col_heading level0 col1\" >logistic_regression</th>        <th class=\"col_heading level0 col2\" >transformer_encoder</th>        <th class=\"col_heading level0 col3\" >bert-base-uncased</th>        <th class=\"col_heading level0 col4\" >bert-base-multilingual-cased</th>    </tr></thead><tbody>\n                <tr>\n                        <th id=\"T_28076ac6_8dc5_11eb_b00f_a0cec835c16dlevel0_row0\" class=\"row_heading level0 row0\" >0</th>\n                        <td id=\"T_28076ac6_8dc5_11eb_b00f_a0cec835c16drow0_col0\" class=\"data row0 col0\" >zero</td>\n                        <td id=\"T_28076ac6_8dc5_11eb_b00f_a0cec835c16drow0_col1\" class=\"data row0 col1\" >0.508343</td>\n                        <td id=\"T_28076ac6_8dc5_11eb_b00f_a0cec835c16drow0_col2\" class=\"data row0 col2\" >0.791592</td>\n                        <td id=\"T_28076ac6_8dc5_11eb_b00f_a0cec835c16drow0_col3\" class=\"data row0 col3\" >0.803166</td>\n                        <td id=\"T_28076ac6_8dc5_11eb_b00f_a0cec835c16drow0_col4\" class=\"data row0 col4\" >0.804159</td>\n            </tr>\n            <tr>\n                        <th id=\"T_28076ac6_8dc5_11eb_b00f_a0cec835c16dlevel0_row1\" class=\"row_heading level0 row1\" >1</th>\n                        <td id=\"T_28076ac6_8dc5_11eb_b00f_a0cec835c16drow1_col0\" class=\"data row1 col0\" >few50</td>\n                        <td id=\"T_28076ac6_8dc5_11eb_b00f_a0cec835c16drow1_col1\" class=\"data row1 col1\" >0.669023</td>\n                        <td id=\"T_28076ac6_8dc5_11eb_b00f_a0cec835c16drow1_col2\" class=\"data row1 col2\" >0.805915</td>\n                        <td id=\"T_28076ac6_8dc5_11eb_b00f_a0cec835c16drow1_col3\" class=\"data row1 col3\" >0.811297</td>\n                        <td id=\"T_28076ac6_8dc5_11eb_b00f_a0cec835c16drow1_col4\" class=\"data row1 col4\" >0.810629</td>\n            </tr>\n            <tr>\n                        <th id=\"T_28076ac6_8dc5_11eb_b00f_a0cec835c16dlevel0_row2\" class=\"row_heading level0 row2\" >2</th>\n                        <td id=\"T_28076ac6_8dc5_11eb_b00f_a0cec835c16drow2_col0\" class=\"data row2 col0\" >few100</td>\n                        <td id=\"T_28076ac6_8dc5_11eb_b00f_a0cec835c16drow2_col1\" class=\"data row2 col1\" >0.789056</td>\n                        <td id=\"T_28076ac6_8dc5_11eb_b00f_a0cec835c16drow2_col2\" class=\"data row2 col2\" >0.808465</td>\n                        <td id=\"T_28076ac6_8dc5_11eb_b00f_a0cec835c16drow2_col3\" class=\"data row2 col3\" >0.812350</td>\n                        <td id=\"T_28076ac6_8dc5_11eb_b00f_a0cec835c16drow2_col4\" class=\"data row2 col4\" >0.815694</td>\n            </tr>\n            <tr>\n                        <th id=\"T_28076ac6_8dc5_11eb_b00f_a0cec835c16dlevel0_row3\" class=\"row_heading level0 row3\" >3</th>\n                        <td id=\"T_28076ac6_8dc5_11eb_b00f_a0cec835c16drow3_col0\" class=\"data row3 col0\" >few150</td>\n                        <td id=\"T_28076ac6_8dc5_11eb_b00f_a0cec835c16drow3_col1\" class=\"data row3 col1\" >0.801440</td>\n                        <td id=\"T_28076ac6_8dc5_11eb_b00f_a0cec835c16drow3_col2\" class=\"data row3 col2\" >0.812891</td>\n                        <td id=\"T_28076ac6_8dc5_11eb_b00f_a0cec835c16drow3_col3\" class=\"data row3 col3\" >0.820823</td>\n                        <td id=\"T_28076ac6_8dc5_11eb_b00f_a0cec835c16drow3_col4\" class=\"data row3 col4\" >0.815002</td>\n            </tr>\n            <tr>\n                        <th id=\"T_28076ac6_8dc5_11eb_b00f_a0cec835c16dlevel0_row4\" class=\"row_heading level0 row4\" >4</th>\n                        <td id=\"T_28076ac6_8dc5_11eb_b00f_a0cec835c16drow4_col0\" class=\"data row4 col0\" >few200</td>\n                        <td id=\"T_28076ac6_8dc5_11eb_b00f_a0cec835c16drow4_col1\" class=\"data row4 col1\" >0.806709</td>\n                        <td id=\"T_28076ac6_8dc5_11eb_b00f_a0cec835c16drow4_col2\" class=\"data row4 col2\" >0.811863</td>\n                        <td id=\"T_28076ac6_8dc5_11eb_b00f_a0cec835c16drow4_col3\" class=\"data row4 col3\" >0.813044</td>\n                        <td id=\"T_28076ac6_8dc5_11eb_b00f_a0cec835c16drow4_col4\" class=\"data row4 col4\" >0.816025</td>\n            </tr>\n            <tr>\n                        <th id=\"T_28076ac6_8dc5_11eb_b00f_a0cec835c16dlevel0_row5\" class=\"row_heading level0 row5\" >5</th>\n                        <td id=\"T_28076ac6_8dc5_11eb_b00f_a0cec835c16drow5_col0\" class=\"data row5 col0\" >full</td>\n                        <td id=\"T_28076ac6_8dc5_11eb_b00f_a0cec835c16drow5_col1\" class=\"data row5 col1\" >0.817149</td>\n                        <td id=\"T_28076ac6_8dc5_11eb_b00f_a0cec835c16drow5_col2\" class=\"data row5 col2\" >0.812225</td>\n                        <td id=\"T_28076ac6_8dc5_11eb_b00f_a0cec835c16drow5_col3\" class=\"data row5 col3\" >0.819922</td>\n                        <td id=\"T_28076ac6_8dc5_11eb_b00f_a0cec835c16drow5_col4\" class=\"data row5 col4\" >0.826783</td>\n            </tr>\n            <tr>\n                        <th id=\"T_28076ac6_8dc5_11eb_b00f_a0cec835c16dlevel0_row6\" class=\"row_heading level0 row6\" >6</th>\n                        <td id=\"T_28076ac6_8dc5_11eb_b00f_a0cec835c16drow6_col0\" class=\"data row6 col0\" >trg</td>\n                        <td id=\"T_28076ac6_8dc5_11eb_b00f_a0cec835c16drow6_col1\" class=\"data row6 col1\" >0.813775</td>\n                        <td id=\"T_28076ac6_8dc5_11eb_b00f_a0cec835c16drow6_col2\" class=\"data row6 col2\" >0.809617</td>\n                        <td id=\"T_28076ac6_8dc5_11eb_b00f_a0cec835c16drow6_col3\" class=\"data row6 col3\" >0.820598</td>\n                        <td id=\"T_28076ac6_8dc5_11eb_b00f_a0cec835c16drow6_col4\" class=\"data row6 col4\" >0.825151</td>\n            </tr>\n    </tbody></table>"
     },
     "execution_count": 9,
     "metadata": {},
     "output_type": "execute_result"
    }
   ],
   "source": [
    "highlight_best_score(best_results_dfs_dict['enbg'])"
   ],
   "metadata": {
    "collapsed": false,
    "pycharm": {
     "name": "#%%\n"
    }
   }
  },
  {
   "cell_type": "code",
   "execution_count": 10,
   "outputs": [],
   "source": [
    "best_results_dfs_dict['enbg'].round(4).to_clipboard(index=False)"
   ],
   "metadata": {
    "collapsed": false,
    "pycharm": {
     "name": "#%%\n"
    }
   }
  },
  {
   "cell_type": "markdown",
   "source": [
    "## en-ar"
   ],
   "metadata": {
    "collapsed": false
   }
  },
  {
   "cell_type": "code",
   "execution_count": 11,
   "outputs": [
    {
     "data": {
      "text/plain": "<pandas.io.formats.style.Styler at 0x269c54e8128>",
      "text/html": "<style  type=\"text/css\" >\n#T_2810e40c_8dc5_11eb_9bad_a0cec835c16drow0_col4,#T_2810e40c_8dc5_11eb_9bad_a0cec835c16drow1_col4,#T_2810e40c_8dc5_11eb_9bad_a0cec835c16drow2_col4,#T_2810e40c_8dc5_11eb_9bad_a0cec835c16drow3_col4,#T_2810e40c_8dc5_11eb_9bad_a0cec835c16drow4_col2,#T_2810e40c_8dc5_11eb_9bad_a0cec835c16drow5_col2,#T_2810e40c_8dc5_11eb_9bad_a0cec835c16drow6_col4{\n            background:  red;\n        }</style><table id=\"T_2810e40c_8dc5_11eb_9bad_a0cec835c16d\" ><thead>    <tr>        <th class=\"blank level0\" ></th>        <th class=\"col_heading level0 col0\" >Setup</th>        <th class=\"col_heading level0 col1\" >logistic_regression</th>        <th class=\"col_heading level0 col2\" >transformer_encoder</th>        <th class=\"col_heading level0 col3\" >bert-base-uncased</th>        <th class=\"col_heading level0 col4\" >bert-base-multilingual-cased</th>    </tr></thead><tbody>\n                <tr>\n                        <th id=\"T_2810e40c_8dc5_11eb_9bad_a0cec835c16dlevel0_row0\" class=\"row_heading level0 row0\" >0</th>\n                        <td id=\"T_2810e40c_8dc5_11eb_9bad_a0cec835c16drow0_col0\" class=\"data row0 col0\" >zero</td>\n                        <td id=\"T_2810e40c_8dc5_11eb_9bad_a0cec835c16drow0_col1\" class=\"data row0 col1\" >0.459554</td>\n                        <td id=\"T_2810e40c_8dc5_11eb_9bad_a0cec835c16drow0_col2\" class=\"data row0 col2\" >0.543634</td>\n                        <td id=\"T_2810e40c_8dc5_11eb_9bad_a0cec835c16drow0_col3\" class=\"data row0 col3\" >0.541674</td>\n                        <td id=\"T_2810e40c_8dc5_11eb_9bad_a0cec835c16drow0_col4\" class=\"data row0 col4\" >0.626963</td>\n            </tr>\n            <tr>\n                        <th id=\"T_2810e40c_8dc5_11eb_9bad_a0cec835c16dlevel0_row1\" class=\"row_heading level0 row1\" >1</th>\n                        <td id=\"T_2810e40c_8dc5_11eb_9bad_a0cec835c16drow1_col0\" class=\"data row1 col0\" >few50</td>\n                        <td id=\"T_2810e40c_8dc5_11eb_9bad_a0cec835c16drow1_col1\" class=\"data row1 col1\" >0.602569</td>\n                        <td id=\"T_2810e40c_8dc5_11eb_9bad_a0cec835c16drow1_col2\" class=\"data row1 col2\" >0.628380</td>\n                        <td id=\"T_2810e40c_8dc5_11eb_9bad_a0cec835c16drow1_col3\" class=\"data row1 col3\" >0.588368</td>\n                        <td id=\"T_2810e40c_8dc5_11eb_9bad_a0cec835c16drow1_col4\" class=\"data row1 col4\" >0.640045</td>\n            </tr>\n            <tr>\n                        <th id=\"T_2810e40c_8dc5_11eb_9bad_a0cec835c16dlevel0_row2\" class=\"row_heading level0 row2\" >2</th>\n                        <td id=\"T_2810e40c_8dc5_11eb_9bad_a0cec835c16drow2_col0\" class=\"data row2 col0\" >few100</td>\n                        <td id=\"T_2810e40c_8dc5_11eb_9bad_a0cec835c16drow2_col1\" class=\"data row2 col1\" >0.599670</td>\n                        <td id=\"T_2810e40c_8dc5_11eb_9bad_a0cec835c16drow2_col2\" class=\"data row2 col2\" >0.655968</td>\n                        <td id=\"T_2810e40c_8dc5_11eb_9bad_a0cec835c16drow2_col3\" class=\"data row2 col3\" >0.631603</td>\n                        <td id=\"T_2810e40c_8dc5_11eb_9bad_a0cec835c16drow2_col4\" class=\"data row2 col4\" >0.699871</td>\n            </tr>\n            <tr>\n                        <th id=\"T_2810e40c_8dc5_11eb_9bad_a0cec835c16dlevel0_row3\" class=\"row_heading level0 row3\" >3</th>\n                        <td id=\"T_2810e40c_8dc5_11eb_9bad_a0cec835c16drow3_col0\" class=\"data row3 col0\" >few150</td>\n                        <td id=\"T_2810e40c_8dc5_11eb_9bad_a0cec835c16drow3_col1\" class=\"data row3 col1\" >0.620090</td>\n                        <td id=\"T_2810e40c_8dc5_11eb_9bad_a0cec835c16drow3_col2\" class=\"data row3 col2\" >0.708560</td>\n                        <td id=\"T_2810e40c_8dc5_11eb_9bad_a0cec835c16drow3_col3\" class=\"data row3 col3\" >0.655699</td>\n                        <td id=\"T_2810e40c_8dc5_11eb_9bad_a0cec835c16drow3_col4\" class=\"data row3 col4\" >0.727245</td>\n            </tr>\n            <tr>\n                        <th id=\"T_2810e40c_8dc5_11eb_9bad_a0cec835c16dlevel0_row4\" class=\"row_heading level0 row4\" >4</th>\n                        <td id=\"T_2810e40c_8dc5_11eb_9bad_a0cec835c16drow4_col0\" class=\"data row4 col0\" >few200</td>\n                        <td id=\"T_2810e40c_8dc5_11eb_9bad_a0cec835c16drow4_col1\" class=\"data row4 col1\" >0.622177</td>\n                        <td id=\"T_2810e40c_8dc5_11eb_9bad_a0cec835c16drow4_col2\" class=\"data row4 col2\" >0.714131</td>\n                        <td id=\"T_2810e40c_8dc5_11eb_9bad_a0cec835c16drow4_col3\" class=\"data row4 col3\" >0.580542</td>\n                        <td id=\"T_2810e40c_8dc5_11eb_9bad_a0cec835c16drow4_col4\" class=\"data row4 col4\" >0.706095</td>\n            </tr>\n            <tr>\n                        <th id=\"T_2810e40c_8dc5_11eb_9bad_a0cec835c16dlevel0_row5\" class=\"row_heading level0 row5\" >5</th>\n                        <td id=\"T_2810e40c_8dc5_11eb_9bad_a0cec835c16drow5_col0\" class=\"data row5 col0\" >full</td>\n                        <td id=\"T_2810e40c_8dc5_11eb_9bad_a0cec835c16drow5_col1\" class=\"data row5 col1\" >0.622177</td>\n                        <td id=\"T_2810e40c_8dc5_11eb_9bad_a0cec835c16drow5_col2\" class=\"data row5 col2\" >0.714131</td>\n                        <td id=\"T_2810e40c_8dc5_11eb_9bad_a0cec835c16drow5_col3\" class=\"data row5 col3\" >0.580542</td>\n                        <td id=\"T_2810e40c_8dc5_11eb_9bad_a0cec835c16drow5_col4\" class=\"data row5 col4\" >0.706095</td>\n            </tr>\n            <tr>\n                        <th id=\"T_2810e40c_8dc5_11eb_9bad_a0cec835c16dlevel0_row6\" class=\"row_heading level0 row6\" >6</th>\n                        <td id=\"T_2810e40c_8dc5_11eb_9bad_a0cec835c16drow6_col0\" class=\"data row6 col0\" >trg</td>\n                        <td id=\"T_2810e40c_8dc5_11eb_9bad_a0cec835c16drow6_col1\" class=\"data row6 col1\" >0.644527</td>\n                        <td id=\"T_2810e40c_8dc5_11eb_9bad_a0cec835c16drow6_col2\" class=\"data row6 col2\" >0.695322</td>\n                        <td id=\"T_2810e40c_8dc5_11eb_9bad_a0cec835c16drow6_col3\" class=\"data row6 col3\" >0.581654</td>\n                        <td id=\"T_2810e40c_8dc5_11eb_9bad_a0cec835c16drow6_col4\" class=\"data row6 col4\" >0.712644</td>\n            </tr>\n    </tbody></table>"
     },
     "execution_count": 11,
     "metadata": {},
     "output_type": "execute_result"
    }
   ],
   "source": [
    "highlight_best_score(best_results_dfs_dict['enar'])"
   ],
   "metadata": {
    "collapsed": false,
    "pycharm": {
     "name": "#%%\n"
    }
   }
  },
  {
   "cell_type": "code",
   "execution_count": 12,
   "outputs": [],
   "source": [
    "best_results_dfs_dict['enar'].round(4).to_clipboard(index=False)"
   ],
   "metadata": {
    "collapsed": false,
    "pycharm": {
     "name": "#%%\n"
    }
   }
  },
  {
   "cell_type": "markdown",
   "source": [
    "## bg-en"
   ],
   "metadata": {
    "collapsed": false
   }
  },
  {
   "cell_type": "code",
   "execution_count": 13,
   "outputs": [
    {
     "data": {
      "text/plain": "<pandas.io.formats.style.Styler at 0x269c54e8d68>",
      "text/html": "<style  type=\"text/css\" >\n#T_281b6430_8dc5_11eb_ad31_a0cec835c16drow0_col2,#T_281b6430_8dc5_11eb_ad31_a0cec835c16drow1_col2,#T_281b6430_8dc5_11eb_ad31_a0cec835c16drow2_col4,#T_281b6430_8dc5_11eb_ad31_a0cec835c16drow3_col4,#T_281b6430_8dc5_11eb_ad31_a0cec835c16drow4_col4,#T_281b6430_8dc5_11eb_ad31_a0cec835c16drow5_col3,#T_281b6430_8dc5_11eb_ad31_a0cec835c16drow6_col3{\n            background:  red;\n        }</style><table id=\"T_281b6430_8dc5_11eb_ad31_a0cec835c16d\" ><thead>    <tr>        <th class=\"blank level0\" ></th>        <th class=\"col_heading level0 col0\" >Setup</th>        <th class=\"col_heading level0 col1\" >logistic_regression</th>        <th class=\"col_heading level0 col2\" >transformer_encoder</th>        <th class=\"col_heading level0 col3\" >bert-base-uncased</th>        <th class=\"col_heading level0 col4\" >bert-base-multilingual-cased</th>    </tr></thead><tbody>\n                <tr>\n                        <th id=\"T_281b6430_8dc5_11eb_ad31_a0cec835c16dlevel0_row0\" class=\"row_heading level0 row0\" >0</th>\n                        <td id=\"T_281b6430_8dc5_11eb_ad31_a0cec835c16drow0_col0\" class=\"data row0 col0\" >zero</td>\n                        <td id=\"T_281b6430_8dc5_11eb_ad31_a0cec835c16drow0_col1\" class=\"data row0 col1\" >0.439126</td>\n                        <td id=\"T_281b6430_8dc5_11eb_ad31_a0cec835c16drow0_col2\" class=\"data row0 col2\" >0.528149</td>\n                        <td id=\"T_281b6430_8dc5_11eb_ad31_a0cec835c16drow0_col3\" class=\"data row0 col3\" >0.476081</td>\n                        <td id=\"T_281b6430_8dc5_11eb_ad31_a0cec835c16drow0_col4\" class=\"data row0 col4\" >0.508174</td>\n            </tr>\n            <tr>\n                        <th id=\"T_281b6430_8dc5_11eb_ad31_a0cec835c16dlevel0_row1\" class=\"row_heading level0 row1\" >1</th>\n                        <td id=\"T_281b6430_8dc5_11eb_ad31_a0cec835c16drow1_col0\" class=\"data row1 col0\" >few50</td>\n                        <td id=\"T_281b6430_8dc5_11eb_ad31_a0cec835c16drow1_col1\" class=\"data row1 col1\" >0.587053</td>\n                        <td id=\"T_281b6430_8dc5_11eb_ad31_a0cec835c16drow1_col2\" class=\"data row1 col2\" >0.605046</td>\n                        <td id=\"T_281b6430_8dc5_11eb_ad31_a0cec835c16drow1_col3\" class=\"data row1 col3\" >0.604485</td>\n                        <td id=\"T_281b6430_8dc5_11eb_ad31_a0cec835c16drow1_col4\" class=\"data row1 col4\" >0.595866</td>\n            </tr>\n            <tr>\n                        <th id=\"T_281b6430_8dc5_11eb_ad31_a0cec835c16dlevel0_row2\" class=\"row_heading level0 row2\" >2</th>\n                        <td id=\"T_281b6430_8dc5_11eb_ad31_a0cec835c16drow2_col0\" class=\"data row2 col0\" >few100</td>\n                        <td id=\"T_281b6430_8dc5_11eb_ad31_a0cec835c16drow2_col1\" class=\"data row2 col1\" >0.590057</td>\n                        <td id=\"T_281b6430_8dc5_11eb_ad31_a0cec835c16drow2_col2\" class=\"data row2 col2\" >0.600062</td>\n                        <td id=\"T_281b6430_8dc5_11eb_ad31_a0cec835c16drow2_col3\" class=\"data row2 col3\" >0.633917</td>\n                        <td id=\"T_281b6430_8dc5_11eb_ad31_a0cec835c16drow2_col4\" class=\"data row2 col4\" >0.648412</td>\n            </tr>\n            <tr>\n                        <th id=\"T_281b6430_8dc5_11eb_ad31_a0cec835c16dlevel0_row3\" class=\"row_heading level0 row3\" >3</th>\n                        <td id=\"T_281b6430_8dc5_11eb_ad31_a0cec835c16drow3_col0\" class=\"data row3 col0\" >few150</td>\n                        <td id=\"T_281b6430_8dc5_11eb_ad31_a0cec835c16drow3_col1\" class=\"data row3 col1\" >0.592898</td>\n                        <td id=\"T_281b6430_8dc5_11eb_ad31_a0cec835c16drow3_col2\" class=\"data row3 col2\" >0.594378</td>\n                        <td id=\"T_281b6430_8dc5_11eb_ad31_a0cec835c16drow3_col3\" class=\"data row3 col3\" >0.639445</td>\n                        <td id=\"T_281b6430_8dc5_11eb_ad31_a0cec835c16drow3_col4\" class=\"data row3 col4\" >0.648841</td>\n            </tr>\n            <tr>\n                        <th id=\"T_281b6430_8dc5_11eb_ad31_a0cec835c16dlevel0_row4\" class=\"row_heading level0 row4\" >4</th>\n                        <td id=\"T_281b6430_8dc5_11eb_ad31_a0cec835c16drow4_col0\" class=\"data row4 col0\" >few200</td>\n                        <td id=\"T_281b6430_8dc5_11eb_ad31_a0cec835c16drow4_col1\" class=\"data row4 col1\" >0.592521</td>\n                        <td id=\"T_281b6430_8dc5_11eb_ad31_a0cec835c16drow4_col2\" class=\"data row4 col2\" >0.599739</td>\n                        <td id=\"T_281b6430_8dc5_11eb_ad31_a0cec835c16drow4_col3\" class=\"data row4 col3\" >0.647169</td>\n                        <td id=\"T_281b6430_8dc5_11eb_ad31_a0cec835c16drow4_col4\" class=\"data row4 col4\" >0.659728</td>\n            </tr>\n            <tr>\n                        <th id=\"T_281b6430_8dc5_11eb_ad31_a0cec835c16dlevel0_row5\" class=\"row_heading level0 row5\" >5</th>\n                        <td id=\"T_281b6430_8dc5_11eb_ad31_a0cec835c16drow5_col0\" class=\"data row5 col0\" >full</td>\n                        <td id=\"T_281b6430_8dc5_11eb_ad31_a0cec835c16drow5_col1\" class=\"data row5 col1\" >0.589093</td>\n                        <td id=\"T_281b6430_8dc5_11eb_ad31_a0cec835c16drow5_col2\" class=\"data row5 col2\" >0.616020</td>\n                        <td id=\"T_281b6430_8dc5_11eb_ad31_a0cec835c16drow5_col3\" class=\"data row5 col3\" >0.682836</td>\n                        <td id=\"T_281b6430_8dc5_11eb_ad31_a0cec835c16drow5_col4\" class=\"data row5 col4\" >0.670561</td>\n            </tr>\n            <tr>\n                        <th id=\"T_281b6430_8dc5_11eb_ad31_a0cec835c16dlevel0_row6\" class=\"row_heading level0 row6\" >6</th>\n                        <td id=\"T_281b6430_8dc5_11eb_ad31_a0cec835c16drow6_col0\" class=\"data row6 col0\" >trg</td>\n                        <td id=\"T_281b6430_8dc5_11eb_ad31_a0cec835c16drow6_col1\" class=\"data row6 col1\" >0.568931</td>\n                        <td id=\"T_281b6430_8dc5_11eb_ad31_a0cec835c16drow6_col2\" class=\"data row6 col2\" >0.624487</td>\n                        <td id=\"T_281b6430_8dc5_11eb_ad31_a0cec835c16drow6_col3\" class=\"data row6 col3\" >0.677584</td>\n                        <td id=\"T_281b6430_8dc5_11eb_ad31_a0cec835c16drow6_col4\" class=\"data row6 col4\" >0.649745</td>\n            </tr>\n    </tbody></table>"
     },
     "execution_count": 13,
     "metadata": {},
     "output_type": "execute_result"
    }
   ],
   "source": [
    "highlight_best_score(best_results_dfs_dict['bgen'])"
   ],
   "metadata": {
    "collapsed": false,
    "pycharm": {
     "name": "#%%\n"
    }
   }
  },
  {
   "cell_type": "code",
   "execution_count": 14,
   "outputs": [],
   "source": [
    "best_results_dfs_dict['bgen'].round(4).to_clipboard(index=False)"
   ],
   "metadata": {
    "collapsed": false,
    "pycharm": {
     "name": "#%%\n"
    }
   }
  },
  {
   "cell_type": "markdown",
   "source": [
    "## bg-ar"
   ],
   "metadata": {
    "collapsed": false
   }
  },
  {
   "cell_type": "code",
   "execution_count": 15,
   "outputs": [
    {
     "data": {
      "text/plain": "<pandas.io.formats.style.Styler at 0x269c5525f60>",
      "text/html": "<style  type=\"text/css\" >\n#T_28259662_8dc5_11eb_a8b6_a0cec835c16drow0_col2,#T_28259662_8dc5_11eb_a8b6_a0cec835c16drow1_col2,#T_28259662_8dc5_11eb_a8b6_a0cec835c16drow2_col4,#T_28259662_8dc5_11eb_a8b6_a0cec835c16drow3_col4,#T_28259662_8dc5_11eb_a8b6_a0cec835c16drow4_col2,#T_28259662_8dc5_11eb_a8b6_a0cec835c16drow5_col2,#T_28259662_8dc5_11eb_a8b6_a0cec835c16drow6_col4{\n            background:  red;\n        }</style><table id=\"T_28259662_8dc5_11eb_a8b6_a0cec835c16d\" ><thead>    <tr>        <th class=\"blank level0\" ></th>        <th class=\"col_heading level0 col0\" >Setup</th>        <th class=\"col_heading level0 col1\" >logistic_regression</th>        <th class=\"col_heading level0 col2\" >transformer_encoder</th>        <th class=\"col_heading level0 col3\" >bert-base-uncased</th>        <th class=\"col_heading level0 col4\" >bert-base-multilingual-cased</th>    </tr></thead><tbody>\n                <tr>\n                        <th id=\"T_28259662_8dc5_11eb_a8b6_a0cec835c16dlevel0_row0\" class=\"row_heading level0 row0\" >0</th>\n                        <td id=\"T_28259662_8dc5_11eb_a8b6_a0cec835c16drow0_col0\" class=\"data row0 col0\" >zero</td>\n                        <td id=\"T_28259662_8dc5_11eb_a8b6_a0cec835c16drow0_col1\" class=\"data row0 col1\" >0.496158</td>\n                        <td id=\"T_28259662_8dc5_11eb_a8b6_a0cec835c16drow0_col2\" class=\"data row0 col2\" >0.583020</td>\n                        <td id=\"T_28259662_8dc5_11eb_a8b6_a0cec835c16drow0_col3\" class=\"data row0 col3\" >0.518447</td>\n                        <td id=\"T_28259662_8dc5_11eb_a8b6_a0cec835c16drow0_col4\" class=\"data row0 col4\" >0.577075</td>\n            </tr>\n            <tr>\n                        <th id=\"T_28259662_8dc5_11eb_a8b6_a0cec835c16dlevel0_row1\" class=\"row_heading level0 row1\" >1</th>\n                        <td id=\"T_28259662_8dc5_11eb_a8b6_a0cec835c16drow1_col0\" class=\"data row1 col0\" >few50</td>\n                        <td id=\"T_28259662_8dc5_11eb_a8b6_a0cec835c16drow1_col1\" class=\"data row1 col1\" >0.565675</td>\n                        <td id=\"T_28259662_8dc5_11eb_a8b6_a0cec835c16drow1_col2\" class=\"data row1 col2\" >0.674656</td>\n                        <td id=\"T_28259662_8dc5_11eb_a8b6_a0cec835c16drow1_col3\" class=\"data row1 col3\" >0.557078</td>\n                        <td id=\"T_28259662_8dc5_11eb_a8b6_a0cec835c16drow1_col4\" class=\"data row1 col4\" >0.606410</td>\n            </tr>\n            <tr>\n                        <th id=\"T_28259662_8dc5_11eb_a8b6_a0cec835c16dlevel0_row2\" class=\"row_heading level0 row2\" >2</th>\n                        <td id=\"T_28259662_8dc5_11eb_a8b6_a0cec835c16drow2_col0\" class=\"data row2 col0\" >few100</td>\n                        <td id=\"T_28259662_8dc5_11eb_a8b6_a0cec835c16drow2_col1\" class=\"data row2 col1\" >0.645268</td>\n                        <td id=\"T_28259662_8dc5_11eb_a8b6_a0cec835c16drow2_col2\" class=\"data row2 col2\" >0.646060</td>\n                        <td id=\"T_28259662_8dc5_11eb_a8b6_a0cec835c16drow2_col3\" class=\"data row2 col3\" >0.654343</td>\n                        <td id=\"T_28259662_8dc5_11eb_a8b6_a0cec835c16drow2_col4\" class=\"data row2 col4\" >0.666635</td>\n            </tr>\n            <tr>\n                        <th id=\"T_28259662_8dc5_11eb_a8b6_a0cec835c16dlevel0_row3\" class=\"row_heading level0 row3\" >3</th>\n                        <td id=\"T_28259662_8dc5_11eb_a8b6_a0cec835c16drow3_col0\" class=\"data row3 col0\" >few150</td>\n                        <td id=\"T_28259662_8dc5_11eb_a8b6_a0cec835c16drow3_col1\" class=\"data row3 col1\" >0.642236</td>\n                        <td id=\"T_28259662_8dc5_11eb_a8b6_a0cec835c16drow3_col2\" class=\"data row3 col2\" >0.688185</td>\n                        <td id=\"T_28259662_8dc5_11eb_a8b6_a0cec835c16drow3_col3\" class=\"data row3 col3\" >0.602460</td>\n                        <td id=\"T_28259662_8dc5_11eb_a8b6_a0cec835c16drow3_col4\" class=\"data row3 col4\" >0.698114</td>\n            </tr>\n            <tr>\n                        <th id=\"T_28259662_8dc5_11eb_a8b6_a0cec835c16dlevel0_row4\" class=\"row_heading level0 row4\" >4</th>\n                        <td id=\"T_28259662_8dc5_11eb_a8b6_a0cec835c16drow4_col0\" class=\"data row4 col0\" >few200</td>\n                        <td id=\"T_28259662_8dc5_11eb_a8b6_a0cec835c16drow4_col1\" class=\"data row4 col1\" >0.654307</td>\n                        <td id=\"T_28259662_8dc5_11eb_a8b6_a0cec835c16drow4_col2\" class=\"data row4 col2\" >0.709412</td>\n                        <td id=\"T_28259662_8dc5_11eb_a8b6_a0cec835c16drow4_col3\" class=\"data row4 col3\" >0.608944</td>\n                        <td id=\"T_28259662_8dc5_11eb_a8b6_a0cec835c16drow4_col4\" class=\"data row4 col4\" >0.676088</td>\n            </tr>\n            <tr>\n                        <th id=\"T_28259662_8dc5_11eb_a8b6_a0cec835c16dlevel0_row5\" class=\"row_heading level0 row5\" >5</th>\n                        <td id=\"T_28259662_8dc5_11eb_a8b6_a0cec835c16drow5_col0\" class=\"data row5 col0\" >full</td>\n                        <td id=\"T_28259662_8dc5_11eb_a8b6_a0cec835c16drow5_col1\" class=\"data row5 col1\" >0.654307</td>\n                        <td id=\"T_28259662_8dc5_11eb_a8b6_a0cec835c16drow5_col2\" class=\"data row5 col2\" >0.709412</td>\n                        <td id=\"T_28259662_8dc5_11eb_a8b6_a0cec835c16drow5_col3\" class=\"data row5 col3\" >0.608944</td>\n                        <td id=\"T_28259662_8dc5_11eb_a8b6_a0cec835c16drow5_col4\" class=\"data row5 col4\" >0.676088</td>\n            </tr>\n            <tr>\n                        <th id=\"T_28259662_8dc5_11eb_a8b6_a0cec835c16dlevel0_row6\" class=\"row_heading level0 row6\" >6</th>\n                        <td id=\"T_28259662_8dc5_11eb_a8b6_a0cec835c16drow6_col0\" class=\"data row6 col0\" >trg</td>\n                        <td id=\"T_28259662_8dc5_11eb_a8b6_a0cec835c16drow6_col1\" class=\"data row6 col1\" >0.480602</td>\n                        <td id=\"T_28259662_8dc5_11eb_a8b6_a0cec835c16drow6_col2\" class=\"data row6 col2\" >0.664462</td>\n                        <td id=\"T_28259662_8dc5_11eb_a8b6_a0cec835c16drow6_col3\" class=\"data row6 col3\" >0.581654</td>\n                        <td id=\"T_28259662_8dc5_11eb_a8b6_a0cec835c16drow6_col4\" class=\"data row6 col4\" >0.712644</td>\n            </tr>\n    </tbody></table>"
     },
     "execution_count": 15,
     "metadata": {},
     "output_type": "execute_result"
    }
   ],
   "source": [
    "highlight_best_score(best_results_dfs_dict['bgar'])"
   ],
   "metadata": {
    "collapsed": false,
    "pycharm": {
     "name": "#%%\n"
    }
   }
  },
  {
   "cell_type": "code",
   "execution_count": 16,
   "outputs": [],
   "source": [
    "best_results_dfs_dict['bgar'].round(4).to_clipboard(index=False)"
   ],
   "metadata": {
    "collapsed": false,
    "pycharm": {
     "name": "#%%\n"
    }
   }
  },
  {
   "cell_type": "markdown",
   "source": [
    "## ar-en"
   ],
   "metadata": {
    "collapsed": false
   }
  },
  {
   "cell_type": "code",
   "execution_count": 17,
   "outputs": [
    {
     "data": {
      "text/plain": "<pandas.io.formats.style.Styler at 0x269c5487828>",
      "text/html": "<style  type=\"text/css\" >\n#T_283a48be_8dc5_11eb_97b5_a0cec835c16drow0_col4,#T_283a48be_8dc5_11eb_97b5_a0cec835c16drow1_col3,#T_283a48be_8dc5_11eb_97b5_a0cec835c16drow2_col3,#T_283a48be_8dc5_11eb_97b5_a0cec835c16drow3_col3,#T_283a48be_8dc5_11eb_97b5_a0cec835c16drow4_col4,#T_283a48be_8dc5_11eb_97b5_a0cec835c16drow5_col4,#T_283a48be_8dc5_11eb_97b5_a0cec835c16drow6_col3{\n            background:  red;\n        }</style><table id=\"T_283a48be_8dc5_11eb_97b5_a0cec835c16d\" ><thead>    <tr>        <th class=\"blank level0\" ></th>        <th class=\"col_heading level0 col0\" >Setup</th>        <th class=\"col_heading level0 col1\" >logistic_regression</th>        <th class=\"col_heading level0 col2\" >transformer_encoder</th>        <th class=\"col_heading level0 col3\" >bert-base-uncased</th>        <th class=\"col_heading level0 col4\" >bert-base-multilingual-cased</th>    </tr></thead><tbody>\n                <tr>\n                        <th id=\"T_283a48be_8dc5_11eb_97b5_a0cec835c16dlevel0_row0\" class=\"row_heading level0 row0\" >0</th>\n                        <td id=\"T_283a48be_8dc5_11eb_97b5_a0cec835c16drow0_col0\" class=\"data row0 col0\" >zero</td>\n                        <td id=\"T_283a48be_8dc5_11eb_97b5_a0cec835c16drow0_col1\" class=\"data row0 col1\" >0.200949</td>\n                        <td id=\"T_283a48be_8dc5_11eb_97b5_a0cec835c16drow0_col2\" class=\"data row0 col2\" >0.489936</td>\n                        <td id=\"T_283a48be_8dc5_11eb_97b5_a0cec835c16drow0_col3\" class=\"data row0 col3\" >0.499624</td>\n                        <td id=\"T_283a48be_8dc5_11eb_97b5_a0cec835c16drow0_col4\" class=\"data row0 col4\" >0.573033</td>\n            </tr>\n            <tr>\n                        <th id=\"T_283a48be_8dc5_11eb_97b5_a0cec835c16dlevel0_row1\" class=\"row_heading level0 row1\" >1</th>\n                        <td id=\"T_283a48be_8dc5_11eb_97b5_a0cec835c16drow1_col0\" class=\"data row1 col0\" >few50</td>\n                        <td id=\"T_283a48be_8dc5_11eb_97b5_a0cec835c16drow1_col1\" class=\"data row1 col1\" >0.523237</td>\n                        <td id=\"T_283a48be_8dc5_11eb_97b5_a0cec835c16drow1_col2\" class=\"data row1 col2\" >0.587793</td>\n                        <td id=\"T_283a48be_8dc5_11eb_97b5_a0cec835c16drow1_col3\" class=\"data row1 col3\" >0.609163</td>\n                        <td id=\"T_283a48be_8dc5_11eb_97b5_a0cec835c16drow1_col4\" class=\"data row1 col4\" >0.597817</td>\n            </tr>\n            <tr>\n                        <th id=\"T_283a48be_8dc5_11eb_97b5_a0cec835c16dlevel0_row2\" class=\"row_heading level0 row2\" >2</th>\n                        <td id=\"T_283a48be_8dc5_11eb_97b5_a0cec835c16drow2_col0\" class=\"data row2 col0\" >few100</td>\n                        <td id=\"T_283a48be_8dc5_11eb_97b5_a0cec835c16drow2_col1\" class=\"data row2 col1\" >0.511002</td>\n                        <td id=\"T_283a48be_8dc5_11eb_97b5_a0cec835c16drow2_col2\" class=\"data row2 col2\" >0.582618</td>\n                        <td id=\"T_283a48be_8dc5_11eb_97b5_a0cec835c16drow2_col3\" class=\"data row2 col3\" >0.652872</td>\n                        <td id=\"T_283a48be_8dc5_11eb_97b5_a0cec835c16drow2_col4\" class=\"data row2 col4\" >0.600951</td>\n            </tr>\n            <tr>\n                        <th id=\"T_283a48be_8dc5_11eb_97b5_a0cec835c16dlevel0_row3\" class=\"row_heading level0 row3\" >3</th>\n                        <td id=\"T_283a48be_8dc5_11eb_97b5_a0cec835c16drow3_col0\" class=\"data row3 col0\" >few150</td>\n                        <td id=\"T_283a48be_8dc5_11eb_97b5_a0cec835c16drow3_col1\" class=\"data row3 col1\" >0.537679</td>\n                        <td id=\"T_283a48be_8dc5_11eb_97b5_a0cec835c16drow3_col2\" class=\"data row3 col2\" >0.607381</td>\n                        <td id=\"T_283a48be_8dc5_11eb_97b5_a0cec835c16drow3_col3\" class=\"data row3 col3\" >0.645421</td>\n                        <td id=\"T_283a48be_8dc5_11eb_97b5_a0cec835c16drow3_col4\" class=\"data row3 col4\" >0.621036</td>\n            </tr>\n            <tr>\n                        <th id=\"T_283a48be_8dc5_11eb_97b5_a0cec835c16dlevel0_row4\" class=\"row_heading level0 row4\" >4</th>\n                        <td id=\"T_283a48be_8dc5_11eb_97b5_a0cec835c16drow4_col0\" class=\"data row4 col0\" >few200</td>\n                        <td id=\"T_283a48be_8dc5_11eb_97b5_a0cec835c16drow4_col1\" class=\"data row4 col1\" >0.571547</td>\n                        <td id=\"T_283a48be_8dc5_11eb_97b5_a0cec835c16drow4_col2\" class=\"data row4 col2\" >0.603234</td>\n                        <td id=\"T_283a48be_8dc5_11eb_97b5_a0cec835c16drow4_col3\" class=\"data row4 col3\" >0.635513</td>\n                        <td id=\"T_283a48be_8dc5_11eb_97b5_a0cec835c16drow4_col4\" class=\"data row4 col4\" >0.641816</td>\n            </tr>\n            <tr>\n                        <th id=\"T_283a48be_8dc5_11eb_97b5_a0cec835c16dlevel0_row5\" class=\"row_heading level0 row5\" >5</th>\n                        <td id=\"T_283a48be_8dc5_11eb_97b5_a0cec835c16drow5_col0\" class=\"data row5 col0\" >full</td>\n                        <td id=\"T_283a48be_8dc5_11eb_97b5_a0cec835c16drow5_col1\" class=\"data row5 col1\" >0.565071</td>\n                        <td id=\"T_283a48be_8dc5_11eb_97b5_a0cec835c16drow5_col2\" class=\"data row5 col2\" >0.589381</td>\n                        <td id=\"T_283a48be_8dc5_11eb_97b5_a0cec835c16drow5_col3\" class=\"data row5 col3\" >0.664358</td>\n                        <td id=\"T_283a48be_8dc5_11eb_97b5_a0cec835c16drow5_col4\" class=\"data row5 col4\" >0.681317</td>\n            </tr>\n            <tr>\n                        <th id=\"T_283a48be_8dc5_11eb_97b5_a0cec835c16dlevel0_row6\" class=\"row_heading level0 row6\" >6</th>\n                        <td id=\"T_283a48be_8dc5_11eb_97b5_a0cec835c16drow6_col0\" class=\"data row6 col0\" >trg</td>\n                        <td id=\"T_283a48be_8dc5_11eb_97b5_a0cec835c16drow6_col1\" class=\"data row6 col1\" >0.568931</td>\n                        <td id=\"T_283a48be_8dc5_11eb_97b5_a0cec835c16drow6_col2\" class=\"data row6 col2\" >0.624487</td>\n                        <td id=\"T_283a48be_8dc5_11eb_97b5_a0cec835c16drow6_col3\" class=\"data row6 col3\" >0.677584</td>\n                        <td id=\"T_283a48be_8dc5_11eb_97b5_a0cec835c16drow6_col4\" class=\"data row6 col4\" >0.649745</td>\n            </tr>\n    </tbody></table>"
     },
     "execution_count": 17,
     "metadata": {},
     "output_type": "execute_result"
    }
   ],
   "source": [
    "highlight_best_score(best_results_dfs_dict['aren'])"
   ],
   "metadata": {
    "collapsed": false,
    "pycharm": {
     "name": "#%%\n"
    }
   }
  },
  {
   "cell_type": "code",
   "execution_count": 18,
   "outputs": [],
   "source": [
    "best_results_dfs_dict['aren'].round(4).to_clipboard(index=False)"
   ],
   "metadata": {
    "collapsed": false,
    "pycharm": {
     "name": "#%%\n"
    }
   }
  },
  {
   "cell_type": "markdown",
   "source": [
    "## ar-bg"
   ],
   "metadata": {
    "collapsed": false,
    "pycharm": {
     "name": "#%% md\n"
    }
   }
  },
  {
   "cell_type": "code",
   "execution_count": 19,
   "outputs": [
    {
     "data": {
      "text/plain": "<pandas.io.formats.style.Styler at 0x269c5533438>",
      "text/html": "<style  type=\"text/css\" >\n#T_284564a8_8dc5_11eb_8202_a0cec835c16drow0_col3,#T_284564a8_8dc5_11eb_8202_a0cec835c16drow1_col4,#T_284564a8_8dc5_11eb_8202_a0cec835c16drow2_col4,#T_284564a8_8dc5_11eb_8202_a0cec835c16drow3_col4,#T_284564a8_8dc5_11eb_8202_a0cec835c16drow4_col4,#T_284564a8_8dc5_11eb_8202_a0cec835c16drow5_col4,#T_284564a8_8dc5_11eb_8202_a0cec835c16drow6_col4{\n            background:  red;\n        }</style><table id=\"T_284564a8_8dc5_11eb_8202_a0cec835c16d\" ><thead>    <tr>        <th class=\"blank level0\" ></th>        <th class=\"col_heading level0 col0\" >Setup</th>        <th class=\"col_heading level0 col1\" >logistic_regression</th>        <th class=\"col_heading level0 col2\" >transformer_encoder</th>        <th class=\"col_heading level0 col3\" >bert-base-uncased</th>        <th class=\"col_heading level0 col4\" >bert-base-multilingual-cased</th>    </tr></thead><tbody>\n                <tr>\n                        <th id=\"T_284564a8_8dc5_11eb_8202_a0cec835c16dlevel0_row0\" class=\"row_heading level0 row0\" >0</th>\n                        <td id=\"T_284564a8_8dc5_11eb_8202_a0cec835c16drow0_col0\" class=\"data row0 col0\" >zero</td>\n                        <td id=\"T_284564a8_8dc5_11eb_8202_a0cec835c16drow0_col1\" class=\"data row0 col1\" >0.458805</td>\n                        <td id=\"T_284564a8_8dc5_11eb_8202_a0cec835c16drow0_col2\" class=\"data row0 col2\" >0.792784</td>\n                        <td id=\"T_284564a8_8dc5_11eb_8202_a0cec835c16drow0_col3\" class=\"data row0 col3\" >0.807905</td>\n                        <td id=\"T_284564a8_8dc5_11eb_8202_a0cec835c16drow0_col4\" class=\"data row0 col4\" >0.802720</td>\n            </tr>\n            <tr>\n                        <th id=\"T_284564a8_8dc5_11eb_8202_a0cec835c16dlevel0_row1\" class=\"row_heading level0 row1\" >1</th>\n                        <td id=\"T_284564a8_8dc5_11eb_8202_a0cec835c16drow1_col0\" class=\"data row1 col0\" >few50</td>\n                        <td id=\"T_284564a8_8dc5_11eb_8202_a0cec835c16drow1_col1\" class=\"data row1 col1\" >0.794631</td>\n                        <td id=\"T_284564a8_8dc5_11eb_8202_a0cec835c16drow1_col2\" class=\"data row1 col2\" >0.791141</td>\n                        <td id=\"T_284564a8_8dc5_11eb_8202_a0cec835c16drow1_col3\" class=\"data row1 col3\" >0.809904</td>\n                        <td id=\"T_284564a8_8dc5_11eb_8202_a0cec835c16drow1_col4\" class=\"data row1 col4\" >0.814546</td>\n            </tr>\n            <tr>\n                        <th id=\"T_284564a8_8dc5_11eb_8202_a0cec835c16dlevel0_row2\" class=\"row_heading level0 row2\" >2</th>\n                        <td id=\"T_284564a8_8dc5_11eb_8202_a0cec835c16drow2_col0\" class=\"data row2 col0\" >few100</td>\n                        <td id=\"T_284564a8_8dc5_11eb_8202_a0cec835c16drow2_col1\" class=\"data row2 col1\" >0.797243</td>\n                        <td id=\"T_284564a8_8dc5_11eb_8202_a0cec835c16drow2_col2\" class=\"data row2 col2\" >0.814881</td>\n                        <td id=\"T_284564a8_8dc5_11eb_8202_a0cec835c16drow2_col3\" class=\"data row2 col3\" >0.813654</td>\n                        <td id=\"T_284564a8_8dc5_11eb_8202_a0cec835c16drow2_col4\" class=\"data row2 col4\" >0.819369</td>\n            </tr>\n            <tr>\n                        <th id=\"T_284564a8_8dc5_11eb_8202_a0cec835c16dlevel0_row3\" class=\"row_heading level0 row3\" >3</th>\n                        <td id=\"T_284564a8_8dc5_11eb_8202_a0cec835c16drow3_col0\" class=\"data row3 col0\" >few150</td>\n                        <td id=\"T_284564a8_8dc5_11eb_8202_a0cec835c16drow3_col1\" class=\"data row3 col1\" >0.804574</td>\n                        <td id=\"T_284564a8_8dc5_11eb_8202_a0cec835c16drow3_col2\" class=\"data row3 col2\" >0.814388</td>\n                        <td id=\"T_284564a8_8dc5_11eb_8202_a0cec835c16drow3_col3\" class=\"data row3 col3\" >0.817971</td>\n                        <td id=\"T_284564a8_8dc5_11eb_8202_a0cec835c16drow3_col4\" class=\"data row3 col4\" >0.822597</td>\n            </tr>\n            <tr>\n                        <th id=\"T_284564a8_8dc5_11eb_8202_a0cec835c16dlevel0_row4\" class=\"row_heading level0 row4\" >4</th>\n                        <td id=\"T_284564a8_8dc5_11eb_8202_a0cec835c16drow4_col0\" class=\"data row4 col0\" >few200</td>\n                        <td id=\"T_284564a8_8dc5_11eb_8202_a0cec835c16drow4_col1\" class=\"data row4 col1\" >0.802283</td>\n                        <td id=\"T_284564a8_8dc5_11eb_8202_a0cec835c16drow4_col2\" class=\"data row4 col2\" >0.809488</td>\n                        <td id=\"T_284564a8_8dc5_11eb_8202_a0cec835c16drow4_col3\" class=\"data row4 col3\" >0.811947</td>\n                        <td id=\"T_284564a8_8dc5_11eb_8202_a0cec835c16drow4_col4\" class=\"data row4 col4\" >0.820767</td>\n            </tr>\n            <tr>\n                        <th id=\"T_284564a8_8dc5_11eb_8202_a0cec835c16dlevel0_row5\" class=\"row_heading level0 row5\" >5</th>\n                        <td id=\"T_284564a8_8dc5_11eb_8202_a0cec835c16drow5_col0\" class=\"data row5 col0\" >full</td>\n                        <td id=\"T_284564a8_8dc5_11eb_8202_a0cec835c16drow5_col1\" class=\"data row5 col1\" >0.813638</td>\n                        <td id=\"T_284564a8_8dc5_11eb_8202_a0cec835c16drow5_col2\" class=\"data row5 col2\" >0.815279</td>\n                        <td id=\"T_284564a8_8dc5_11eb_8202_a0cec835c16drow5_col3\" class=\"data row5 col3\" >0.821831</td>\n                        <td id=\"T_284564a8_8dc5_11eb_8202_a0cec835c16drow5_col4\" class=\"data row5 col4\" >0.826400</td>\n            </tr>\n            <tr>\n                        <th id=\"T_284564a8_8dc5_11eb_8202_a0cec835c16dlevel0_row6\" class=\"row_heading level0 row6\" >6</th>\n                        <td id=\"T_284564a8_8dc5_11eb_8202_a0cec835c16drow6_col0\" class=\"data row6 col0\" >trg</td>\n                        <td id=\"T_284564a8_8dc5_11eb_8202_a0cec835c16drow6_col1\" class=\"data row6 col1\" >0.813775</td>\n                        <td id=\"T_284564a8_8dc5_11eb_8202_a0cec835c16drow6_col2\" class=\"data row6 col2\" >0.809617</td>\n                        <td id=\"T_284564a8_8dc5_11eb_8202_a0cec835c16drow6_col3\" class=\"data row6 col3\" >0.820598</td>\n                        <td id=\"T_284564a8_8dc5_11eb_8202_a0cec835c16drow6_col4\" class=\"data row6 col4\" >0.825151</td>\n            </tr>\n    </tbody></table>"
     },
     "execution_count": 19,
     "metadata": {},
     "output_type": "execute_result"
    }
   ],
   "source": [
    "highlight_best_score(best_results_dfs_dict['arbg'])"
   ],
   "metadata": {
    "collapsed": false,
    "pycharm": {
     "name": "#%%\n"
    }
   }
  },
  {
   "cell_type": "code",
   "execution_count": 20,
   "outputs": [],
   "source": [
    "best_results_dfs_dict['arbg'].round(4).to_clipboard(index=False)"
   ],
   "metadata": {
    "collapsed": false,
    "pycharm": {
     "name": "#%%\n"
    }
   }
  },
  {
   "cell_type": "code",
   "execution_count": 20,
   "outputs": [],
   "source": [
    "\n",
    "\n"
   ],
   "metadata": {
    "collapsed": false,
    "pycharm": {
     "name": "#%%\n"
    }
   }
  }
 ],
 "metadata": {
  "kernelspec": {
   "display_name": "Python 3",
   "language": "python",
   "name": "python3"
  },
  "language_info": {
   "codemirror_mode": {
    "name": "ipython",
    "version": 2
   },
   "file_extension": ".py",
   "mimetype": "text/x-python",
   "name": "python",
   "nbconvert_exporter": "python",
   "pygments_lexer": "ipython2",
   "version": "2.7.6"
  }
 },
 "nbformat": 4,
 "nbformat_minor": 0
}