{
 "cells": [
  {
   "cell_type": "markdown",
   "metadata": {
    "collapsed": true,
    "pycharm": {
     "name": "#%% md\n"
    }
   },
   "source": [
    "# Tabulate results\n"
   ]
  },
  {
   "cell_type": "code",
   "execution_count": 1,
   "outputs": [],
   "source": [
    "import os\n",
    "import sys\n",
    "sys.path.append('../src')\n",
    "import pandas as pd\n",
    "from read_log_file import read_log_file"
   ],
   "metadata": {
    "collapsed": false,
    "pycharm": {
     "name": "#%%\n"
    }
   }
  },
  {
   "cell_type": "code",
   "execution_count": 2,
   "outputs": [],
   "source": [
    "LOG_HOME_DIR = os.path.join('../logs/')\n",
    "assert os.path.isdir(LOG_HOME_DIR)"
   ],
   "metadata": {
    "collapsed": false,
    "pycharm": {
     "name": "#%%\n"
    }
   }
  },
  {
   "cell_type": "markdown",
   "source": [
    "### Target language is Bulgarian (bg)\n"
   ],
   "metadata": {
    "collapsed": false,
    "pycharm": {
     "name": "#%% md\n"
    }
   }
  },
  {
   "cell_type": "code",
   "execution_count": 3,
   "outputs": [],
   "source": [
    "model_names = ['logistic_regression', 'transformer_encoder', 'bert-base-uncased', 'bert-base-multilingual-cased']"
   ],
   "metadata": {
    "collapsed": false,
    "pycharm": {
     "name": "#%%\n"
    }
   }
  },
  {
   "cell_type": "code",
   "execution_count": 4,
   "outputs": [],
   "source": [
    "setups = ['zero', 'few50', 'few100', 'few150', 'few200', 'full', 'trg']"
   ],
   "metadata": {
    "collapsed": false,
    "pycharm": {
     "name": "#%%\n"
    }
   }
  },
  {
   "cell_type": "code",
   "execution_count": 5,
   "outputs": [],
   "source": [
    "def get_best_score_from_dict(di: dict) -> dict:\n",
    "    \"\"\"Get max value from a dict\"\"\"\n",
    "    keys_with_max_val = []\n",
    "    # find max value\n",
    "    max_val = -float('inf')\n",
    "    for k, v in di.items():\n",
    "        if v > max_val:\n",
    "            max_val = v\n",
    "    # find all keys with max value\n",
    "    for k, v in di.items():\n",
    "        if v == max_val:\n",
    "            keys_with_max_val.append(k)\n",
    "    return {\n",
    "        'k': keys_with_max_val,\n",
    "        'v': max_val,\n",
    "    }"
   ],
   "metadata": {
    "collapsed": false,
    "pycharm": {
     "name": "#%%\n"
    }
   }
  },
  {
   "cell_type": "code",
   "execution_count": 6,
   "outputs": [],
   "source": [
    "bg_results_dict = {}\n",
    "for model_name in model_names:\n",
    "    bg_results_dict[model_name] = {}\n",
    "    log_dir = os.path.join(LOG_HOME_DIR, 'bg', model_name)\n",
    "    log_filenames = os.listdir(log_dir)\n",
    "    for fname in log_filenames:\n",
    "        bg_results_dict[model_name][fname] = read_log_file(\n",
    "            log_file_path=os.path.join(log_dir, fname),\n",
    "            plot=False,\n",
    "            verbose=False,\n",
    "        )['best_val_metrics']['f1']"
   ],
   "metadata": {
    "collapsed": false,
    "pycharm": {
     "name": "#%%\n"
    }
   }
  },
  {
   "cell_type": "code",
   "execution_count": 7,
   "outputs": [],
   "source": [
    "\n",
    "bg_best_results_dict = {'Setup': setups}\n",
    "bg_best_results_dict.update({model_name: [] for model_name in model_names})\n",
    "for model_name in model_names:\n",
    "    for setup in setups:\n",
    "        bg_best_results_dict[model_name].append(\n",
    "            get_best_score_from_dict(\n",
    "                {k: v for k, v in bg_results_dict[model_name].items() if k.startswith(f'{setup}_')}\n",
    "            )['v']\n",
    "        )"
   ],
   "metadata": {
    "collapsed": false,
    "pycharm": {
     "name": "#%%\n"
    }
   }
  },
  {
   "cell_type": "code",
   "execution_count": 8,
   "outputs": [],
   "source": [
    "bg_best_results_df = pd.DataFrame(bg_best_results_dict)"
   ],
   "metadata": {
    "collapsed": false,
    "pycharm": {
     "name": "#%%\n"
    }
   }
  },
  {
   "cell_type": "code",
   "execution_count": 9,
   "outputs": [
    {
     "data": {
      "text/plain": "    Setup  logistic_regression  transformer_encoder  bert-base-uncased  \\\n0    zero             0.508343             0.791592           0.803166   \n1   few50             0.669023             0.805915           0.811297   \n2  few100             0.789056             0.808465           0.812350   \n3  few150             0.801440             0.812891           0.820823   \n4  few200             0.806709             0.811863           0.813044   \n5    full             0.817149             0.812225           0.819922   \n6     trg             0.813775             0.809617           0.820598   \n\n   bert-base-multilingual-cased  \n0                      0.804159  \n1                      0.810629  \n2                      0.815694  \n3                      0.815002  \n4                      0.816025  \n5                      0.826783  \n6                      0.825151  ",
      "text/html": "<div>\n<style scoped>\n    .dataframe tbody tr th:only-of-type {\n        vertical-align: middle;\n    }\n\n    .dataframe tbody tr th {\n        vertical-align: top;\n    }\n\n    .dataframe thead th {\n        text-align: right;\n    }\n</style>\n<table border=\"1\" class=\"dataframe\">\n  <thead>\n    <tr style=\"text-align: right;\">\n      <th></th>\n      <th>Setup</th>\n      <th>logistic_regression</th>\n      <th>transformer_encoder</th>\n      <th>bert-base-uncased</th>\n      <th>bert-base-multilingual-cased</th>\n    </tr>\n  </thead>\n  <tbody>\n    <tr>\n      <th>0</th>\n      <td>zero</td>\n      <td>0.508343</td>\n      <td>0.791592</td>\n      <td>0.803166</td>\n      <td>0.804159</td>\n    </tr>\n    <tr>\n      <th>1</th>\n      <td>few50</td>\n      <td>0.669023</td>\n      <td>0.805915</td>\n      <td>0.811297</td>\n      <td>0.810629</td>\n    </tr>\n    <tr>\n      <th>2</th>\n      <td>few100</td>\n      <td>0.789056</td>\n      <td>0.808465</td>\n      <td>0.812350</td>\n      <td>0.815694</td>\n    </tr>\n    <tr>\n      <th>3</th>\n      <td>few150</td>\n      <td>0.801440</td>\n      <td>0.812891</td>\n      <td>0.820823</td>\n      <td>0.815002</td>\n    </tr>\n    <tr>\n      <th>4</th>\n      <td>few200</td>\n      <td>0.806709</td>\n      <td>0.811863</td>\n      <td>0.813044</td>\n      <td>0.816025</td>\n    </tr>\n    <tr>\n      <th>5</th>\n      <td>full</td>\n      <td>0.817149</td>\n      <td>0.812225</td>\n      <td>0.819922</td>\n      <td>0.826783</td>\n    </tr>\n    <tr>\n      <th>6</th>\n      <td>trg</td>\n      <td>0.813775</td>\n      <td>0.809617</td>\n      <td>0.820598</td>\n      <td>0.825151</td>\n    </tr>\n  </tbody>\n</table>\n</div>"
     },
     "execution_count": 9,
     "metadata": {},
     "output_type": "execute_result"
    }
   ],
   "source": [
    "bg_best_results_df"
   ],
   "metadata": {
    "collapsed": false,
    "pycharm": {
     "name": "#%%\n"
    }
   }
  },
  {
   "cell_type": "code",
   "execution_count": 10,
   "outputs": [],
   "source": [
    "bg_best_results_df.round(4).to_clipboard(index=False)"
   ],
   "metadata": {
    "collapsed": false,
    "pycharm": {
     "name": "#%%\n"
    }
   }
  },
  {
   "cell_type": "markdown",
   "source": [
    "\n",
    "### Target language is Arabic (ar)"
   ],
   "metadata": {
    "collapsed": false,
    "pycharm": {
     "name": "#%% md\n"
    }
   }
  },
  {
   "cell_type": "code",
   "execution_count": 11,
   "outputs": [],
   "source": [
    "\n",
    "ar_results_dict = {}\n",
    "for model_name in model_names:\n",
    "    ar_results_dict[model_name] = {}\n",
    "    log_dir = os.path.join(LOG_HOME_DIR, 'ar', model_name)\n",
    "    log_filenames = os.listdir(log_dir)\n",
    "    for fname in log_filenames:\n",
    "        ar_results_dict[model_name][fname] = read_log_file(\n",
    "            log_file_path=os.path.join(log_dir, fname),\n",
    "            plot=False,\n",
    "            verbose=False,\n",
    "        )['best_val_metrics']['f1']"
   ],
   "metadata": {
    "collapsed": false,
    "pycharm": {
     "name": "#%%\n"
    }
   }
  },
  {
   "cell_type": "code",
   "execution_count": 12,
   "outputs": [],
   "source": [
    "\n",
    "ar_best_results_dict = {'Setup': setups}\n",
    "ar_best_results_dict.update({model_name: [] for model_name in model_names})\n",
    "for model_name in model_names:\n",
    "    for setup in setups:\n",
    "        ar_best_results_dict[model_name].append(\n",
    "            get_best_score_from_dict(\n",
    "                {k: v for k, v in ar_results_dict[model_name].items() if k.startswith(f'{setup}_')}\n",
    "            )['v']\n",
    "        )"
   ],
   "metadata": {
    "collapsed": false,
    "pycharm": {
     "name": "#%%\n"
    }
   }
  },
  {
   "cell_type": "code",
   "execution_count": 13,
   "outputs": [],
   "source": [
    "ar_best_results_df = pd.DataFrame(ar_best_results_dict)"
   ],
   "metadata": {
    "collapsed": false,
    "pycharm": {
     "name": "#%%\n"
    }
   }
  },
  {
   "cell_type": "code",
   "execution_count": 14,
   "outputs": [
    {
     "data": {
      "text/plain": "    Setup  logistic_regression  transformer_encoder  bert-base-uncased  \\\n0    zero             0.459554             0.543634           0.541674   \n1   few50             0.602569             0.628380           0.588368   \n2  few100             0.599670             0.655968           0.631603   \n3  few150             0.620090             0.708560           0.655699   \n4  few200             0.622177             0.714131           0.580542   \n5    full             0.622177             0.714131           0.580542   \n6     trg             0.644527             0.695322           0.581654   \n\n   bert-base-multilingual-cased  \n0                      0.626963  \n1                      0.640045  \n2                      0.699871  \n3                      0.727245  \n4                      0.706095  \n5                      0.706095  \n6                      0.712644  ",
      "text/html": "<div>\n<style scoped>\n    .dataframe tbody tr th:only-of-type {\n        vertical-align: middle;\n    }\n\n    .dataframe tbody tr th {\n        vertical-align: top;\n    }\n\n    .dataframe thead th {\n        text-align: right;\n    }\n</style>\n<table border=\"1\" class=\"dataframe\">\n  <thead>\n    <tr style=\"text-align: right;\">\n      <th></th>\n      <th>Setup</th>\n      <th>logistic_regression</th>\n      <th>transformer_encoder</th>\n      <th>bert-base-uncased</th>\n      <th>bert-base-multilingual-cased</th>\n    </tr>\n  </thead>\n  <tbody>\n    <tr>\n      <th>0</th>\n      <td>zero</td>\n      <td>0.459554</td>\n      <td>0.543634</td>\n      <td>0.541674</td>\n      <td>0.626963</td>\n    </tr>\n    <tr>\n      <th>1</th>\n      <td>few50</td>\n      <td>0.602569</td>\n      <td>0.628380</td>\n      <td>0.588368</td>\n      <td>0.640045</td>\n    </tr>\n    <tr>\n      <th>2</th>\n      <td>few100</td>\n      <td>0.599670</td>\n      <td>0.655968</td>\n      <td>0.631603</td>\n      <td>0.699871</td>\n    </tr>\n    <tr>\n      <th>3</th>\n      <td>few150</td>\n      <td>0.620090</td>\n      <td>0.708560</td>\n      <td>0.655699</td>\n      <td>0.727245</td>\n    </tr>\n    <tr>\n      <th>4</th>\n      <td>few200</td>\n      <td>0.622177</td>\n      <td>0.714131</td>\n      <td>0.580542</td>\n      <td>0.706095</td>\n    </tr>\n    <tr>\n      <th>5</th>\n      <td>full</td>\n      <td>0.622177</td>\n      <td>0.714131</td>\n      <td>0.580542</td>\n      <td>0.706095</td>\n    </tr>\n    <tr>\n      <th>6</th>\n      <td>trg</td>\n      <td>0.644527</td>\n      <td>0.695322</td>\n      <td>0.581654</td>\n      <td>0.712644</td>\n    </tr>\n  </tbody>\n</table>\n</div>"
     },
     "execution_count": 14,
     "metadata": {},
     "output_type": "execute_result"
    }
   ],
   "source": [
    "ar_best_results_df"
   ],
   "metadata": {
    "collapsed": false,
    "pycharm": {
     "name": "#%%\n"
    }
   }
  },
  {
   "cell_type": "code",
   "execution_count": 15,
   "outputs": [],
   "source": [
    "ar_best_results_df.round(4).to_clipboard(index=False)"
   ],
   "metadata": {
    "collapsed": false,
    "pycharm": {
     "name": "#%%\n"
    }
   }
  },
  {
   "cell_type": "code",
   "execution_count": 15,
   "outputs": [],
   "source": [],
   "metadata": {
    "collapsed": false,
    "pycharm": {
     "name": "#%%\n"
    }
   }
  }
 ],
 "metadata": {
  "kernelspec": {
   "display_name": "Python 3",
   "language": "python",
   "name": "python3"
  },
  "language_info": {
   "codemirror_mode": {
    "name": "ipython",
    "version": 2
   },
   "file_extension": ".py",
   "mimetype": "text/x-python",
   "name": "python",
   "nbconvert_exporter": "python",
   "pygments_lexer": "ipython2",
   "version": "2.7.6"
  }
 },
 "nbformat": 4,
 "nbformat_minor": 0
}