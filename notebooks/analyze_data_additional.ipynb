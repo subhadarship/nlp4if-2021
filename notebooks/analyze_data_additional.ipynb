{
 "cells": [
  {
   "cell_type": "markdown",
   "source": [
    "# Data"
   ],
   "metadata": {
    "collapsed": false,
    "pycharm": {
     "name": "#%% md\n"
    }
   }
  },
  {
   "cell_type": "code",
   "execution_count": 1,
   "metadata": {
    "collapsed": true
   },
   "outputs": [],
   "source": [
    "import os\n",
    "\n",
    "import pandas as pd"
   ]
  },
  {
   "cell_type": "code",
   "source": [
    "HOME_DATA_DIR = os.path.join('../data')\n",
    "assert os.path.isdir(HOME_DATA_DIR)"
   ],
   "metadata": {
    "collapsed": false,
    "pycharm": {
     "name": "#%%\n"
    }
   },
   "execution_count": 2,
   "outputs": []
  },
  {
   "cell_type": "markdown",
   "source": [
    "## Raw data"
   ],
   "metadata": {
    "collapsed": false,
    "pycharm": {
     "name": "#%% md\n"
    }
   }
  },
  {
   "cell_type": "code",
   "execution_count": 3,
   "outputs": [],
   "source": [
    "data_fpath_dict = {\n",
    "    'english': {\n",
    "        'train': os.path.join(HOME_DATA_DIR, 'english', 'v3', 'v3', 'covid19_disinfo_binary_english_train.tsv'),\n",
    "        'dev': os.path.join(HOME_DATA_DIR, 'english', 'v3', 'v3', 'covid19_disinfo_binary_english_dev_input.tsv'),\n",
    "        'test': os.path.join(HOME_DATA_DIR, 'english', 'test-input', 'test-input',\n",
    "                             'covid19_disinfo_binary_english_test_input.tsv'),\n",
    "    },\n",
    "    'bulgarian': {\n",
    "        'train': os.path.join(HOME_DATA_DIR, 'bulgarian', 'v1', 'v1', 'covid19_disinfo_binary_bulgarian_train.tsv'),\n",
    "        'dev': os.path.join(HOME_DATA_DIR, 'bulgarian', 'v1', 'v1', 'covid19_disinfo_binary_bulgarian_dev.tsv'),\n",
    "        'test': os.path.join(HOME_DATA_DIR, 'bulgarian', 'test-input', 'test-input',\n",
    "                             'covid19_disinfo_binary_bulgarian_test_input.tsv'),\n",
    "    },\n",
    "    'arabic': {\n",
    "        'train': os.path.join(HOME_DATA_DIR, 'arabic', 'v3', 'v3', 'covid19_disinfo_binary_arabic_train.tsv'),\n",
    "        'dev': os.path.join(HOME_DATA_DIR, 'arabic', 'v3', 'v3', 'covid19_disinfo_binary_arabic_dev.tsv'),\n",
    "        'test': os.path.join(HOME_DATA_DIR, 'arabic', 'test-input', 'test-input',\n",
    "                             'covid19_disinfo_binary_arabic_test_input.tsv'),\n",
    "    },\n",
    "\n",
    "}"
   ],
   "metadata": {
    "collapsed": false,
    "pycharm": {
     "name": "#%%\n"
    }
   }
  },
  {
   "cell_type": "code",
   "execution_count": 4,
   "outputs": [],
   "source": [
    "dfs_dict = {}\n",
    "for lang, di in data_fpath_dict.items():\n",
    "    for split_name, fpath in di.items():\n",
    "        dfs_dict[lang, split_name] = pd.read_csv(fpath, sep='\\t', encoding='utf-8', na_filter=False)"
   ],
   "metadata": {
    "collapsed": false,
    "pycharm": {
     "name": "#%%\n"
    }
   }
  },
  {
   "cell_type": "code",
   "execution_count": 5,
   "outputs": [
    {
     "name": "stdout",
     "output_type": "stream",
     "text": [
      "language: english, split: train, total samples: 869\n",
      "language: english, split: dev, total samples: 53\n",
      "language: english, split: test, total samples: 418\n",
      "language: bulgarian, split: train, total samples: 3000\n",
      "language: bulgarian, split: dev, total samples: 350\n",
      "language: bulgarian, split: test, total samples: 357\n",
      "language: arabic, split: train, total samples: 2536\n",
      "language: arabic, split: dev, total samples: 520\n",
      "language: arabic, split: test, total samples: 1000\n"
     ]
    }
   ],
   "source": [
    "for (lang, split_name), df in dfs_dict.items():\n",
    "    print(f'language: {lang}, split: {split_name}, total samples: {len(df)}')"
   ],
   "metadata": {
    "collapsed": false,
    "pycharm": {
     "name": "#%%\n"
    }
   }
  },
  {
   "cell_type": "markdown",
   "source": [
    "## Prepared data (train and dev splits)\n"
   ],
   "metadata": {
    "collapsed": false,
    "pycharm": {
     "name": "#%% md\n"
    }
   }
  },
  {
   "cell_type": "code",
   "execution_count": 6,
   "outputs": [],
   "source": [
    "table_dict = {\n",
    "    'Language': [],\n",
    "    'train': [],\n",
    "    'dev': [],\n",
    "}\n",
    "for lang in ['en', 'bg', 'ar']:\n",
    "    table_dict['Language'].append(lang)\n",
    "    for split_name in ['train', 'dev']:\n",
    "        table_dict[split_name].append(\n",
    "            len(pd.read_csv(os.path.join(HOME_DATA_DIR, 'prepared_additional', f'{split_name}.{lang}.tsv'), sep='\\t',\n",
    "                            encoding='utf-8', na_filter=False))\n",
    "        )"
   ],
   "metadata": {
    "collapsed": false,
    "pycharm": {
     "name": "#%%\n"
    }
   }
  },
  {
   "cell_type": "code",
   "execution_count": 7,
   "outputs": [
    {
     "data": {
      "text/plain": "  Language  train  dev\n0       en    869   53\n1       bg   3000  350\n2       ar   2536  520",
      "text/html": "<div>\n<style scoped>\n    .dataframe tbody tr th:only-of-type {\n        vertical-align: middle;\n    }\n\n    .dataframe tbody tr th {\n        vertical-align: top;\n    }\n\n    .dataframe thead th {\n        text-align: right;\n    }\n</style>\n<table border=\"1\" class=\"dataframe\">\n  <thead>\n    <tr style=\"text-align: right;\">\n      <th></th>\n      <th>Language</th>\n      <th>train</th>\n      <th>dev</th>\n    </tr>\n  </thead>\n  <tbody>\n    <tr>\n      <th>0</th>\n      <td>en</td>\n      <td>869</td>\n      <td>53</td>\n    </tr>\n    <tr>\n      <th>1</th>\n      <td>bg</td>\n      <td>3000</td>\n      <td>350</td>\n    </tr>\n    <tr>\n      <th>2</th>\n      <td>ar</td>\n      <td>2536</td>\n      <td>520</td>\n    </tr>\n  </tbody>\n</table>\n</div>"
     },
     "execution_count": 7,
     "metadata": {},
     "output_type": "execute_result"
    }
   ],
   "source": [
    "pd.DataFrame(table_dict)"
   ],
   "metadata": {
    "collapsed": false,
    "pycharm": {
     "name": "#%%\n"
    }
   }
  },
  {
   "cell_type": "code",
   "execution_count": 8,
   "outputs": [
    {
     "name": "stdout",
     "output_type": "stream",
     "text": [
      "*** english ***\n",
      "train:\n",
      "q1_label : {'yes': 1933, 'no': 1067}\n",
      "q2_label : {'no': 1897, 'nan': 1039, 'yes': 64}\n",
      "q3_label : {'yes': 1910, 'nan': 1035, 'no': 55}\n",
      "q4_label : {'no': 1770, 'nan': 1049, 'yes': 181}\n",
      "q5_label : {'no': 1557, 'nan': 1051, 'yes': 392}\n",
      "q6_label : {'no': 2680, 'yes': 316, 'nan': 4}\n",
      "q7_label : {'no': 2655, 'yes': 300, 'nan': 45}\n",
      "dev:\n",
      "q1_label : {'yes': 315, 'no': 35}\n",
      "q2_label : {'no': 316, 'nan': 29, 'yes': 5}\n",
      "q3_label : {'yes': 308, 'nan': 30, 'no': 12}\n",
      "q4_label : {'no': 288, 'nan': 37, 'yes': 25}\n",
      "q5_label : {'no': 254, 'yes': 62, 'nan': 34}\n",
      "q6_label : {'no': 288, 'yes': 62}\n",
      "q7_label : {'no': 275, 'yes': 69, 'nan': 6}\n",
      "\n",
      "*** bulgarian ***\n",
      "train:\n",
      "q1_label : {'yes': 1933, 'no': 1067}\n",
      "q2_label : {'no': 1897, 'nan': 1039, 'yes': 64}\n",
      "q3_label : {'yes': 1910, 'nan': 1035, 'no': 55}\n",
      "q4_label : {'no': 1770, 'nan': 1049, 'yes': 181}\n",
      "q5_label : {'no': 1557, 'nan': 1051, 'yes': 392}\n",
      "q6_label : {'no': 2680, 'yes': 316, 'nan': 4}\n",
      "q7_label : {'no': 2655, 'yes': 300, 'nan': 45}\n",
      "dev:\n",
      "q1_label : {'yes': 315, 'no': 35}\n",
      "q2_label : {'no': 316, 'nan': 29, 'yes': 5}\n",
      "q3_label : {'yes': 308, 'nan': 30, 'no': 12}\n",
      "q4_label : {'no': 288, 'nan': 37, 'yes': 25}\n",
      "q5_label : {'no': 254, 'yes': 62, 'nan': 34}\n",
      "q6_label : {'no': 288, 'yes': 62}\n",
      "q7_label : {'no': 275, 'yes': 69, 'nan': 6}\n",
      "\n",
      "*** arabic ***\n",
      "train:\n",
      "q1_label : {'yes': 1933, 'no': 1067}\n",
      "q2_label : {'no': 1897, 'nan': 1039, 'yes': 64}\n",
      "q3_label : {'yes': 1910, 'nan': 1035, 'no': 55}\n",
      "q4_label : {'no': 1770, 'nan': 1049, 'yes': 181}\n",
      "q5_label : {'no': 1557, 'nan': 1051, 'yes': 392}\n",
      "q6_label : {'no': 2680, 'yes': 316, 'nan': 4}\n",
      "q7_label : {'no': 2655, 'yes': 300, 'nan': 45}\n",
      "dev:\n",
      "q1_label : {'yes': 315, 'no': 35}\n",
      "q2_label : {'no': 316, 'nan': 29, 'yes': 5}\n",
      "q3_label : {'yes': 308, 'nan': 30, 'no': 12}\n",
      "q4_label : {'no': 288, 'nan': 37, 'yes': 25}\n",
      "q5_label : {'no': 254, 'yes': 62, 'nan': 34}\n",
      "q6_label : {'no': 288, 'yes': 62}\n",
      "q7_label : {'no': 275, 'yes': 69, 'nan': 6}\n",
      "\n"
     ]
    }
   ],
   "source": [
    "for lang in ['english', 'bulgarian', 'arabic']:\n",
    "    print(f'*** {lang} ***')\n",
    "    for split_name in ['train', 'dev']:\n",
    "        print(f'{split_name}:')\n",
    "        for col_name in [f'q{idx + 1}_label' for idx in range(7)]:\n",
    "            print(col_name, ':', dfs_dict['bulgarian', split_name][col_name].value_counts().to_dict())\n",
    "    print()"
   ],
   "metadata": {
    "collapsed": false,
    "pycharm": {
     "name": "#%%\n"
    }
   }
  },
  {
   "cell_type": "markdown",
   "source": [
    "**Distribution of labels**"
   ],
   "metadata": {
    "collapsed": false
   }
  },
  {
   "cell_type": "code",
   "execution_count": 9,
   "outputs": [],
   "source": [
    "label_distribution_table = {\n",
    "    'language': [],\n",
    "    'split': [],\n",
    "}\n",
    "label_distribution_table.update({\n",
    "    f'Q{idx + 1}': [] for idx in range(7)\n",
    "})\n",
    "\n",
    "for lang in ['english', 'bulgarian', 'arabic']:\n",
    "    for split_name in ['train', 'dev']:\n",
    "        label_distribution_table['language'].append(lang)\n",
    "        label_distribution_table['split'].append(split_name)\n",
    "        for idx in range(7):\n",
    "            value_counts = dfs_dict[lang, split_name][f'q{idx + 1}_label'].value_counts()\n",
    "            label_distribution_table[f'Q{idx + 1}'].append(f'{value_counts[\"yes\"]} Y / {value_counts[\"no\"]} N')"
   ],
   "metadata": {
    "collapsed": false,
    "pycharm": {
     "name": "#%%\n"
    }
   }
  },
  {
   "cell_type": "code",
   "execution_count": 10,
   "outputs": [
    {
     "data": {
      "text/plain": "    language  split               Q1              Q2             Q3  \\\n0    english  train    569 Y / 300 N    39 Y / 460 N   510 Y / 51 N   \n1    english    dev      27 Y / 26 N      4 Y / 20 N     22 Y / 5 N   \n2  bulgarian  train  1933 Y / 1067 N   64 Y / 1897 N  1910 Y / 55 N   \n3  bulgarian    dev     315 Y / 35 N     5 Y / 316 N   308 Y / 12 N   \n4     arabic  train   1926 Y / 610 N  376 Y / 1545 N  1895 Y / 22 N   \n5     arabic    dev    225 Y / 295 N    12 Y / 210 N    221 Y / 4 N   \n\n               Q4              Q5              Q6              Q7  \n0   156 Y / 409 N   185 Y / 384 N   138 Y / 729 N   229 Y / 634 N  \n1     11 Y / 16 N     12 Y / 15 N      6 Y / 47 N      8 Y / 45 N  \n2  181 Y / 1770 N  392 Y / 1557 N  316 Y / 2680 N  300 Y / 2655 N  \n3    25 Y / 288 N    62 Y / 254 N    62 Y / 288 N    69 Y / 275 N  \n4  351 Y / 1566 N   936 Y / 990 N  459 Y / 2075 N  2208 Y / 328 N  \n5    23 Y / 201 N   107 Y / 118 N    41 Y / 478 N   379 Y / 141 N  ",
      "text/html": "<div>\n<style scoped>\n    .dataframe tbody tr th:only-of-type {\n        vertical-align: middle;\n    }\n\n    .dataframe tbody tr th {\n        vertical-align: top;\n    }\n\n    .dataframe thead th {\n        text-align: right;\n    }\n</style>\n<table border=\"1\" class=\"dataframe\">\n  <thead>\n    <tr style=\"text-align: right;\">\n      <th></th>\n      <th>language</th>\n      <th>split</th>\n      <th>Q1</th>\n      <th>Q2</th>\n      <th>Q3</th>\n      <th>Q4</th>\n      <th>Q5</th>\n      <th>Q6</th>\n      <th>Q7</th>\n    </tr>\n  </thead>\n  <tbody>\n    <tr>\n      <th>0</th>\n      <td>english</td>\n      <td>train</td>\n      <td>569 Y / 300 N</td>\n      <td>39 Y / 460 N</td>\n      <td>510 Y / 51 N</td>\n      <td>156 Y / 409 N</td>\n      <td>185 Y / 384 N</td>\n      <td>138 Y / 729 N</td>\n      <td>229 Y / 634 N</td>\n    </tr>\n    <tr>\n      <th>1</th>\n      <td>english</td>\n      <td>dev</td>\n      <td>27 Y / 26 N</td>\n      <td>4 Y / 20 N</td>\n      <td>22 Y / 5 N</td>\n      <td>11 Y / 16 N</td>\n      <td>12 Y / 15 N</td>\n      <td>6 Y / 47 N</td>\n      <td>8 Y / 45 N</td>\n    </tr>\n    <tr>\n      <th>2</th>\n      <td>bulgarian</td>\n      <td>train</td>\n      <td>1933 Y / 1067 N</td>\n      <td>64 Y / 1897 N</td>\n      <td>1910 Y / 55 N</td>\n      <td>181 Y / 1770 N</td>\n      <td>392 Y / 1557 N</td>\n      <td>316 Y / 2680 N</td>\n      <td>300 Y / 2655 N</td>\n    </tr>\n    <tr>\n      <th>3</th>\n      <td>bulgarian</td>\n      <td>dev</td>\n      <td>315 Y / 35 N</td>\n      <td>5 Y / 316 N</td>\n      <td>308 Y / 12 N</td>\n      <td>25 Y / 288 N</td>\n      <td>62 Y / 254 N</td>\n      <td>62 Y / 288 N</td>\n      <td>69 Y / 275 N</td>\n    </tr>\n    <tr>\n      <th>4</th>\n      <td>arabic</td>\n      <td>train</td>\n      <td>1926 Y / 610 N</td>\n      <td>376 Y / 1545 N</td>\n      <td>1895 Y / 22 N</td>\n      <td>351 Y / 1566 N</td>\n      <td>936 Y / 990 N</td>\n      <td>459 Y / 2075 N</td>\n      <td>2208 Y / 328 N</td>\n    </tr>\n    <tr>\n      <th>5</th>\n      <td>arabic</td>\n      <td>dev</td>\n      <td>225 Y / 295 N</td>\n      <td>12 Y / 210 N</td>\n      <td>221 Y / 4 N</td>\n      <td>23 Y / 201 N</td>\n      <td>107 Y / 118 N</td>\n      <td>41 Y / 478 N</td>\n      <td>379 Y / 141 N</td>\n    </tr>\n  </tbody>\n</table>\n</div>"
     },
     "execution_count": 10,
     "metadata": {},
     "output_type": "execute_result"
    }
   ],
   "source": [
    "pd.DataFrame(label_distribution_table)"
   ],
   "metadata": {
    "collapsed": false,
    "pycharm": {
     "name": "#%%\n"
    }
   }
  },
  {
   "cell_type": "code",
   "execution_count": 11,
   "outputs": [
    {
     "name": "stdout",
     "output_type": "stream",
     "text": [
      "\\begin{tabular}{lllllllll}\n",
      "\\toprule\n",
      "  language &  split &               Q1 &              Q2 &             Q3 &              Q4 &              Q5 &              Q6 &              Q7 \\\\\n",
      "\\midrule\n",
      "   english &  train &    569 Y / 300 N &    39 Y / 460 N &   510 Y / 51 N &   156 Y / 409 N &   185 Y / 384 N &   138 Y / 729 N &   229 Y / 634 N \\\\\n",
      "   english &    dev &      27 Y / 26 N &      4 Y / 20 N &     22 Y / 5 N &     11 Y / 16 N &     12 Y / 15 N &      6 Y / 47 N &      8 Y / 45 N \\\\\n",
      " bulgarian &  train &  1933 Y / 1067 N &   64 Y / 1897 N &  1910 Y / 55 N &  181 Y / 1770 N &  392 Y / 1557 N &  316 Y / 2680 N &  300 Y / 2655 N \\\\\n",
      " bulgarian &    dev &     315 Y / 35 N &     5 Y / 316 N &   308 Y / 12 N &    25 Y / 288 N &    62 Y / 254 N &    62 Y / 288 N &    69 Y / 275 N \\\\\n",
      "    arabic &  train &   1926 Y / 610 N &  376 Y / 1545 N &  1895 Y / 22 N &  351 Y / 1566 N &   936 Y / 990 N &  459 Y / 2075 N &  2208 Y / 328 N \\\\\n",
      "    arabic &    dev &    225 Y / 295 N &    12 Y / 210 N &    221 Y / 4 N &    23 Y / 201 N &   107 Y / 118 N &    41 Y / 478 N &   379 Y / 141 N \\\\\n",
      "\\bottomrule\n",
      "\\end{tabular}\n",
      "\n"
     ]
    }
   ],
   "source": [
    "print(pd.DataFrame(label_distribution_table).to_latex(index=False))"
   ],
   "metadata": {
    "collapsed": false,
    "pycharm": {
     "name": "#%%\n"
    }
   }
  },
  {
   "cell_type": "code",
   "execution_count": 11,
   "outputs": [],
   "source": [],
   "metadata": {
    "collapsed": false,
    "pycharm": {
     "name": "#%%\n"
    }
   }
  },
  {
   "cell_type": "markdown",
   "source": [
    "## Look at some data samples"
   ],
   "metadata": {
    "collapsed": false,
    "pycharm": {
     "name": "#%% md\n"
    }
   }
  },
  {
   "cell_type": "markdown",
   "source": [
    "**English**"
   ],
   "metadata": {
    "collapsed": false,
    "pycharm": {
     "name": "#%% md\n"
    }
   }
  },
  {
   "cell_type": "code",
   "execution_count": 12,
   "outputs": [
    {
     "data": {
      "text/plain": "['It’s corona time URL',\n 'Now they want to clean',\n 'this is fucking bullshit',\n 'But bitch y’all said— URL',\n 'Exhibit A ð\\x9f\\x98\\xadð\\x9f¥´ URL URL',\n 'COVID-19 health advice⚠️ URL',\n 'chinese corona virus be like URL',\n 'self quarantine #coronavirus URL',\n 'Thank you, keep up the great work!',\n 'Day 5: We have rediscovered farming']"
     },
     "execution_count": 12,
     "metadata": {},
     "output_type": "execute_result"
    }
   ],
   "source": [
    "sorted(dfs_dict['english', 'train']['tweet_text'].to_list(), key=lambda x: len(x))[:10]"
   ],
   "metadata": {
    "collapsed": false,
    "pycharm": {
     "name": "#%%\n"
    }
   }
  },
  {
   "cell_type": "code",
   "execution_count": 13,
   "outputs": [],
   "source": [
    "sorted_df = dfs_dict['english', 'train'].sort_values(by=['tweet_text'], key=lambda x: x.str.len())"
   ],
   "metadata": {
    "collapsed": false,
    "pycharm": {
     "name": "#%%\n"
    }
   }
  },
  {
   "cell_type": "code",
   "execution_count": 14,
   "outputs": [
    {
     "data": {
      "text/plain": "tweet_no                                     303\ntweet_text    Thank you, keep up the great work!\nq1_label                                      no\nq2_label                                     nan\nq3_label                                     nan\nq4_label                                     nan\nq5_label                                     nan\nq6_label                                      no\nq7_label                                      no\nName: 302, dtype: object"
     },
     "execution_count": 14,
     "metadata": {},
     "output_type": "execute_result"
    }
   ],
   "source": [
    "sorted_df.iloc[8]"
   ],
   "metadata": {
    "collapsed": false,
    "pycharm": {
     "name": "#%%\n"
    }
   }
  },
  {
   "cell_type": "markdown",
   "source": [
    "**Bulgarian**"
   ],
   "metadata": {
    "collapsed": false
   }
  },
  {
   "cell_type": "code",
   "execution_count": 15,
   "outputs": [
    {
     "data": {
      "text/plain": "['Ж. 80. Covid пневмония.',\n 'Туит на италиански. 😈 Corona ciao.',\n 'Короната е умрена Да живее #Covid19',\n 'Пълното име на вируса било Covid-1984',\n 'Ей тъй са прай. https://t.co/byATViqUGE',\n 'Шах и мат зоофоби.) https://t.co/YSz7x3WEF5',\n 'И още малко сайънс. https://t.co/WMfJewLD4h',\n 'Цял месец. Само 71. https://t.co/e6UF96FrLy',\n 'Още малко благини ☺️ https://t.co/eZEiAwSTse',\n 'Чат ботът COVID-19 във Вайбър е много удобен']"
     },
     "execution_count": 15,
     "metadata": {},
     "output_type": "execute_result"
    }
   ],
   "source": [
    "sorted(dfs_dict['bulgarian', 'train']['text'].to_list(), key=lambda x: len(x))[:10]"
   ],
   "metadata": {
    "collapsed": false,
    "pycharm": {
     "name": "#%%\n"
    }
   }
  },
  {
   "cell_type": "code",
   "execution_count": 16,
   "outputs": [],
   "source": [
    "sorted_df = dfs_dict['bulgarian', 'train'].sort_values(by=['text'], key=lambda x: x.str.len())"
   ],
   "metadata": {
    "collapsed": false,
    "pycharm": {
     "name": "#%%\n"
    }
   }
  },
  {
   "cell_type": "code",
   "execution_count": 17,
   "outputs": [
    {
     "data": {
      "text/plain": "tweet_no                                           1319\ntext        Цял месец. Само 71. https://t.co/e6UF96FrLy\nq1_label                                            yes\nq2_label                                             no\nq3_label                                            yes\nq4_label                                             no\nq5_label                                             no\nq6_label                                             no\nq7_label                                             no\nName: 1318, dtype: object"
     },
     "execution_count": 17,
     "metadata": {},
     "output_type": "execute_result"
    }
   ],
   "source": [
    "sorted_df.iloc[6]\n"
   ],
   "metadata": {
    "collapsed": false,
    "pycharm": {
     "name": "#%%\n"
    }
   }
  },
  {
   "cell_type": "markdown",
   "source": [
    "**Arabic**"
   ],
   "metadata": {
    "collapsed": false
   }
  },
  {
   "cell_type": "code",
   "execution_count": 18,
   "outputs": [
    {
     "data": {
      "text/plain": "['طيب هذي دعواتهم',\n 'ما هو دي دعواتنا',\n 'كوفيد ١٩ برو ماكس',\n 'ماذا بعد #كورونا يا أهل قطر ؟😉',\n 'لقاح الاديان اهم من لقاح #كورونا',\n '#كورونا راحت تقابل #كورونا 😊ً URL',\n 'كورونا لما يشوف اللي بيحصل في اسكندريه URL',\n 'ما هو أفضل علاج لفيروس كورونا كوفيد-١٩؟ URL',\n '❌ علاج ❌ لقاح ✅ مناعة https://t.co/WkoTQy7ok5',\n 'روسيا تعلن عن أول لقاح مضاد لفيروس كورونا #كورونا']"
     },
     "execution_count": 18,
     "metadata": {},
     "output_type": "execute_result"
    }
   ],
   "source": [
    "sorted(dfs_dict['arabic', 'train']['text'].to_list(), key=lambda x: len(x))[:10]"
   ],
   "metadata": {
    "collapsed": false,
    "pycharm": {
     "name": "#%%\n"
    }
   }
  },
  {
   "cell_type": "code",
   "execution_count": 19,
   "outputs": [],
   "source": [
    "sorted_df = dfs_dict['arabic', 'train'].sort_values(by=['text'], key=lambda x: x.str.len())"
   ],
   "metadata": {
    "collapsed": false,
    "pycharm": {
     "name": "#%%\n"
    }
   }
  },
  {
   "cell_type": "code",
   "execution_count": 20,
   "outputs": [
    {
     "data": {
      "text/plain": "tweet_no                   44\ntext        كوفيد ١٩ برو ماكس\nq1_label                   no\nq2_label                  nan\nq3_label                  nan\nq4_label                  nan\nq5_label                  nan\nq6_label                  yes\nq7_label                  yes\nName: 43, dtype: object"
     },
     "execution_count": 20,
     "metadata": {},
     "output_type": "execute_result"
    }
   ],
   "source": [
    "sorted_df.iloc[2]\n",
    "\n",
    "\n"
   ],
   "metadata": {
    "collapsed": false,
    "pycharm": {
     "name": "#%%\n"
    }
   }
  }
 ],
 "metadata": {
  "kernelspec": {
   "display_name": "Python 3",
   "language": "python",
   "name": "python3"
  },
  "language_info": {
   "codemirror_mode": {
    "name": "ipython",
    "version": 2
   },
   "file_extension": ".py",
   "mimetype": "text/x-python",
   "name": "python",
   "nbconvert_exporter": "python",
   "pygments_lexer": "ipython2",
   "version": "2.7.6"
  }
 },
 "nbformat": 4,
 "nbformat_minor": 0
}