{
 "cells": [
  {
   "cell_type": "markdown",
   "source": [
    "# Data"
   ],
   "metadata": {
    "collapsed": false,
    "pycharm": {
     "name": "#%% md\n"
    }
   }
  },
  {
   "cell_type": "code",
   "execution_count": 1,
   "metadata": {
    "collapsed": true
   },
   "outputs": [],
   "source": [
    "import os\n",
    "\n",
    "import pandas as pd"
   ]
  },
  {
   "cell_type": "code",
   "source": [
    "HOME_DATA_DIR = os.path.join('../data')\n",
    "assert os.path.isdir(HOME_DATA_DIR)"
   ],
   "metadata": {
    "collapsed": false,
    "pycharm": {
     "name": "#%%\n"
    }
   },
   "execution_count": 2,
   "outputs": []
  },
  {
   "cell_type": "markdown",
   "source": [
    "## Raw data"
   ],
   "metadata": {
    "collapsed": false,
    "pycharm": {
     "name": "#%% md\n"
    }
   }
  },
  {
   "cell_type": "code",
   "execution_count": 3,
   "outputs": [],
   "source": [
    "data_fpath_dict = {\n",
    "    'english': {\n",
    "        'train': os.path.join(HOME_DATA_DIR, 'english', 'v3', 'v3', 'covid19_disinfo_binary_english_train.tsv'),\n",
    "        'dev': os.path.join(HOME_DATA_DIR, 'english', 'v3', 'v3', 'covid19_disinfo_binary_english_dev_input.tsv'),\n",
    "        'test': os.path.join(HOME_DATA_DIR, 'english', 'test-input', 'test-input',\n",
    "                             'covid19_disinfo_binary_english_test_input.tsv'),\n",
    "    },\n",
    "    'bulgarian': {\n",
    "        'train': os.path.join(HOME_DATA_DIR, 'bulgarian', 'v1', 'v1', 'covid19_disinfo_binary_bulgarian_train.tsv'),\n",
    "        'dev': os.path.join(HOME_DATA_DIR, 'bulgarian', 'v1', 'v1', 'covid19_disinfo_binary_bulgarian_dev.tsv'),\n",
    "        'test': os.path.join(HOME_DATA_DIR, 'bulgarian', 'test-input', 'test-input',\n",
    "                             'covid19_disinfo_binary_bulgarian_test_input.tsv'),\n",
    "    },\n",
    "    'arabic': {\n",
    "        'train': os.path.join(HOME_DATA_DIR, 'arabic', 'v3', 'v3', 'covid19_disinfo_binary_arabic_train.tsv'),\n",
    "        'dev': os.path.join(HOME_DATA_DIR, 'arabic', 'v3', 'v3', 'covid19_disinfo_binary_arabic_dev.tsv'),\n",
    "        'test': os.path.join(HOME_DATA_DIR, 'arabic', 'test-input', 'test-input',\n",
    "                             'covid19_disinfo_binary_arabic_test_input.tsv'),\n",
    "    },\n",
    "\n",
    "}"
   ],
   "metadata": {
    "collapsed": false,
    "pycharm": {
     "name": "#%%\n"
    }
   }
  },
  {
   "cell_type": "code",
   "execution_count": 4,
   "outputs": [],
   "source": [
    "dfs_dict = {}\n",
    "for lang, di in data_fpath_dict.items():\n",
    "    for split_name, fpath in di.items():\n",
    "        dfs_dict[lang, split_name] = pd.read_csv(fpath, sep='\\t', encoding='utf-8', na_filter=False)"
   ],
   "metadata": {
    "collapsed": false,
    "pycharm": {
     "name": "#%%\n"
    }
   }
  },
  {
   "cell_type": "code",
   "execution_count": 5,
   "outputs": [
    {
     "name": "stdout",
     "output_type": "stream",
     "text": [
      "language: english, split: train, total samples: 869\n",
      "language: english, split: dev, total samples: 53\n",
      "language: english, split: test, total samples: 418\n",
      "language: bulgarian, split: train, total samples: 3000\n",
      "language: bulgarian, split: dev, total samples: 350\n",
      "language: bulgarian, split: test, total samples: 357\n",
      "language: arabic, split: train, total samples: 2536\n",
      "language: arabic, split: dev, total samples: 520\n",
      "language: arabic, split: test, total samples: 1000\n"
     ]
    }
   ],
   "source": [
    "for (lang, split_name), df in dfs_dict.items():\n",
    "    print(f'language: {lang}, split: {split_name}, total samples: {len(df)}')"
   ],
   "metadata": {
    "collapsed": false,
    "pycharm": {
     "name": "#%%\n"
    }
   }
  },
  {
   "cell_type": "markdown",
   "source": [
    "## Prepared data (train and dev splits)\n"
   ],
   "metadata": {
    "collapsed": false,
    "pycharm": {
     "name": "#%% md\n"
    }
   }
  },
  {
   "cell_type": "code",
   "execution_count": 6,
   "outputs": [],
   "source": [
    "table_dict = {\n",
    "    'Language': [],\n",
    "    'train': [],\n",
    "    'dev': [],\n",
    "}\n",
    "for lang in ['en', 'bg', 'ar']:\n",
    "    table_dict['Language'].append(lang)\n",
    "    for split_name in ['train', 'dev']:\n",
    "        table_dict[split_name].append(\n",
    "            len(pd.read_csv(os.path.join(HOME_DATA_DIR, 'prepared_additional', f'{split_name}.{lang}.tsv'), sep='\\t',\n",
    "                            encoding='utf-8', na_filter=False))\n",
    "        )"
   ],
   "metadata": {
    "collapsed": false,
    "pycharm": {
     "name": "#%%\n"
    }
   }
  },
  {
   "cell_type": "code",
   "execution_count": 7,
   "outputs": [
    {
     "data": {
      "text/plain": "  Language  train  dev\n0       en    869   53\n1       bg   3000  350\n2       ar   2536  520",
      "text/html": "<div>\n<style scoped>\n    .dataframe tbody tr th:only-of-type {\n        vertical-align: middle;\n    }\n\n    .dataframe tbody tr th {\n        vertical-align: top;\n    }\n\n    .dataframe thead th {\n        text-align: right;\n    }\n</style>\n<table border=\"1\" class=\"dataframe\">\n  <thead>\n    <tr style=\"text-align: right;\">\n      <th></th>\n      <th>Language</th>\n      <th>train</th>\n      <th>dev</th>\n    </tr>\n  </thead>\n  <tbody>\n    <tr>\n      <th>0</th>\n      <td>en</td>\n      <td>869</td>\n      <td>53</td>\n    </tr>\n    <tr>\n      <th>1</th>\n      <td>bg</td>\n      <td>3000</td>\n      <td>350</td>\n    </tr>\n    <tr>\n      <th>2</th>\n      <td>ar</td>\n      <td>2536</td>\n      <td>520</td>\n    </tr>\n  </tbody>\n</table>\n</div>"
     },
     "execution_count": 7,
     "metadata": {},
     "output_type": "execute_result"
    }
   ],
   "source": [
    "pd.DataFrame(table_dict)"
   ],
   "metadata": {
    "collapsed": false,
    "pycharm": {
     "name": "#%%\n"
    }
   }
  },
  {
   "cell_type": "code",
   "execution_count": 8,
   "outputs": [
    {
     "name": "stdout",
     "output_type": "stream",
     "text": [
      "*** english ***\n",
      "train:\n",
      "q1_label : {'yes': 1933, 'no': 1067}\n",
      "q2_label : {'no': 1897, 'nan': 1039, 'yes': 64}\n",
      "q3_label : {'yes': 1910, 'nan': 1035, 'no': 55}\n",
      "q4_label : {'no': 1770, 'nan': 1049, 'yes': 181}\n",
      "q5_label : {'no': 1557, 'nan': 1051, 'yes': 392}\n",
      "q6_label : {'no': 2680, 'yes': 316, 'nan': 4}\n",
      "q7_label : {'no': 2655, 'yes': 300, 'nan': 45}\n",
      "dev:\n",
      "q1_label : {'yes': 315, 'no': 35}\n",
      "q2_label : {'no': 316, 'nan': 29, 'yes': 5}\n",
      "q3_label : {'yes': 308, 'nan': 30, 'no': 12}\n",
      "q4_label : {'no': 288, 'nan': 37, 'yes': 25}\n",
      "q5_label : {'no': 254, 'yes': 62, 'nan': 34}\n",
      "q6_label : {'no': 288, 'yes': 62}\n",
      "q7_label : {'no': 275, 'yes': 69, 'nan': 6}\n",
      "\n",
      "*** bulgarian ***\n",
      "train:\n",
      "q1_label : {'yes': 1933, 'no': 1067}\n",
      "q2_label : {'no': 1897, 'nan': 1039, 'yes': 64}\n",
      "q3_label : {'yes': 1910, 'nan': 1035, 'no': 55}\n",
      "q4_label : {'no': 1770, 'nan': 1049, 'yes': 181}\n",
      "q5_label : {'no': 1557, 'nan': 1051, 'yes': 392}\n",
      "q6_label : {'no': 2680, 'yes': 316, 'nan': 4}\n",
      "q7_label : {'no': 2655, 'yes': 300, 'nan': 45}\n",
      "dev:\n",
      "q1_label : {'yes': 315, 'no': 35}\n",
      "q2_label : {'no': 316, 'nan': 29, 'yes': 5}\n",
      "q3_label : {'yes': 308, 'nan': 30, 'no': 12}\n",
      "q4_label : {'no': 288, 'nan': 37, 'yes': 25}\n",
      "q5_label : {'no': 254, 'yes': 62, 'nan': 34}\n",
      "q6_label : {'no': 288, 'yes': 62}\n",
      "q7_label : {'no': 275, 'yes': 69, 'nan': 6}\n",
      "\n",
      "*** arabic ***\n",
      "train:\n",
      "q1_label : {'yes': 1933, 'no': 1067}\n",
      "q2_label : {'no': 1897, 'nan': 1039, 'yes': 64}\n",
      "q3_label : {'yes': 1910, 'nan': 1035, 'no': 55}\n",
      "q4_label : {'no': 1770, 'nan': 1049, 'yes': 181}\n",
      "q5_label : {'no': 1557, 'nan': 1051, 'yes': 392}\n",
      "q6_label : {'no': 2680, 'yes': 316, 'nan': 4}\n",
      "q7_label : {'no': 2655, 'yes': 300, 'nan': 45}\n",
      "dev:\n",
      "q1_label : {'yes': 315, 'no': 35}\n",
      "q2_label : {'no': 316, 'nan': 29, 'yes': 5}\n",
      "q3_label : {'yes': 308, 'nan': 30, 'no': 12}\n",
      "q4_label : {'no': 288, 'nan': 37, 'yes': 25}\n",
      "q5_label : {'no': 254, 'yes': 62, 'nan': 34}\n",
      "q6_label : {'no': 288, 'yes': 62}\n",
      "q7_label : {'no': 275, 'yes': 69, 'nan': 6}\n",
      "\n"
     ]
    }
   ],
   "source": [
    "for lang in ['english', 'bulgarian', 'arabic']:\n",
    "    print(f'*** {lang} ***')\n",
    "    for split_name in ['train', 'dev']:\n",
    "        print(f'{split_name}:')\n",
    "        for col_name in [f'q{idx + 1}_label' for idx in range(7)]:\n",
    "            print(col_name, ':', dfs_dict['bulgarian', split_name][col_name].value_counts().to_dict())\n",
    "    print()"
   ],
   "metadata": {
    "collapsed": false,
    "pycharm": {
     "name": "#%%\n"
    }
   }
  },
  {
   "cell_type": "markdown",
   "source": [
    "**Distribution of labels**"
   ],
   "metadata": {
    "collapsed": false
   }
  },
  {
   "cell_type": "code",
   "execution_count": 9,
   "outputs": [],
   "source": [
    "label_distribution_table = {\n",
    "    'language': [],\n",
    "    'split': [],\n",
    "}\n",
    "label_distribution_table.update({\n",
    "    f'Q{idx + 1}': [] for idx in range(7)\n",
    "})\n",
    "\n",
    "for lang in ['english', 'bulgarian', 'arabic']:\n",
    "    for split_name in ['train', 'dev']:\n",
    "        label_distribution_table['language'].append(lang)\n",
    "        label_distribution_table['split'].append(split_name)\n",
    "        for idx in range(7):\n",
    "            value_counts = dfs_dict[lang, split_name][f'q{idx + 1}_label'].value_counts()\n",
    "            label_distribution_table[f'Q{idx + 1}'].append(f'{value_counts[\"yes\"]} Y / {value_counts[\"no\"]} N')"
   ],
   "metadata": {
    "collapsed": false,
    "pycharm": {
     "name": "#%%\n"
    }
   }
  },
  {
   "cell_type": "code",
   "execution_count": 10,
   "outputs": [
    {
     "data": {
      "text/plain": "    language  split               Q1              Q2             Q3  \\\n0    english  train    569 Y / 300 N    39 Y / 460 N   510 Y / 51 N   \n1    english    dev      27 Y / 26 N      4 Y / 20 N     22 Y / 5 N   \n2  bulgarian  train  1933 Y / 1067 N   64 Y / 1897 N  1910 Y / 55 N   \n3  bulgarian    dev     315 Y / 35 N     5 Y / 316 N   308 Y / 12 N   \n4     arabic  train   1926 Y / 610 N  376 Y / 1545 N  1895 Y / 22 N   \n5     arabic    dev    225 Y / 295 N    12 Y / 210 N    221 Y / 4 N   \n\n               Q4              Q5              Q6              Q7  \n0   156 Y / 409 N   185 Y / 384 N   138 Y / 729 N   229 Y / 634 N  \n1     11 Y / 16 N     12 Y / 15 N      6 Y / 47 N      8 Y / 45 N  \n2  181 Y / 1770 N  392 Y / 1557 N  316 Y / 2680 N  300 Y / 2655 N  \n3    25 Y / 288 N    62 Y / 254 N    62 Y / 288 N    69 Y / 275 N  \n4  351 Y / 1566 N   936 Y / 990 N  459 Y / 2075 N  2208 Y / 328 N  \n5    23 Y / 201 N   107 Y / 118 N    41 Y / 478 N   379 Y / 141 N  ",
      "text/html": "<div>\n<style scoped>\n    .dataframe tbody tr th:only-of-type {\n        vertical-align: middle;\n    }\n\n    .dataframe tbody tr th {\n        vertical-align: top;\n    }\n\n    .dataframe thead th {\n        text-align: right;\n    }\n</style>\n<table border=\"1\" class=\"dataframe\">\n  <thead>\n    <tr style=\"text-align: right;\">\n      <th></th>\n      <th>language</th>\n      <th>split</th>\n      <th>Q1</th>\n      <th>Q2</th>\n      <th>Q3</th>\n      <th>Q4</th>\n      <th>Q5</th>\n      <th>Q6</th>\n      <th>Q7</th>\n    </tr>\n  </thead>\n  <tbody>\n    <tr>\n      <th>0</th>\n      <td>english</td>\n      <td>train</td>\n      <td>569 Y / 300 N</td>\n      <td>39 Y / 460 N</td>\n      <td>510 Y / 51 N</td>\n      <td>156 Y / 409 N</td>\n      <td>185 Y / 384 N</td>\n      <td>138 Y / 729 N</td>\n      <td>229 Y / 634 N</td>\n    </tr>\n    <tr>\n      <th>1</th>\n      <td>english</td>\n      <td>dev</td>\n      <td>27 Y / 26 N</td>\n      <td>4 Y / 20 N</td>\n      <td>22 Y / 5 N</td>\n      <td>11 Y / 16 N</td>\n      <td>12 Y / 15 N</td>\n      <td>6 Y / 47 N</td>\n      <td>8 Y / 45 N</td>\n    </tr>\n    <tr>\n      <th>2</th>\n      <td>bulgarian</td>\n      <td>train</td>\n      <td>1933 Y / 1067 N</td>\n      <td>64 Y / 1897 N</td>\n      <td>1910 Y / 55 N</td>\n      <td>181 Y / 1770 N</td>\n      <td>392 Y / 1557 N</td>\n      <td>316 Y / 2680 N</td>\n      <td>300 Y / 2655 N</td>\n    </tr>\n    <tr>\n      <th>3</th>\n      <td>bulgarian</td>\n      <td>dev</td>\n      <td>315 Y / 35 N</td>\n      <td>5 Y / 316 N</td>\n      <td>308 Y / 12 N</td>\n      <td>25 Y / 288 N</td>\n      <td>62 Y / 254 N</td>\n      <td>62 Y / 288 N</td>\n      <td>69 Y / 275 N</td>\n    </tr>\n    <tr>\n      <th>4</th>\n      <td>arabic</td>\n      <td>train</td>\n      <td>1926 Y / 610 N</td>\n      <td>376 Y / 1545 N</td>\n      <td>1895 Y / 22 N</td>\n      <td>351 Y / 1566 N</td>\n      <td>936 Y / 990 N</td>\n      <td>459 Y / 2075 N</td>\n      <td>2208 Y / 328 N</td>\n    </tr>\n    <tr>\n      <th>5</th>\n      <td>arabic</td>\n      <td>dev</td>\n      <td>225 Y / 295 N</td>\n      <td>12 Y / 210 N</td>\n      <td>221 Y / 4 N</td>\n      <td>23 Y / 201 N</td>\n      <td>107 Y / 118 N</td>\n      <td>41 Y / 478 N</td>\n      <td>379 Y / 141 N</td>\n    </tr>\n  </tbody>\n</table>\n</div>"
     },
     "execution_count": 10,
     "metadata": {},
     "output_type": "execute_result"
    }
   ],
   "source": [
    "pd.DataFrame(label_distribution_table)"
   ],
   "metadata": {
    "collapsed": false,
    "pycharm": {
     "name": "#%%\n"
    }
   }
  },
  {
   "cell_type": "code",
   "execution_count": 11,
   "outputs": [
    {
     "name": "stdout",
     "output_type": "stream",
     "text": [
      "\\begin{tabular}{lllllllll}\n",
      "\\toprule\n",
      "  language &  split &               Q1 &              Q2 &             Q3 &              Q4 &              Q5 &              Q6 &              Q7 \\\\\n",
      "\\midrule\n",
      "   english &  train &    569 Y / 300 N &    39 Y / 460 N &   510 Y / 51 N &   156 Y / 409 N &   185 Y / 384 N &   138 Y / 729 N &   229 Y / 634 N \\\\\n",
      "   english &    dev &      27 Y / 26 N &      4 Y / 20 N &     22 Y / 5 N &     11 Y / 16 N &     12 Y / 15 N &      6 Y / 47 N &      8 Y / 45 N \\\\\n",
      " bulgarian &  train &  1933 Y / 1067 N &   64 Y / 1897 N &  1910 Y / 55 N &  181 Y / 1770 N &  392 Y / 1557 N &  316 Y / 2680 N &  300 Y / 2655 N \\\\\n",
      " bulgarian &    dev &     315 Y / 35 N &     5 Y / 316 N &   308 Y / 12 N &    25 Y / 288 N &    62 Y / 254 N &    62 Y / 288 N &    69 Y / 275 N \\\\\n",
      "    arabic &  train &   1926 Y / 610 N &  376 Y / 1545 N &  1895 Y / 22 N &  351 Y / 1566 N &   936 Y / 990 N &  459 Y / 2075 N &  2208 Y / 328 N \\\\\n",
      "    arabic &    dev &    225 Y / 295 N &    12 Y / 210 N &    221 Y / 4 N &    23 Y / 201 N &   107 Y / 118 N &    41 Y / 478 N &   379 Y / 141 N \\\\\n",
      "\\bottomrule\n",
      "\\end{tabular}\n",
      "\n"
     ]
    }
   ],
   "source": [
    "print(pd.DataFrame(label_distribution_table).to_latex(index=False))"
   ],
   "metadata": {
    "collapsed": false,
    "pycharm": {
     "name": "#%%\n"
    }
   }
  },
  {
   "cell_type": "code",
   "execution_count": 11,
   "outputs": [],
   "source": [],
   "metadata": {
    "collapsed": false,
    "pycharm": {
     "name": "#%%\n"
    }
   }
  },
  {
   "cell_type": "markdown",
   "source": [
    "## Look at some data samples"
   ],
   "metadata": {
    "collapsed": false,
    "pycharm": {
     "name": "#%% md\n"
    }
   }
  },
  {
   "cell_type": "markdown",
   "source": [
    "**English**"
   ],
   "metadata": {
    "collapsed": false,
    "pycharm": {
     "name": "#%% md\n"
    }
   }
  },
  {
   "cell_type": "code",
   "execution_count": 12,
   "outputs": [
    {
     "data": {
      "text/plain": "     tweet_no                                         tweet_text q1_label  \\\n8           9  fun fact: its tradition for europeans to sprea...      yes   \n12         13  My mum has a PhD on Corona Virus from WhatsApp...      yes   \n29         30  This Corona virus will pass by mid April !! Sp...      yes   \n33         34  no.. one...  cleans like Gaston quarantines li...      yes   \n37         38  Corona Virus isn't real, the government just w...      yes   \n46         47  CDC just announced that corona can be spread v...      yes   \n62         63  my flintstones gummies from 15 years ago fight...      yes   \n66         67  Dominican Republic found the cure for Covid-19...      yes   \n87         88  Y’all dirty mfs brought corona home from Miami...      yes   \n103       104  FRIENDS. The stuff about nature healing and wi...      yes   \n118       119  .@realDonaldTrump, dear Lord—please step up an...      yes   \n137       138  Fearmongering #PharmaFauci - who  built his en...      yes   \n141       142  I was starting to think the Coronavirus fear-m...      yes   \n173       174  Flu Season is winding down and warm weather is...      yes   \n181       182  #Qatar refused to prepare a hospital for the t...      yes   \n202       203  The meth you mistook for molly in 2014 was the...      yes   \n207       208  There's not a single confirmed case of an Asia...      yes   \n218       219  BREAKING: Trump could still own stock in a com...      yes   \n226       227  Korea: giving free test kit for covid-19  PH: ...      yes   \n231       232  What works in stopping the spread of Coronavir...      yes   \n235       236  Vietnam was the first country to fully contain...      yes   \n236       237  MORE PEOPLE DIE FROM THE REGULAR FUCKING FLU E...      yes   \n237       238  Translation - A 60 year old women caught a col...      yes   \n263       264  Kerala is the only state in India which succes...      yes   \n278       279  According to TMZ, and some other reliable sour...      yes   \n286       287  Media is bombarding us with queries about fake...      yes   \n317       318  Trump to Hannity on WHO saying coronavirus dea...      yes   \n334       335  In the 5 months since the beginning of the Cor...      yes   \n350       351  Corona got these flights cheap as hell why not...      yes   \n352       353  Corona Virus Pro Tip: If you mix Emergen-C wit...      yes   \n377       378  Anyone else notice that COVID-19 seemed to pop...      yes   \n378       379  How did USERID fail to contain #coronavirus? 1...      yes   \n382       383  we are going to look back and feel really sill...      yes   \n463       517  Fun fact: the #covid mRNA vaccines now account...      yes   \n605       659  First Week of COVID Experimental Vaccines in S...      yes   \n641       695  BREAKING: CDC (VAERS) REPORTS 966 deaths from ...      yes   \n680       734  Pfizer's shot causes mortality 100s of times g...      yes   \n738       792  Soon, vaccines and vaccine passports may not b...      yes   \n839       893  https://t.co/WgdOehVPOp There is no clear scie...      yes   \n\n    q2_label q3_label q4_label q5_label q6_label q7_label  \n8        yes      yes      yes       no      yes      yes  \n12       yes       no       no       no       no       no  \n29       yes      yes       no       no       no       no  \n33       yes       no       no       no       no       no  \n37       yes       no       no       no       no       no  \n46       yes       no       no       no       no       no  \n62       yes       no       no       no       no       no  \n66       yes       no       no       no       no       no  \n87       yes      yes      yes      yes      yes      yes  \n103      yes      yes       no      yes       no       no  \n118      yes      yes      yes       no       no      yes  \n137      yes      yes      yes      yes      yes      yes  \n141      yes      yes      yes      yes      yes      yes  \n173      yes      yes      yes      yes      yes      yes  \n181      yes      yes      yes      yes      yes      yes  \n202      yes       no       no       no       no       no  \n207      yes      yes       no       no       no       no  \n218      yes      yes      yes      yes       no      yes  \n226      yes      yes       no      yes       no      yes  \n231      yes      yes       no       no       no       no  \n235      yes      yes       no      yes       no      yes  \n236      yes      yes      yes      yes      yes      yes  \n237      yes      yes      yes       no       no       no  \n263      yes      yes       no      yes       no       no  \n278      yes      yes       no      yes       no       no  \n286      yes       no      yes       no      yes       no  \n317      yes      yes      yes       no      yes      yes  \n334      yes      yes      yes      yes      yes      yes  \n350      yes       no       no       no       no       no  \n352      yes       no      yes      yes      yes       no  \n377      yes      yes      yes       no      yes       no  \n378      yes      yes      yes      yes      yes      yes  \n382      yes      yes       no       no       no       no  \n463      yes      yes      yes      yes      yes      yes  \n605      yes      yes      yes      yes      yes      yes  \n641      yes      yes      yes      yes      yes      yes  \n680      yes      yes      yes      yes      yes      yes  \n738      yes      yes      yes      yes      yes      yes  \n839      yes      yes      yes      yes      yes      yes  ",
      "text/html": "<div>\n<style scoped>\n    .dataframe tbody tr th:only-of-type {\n        vertical-align: middle;\n    }\n\n    .dataframe tbody tr th {\n        vertical-align: top;\n    }\n\n    .dataframe thead th {\n        text-align: right;\n    }\n</style>\n<table border=\"1\" class=\"dataframe\">\n  <thead>\n    <tr style=\"text-align: right;\">\n      <th></th>\n      <th>tweet_no</th>\n      <th>tweet_text</th>\n      <th>q1_label</th>\n      <th>q2_label</th>\n      <th>q3_label</th>\n      <th>q4_label</th>\n      <th>q5_label</th>\n      <th>q6_label</th>\n      <th>q7_label</th>\n    </tr>\n  </thead>\n  <tbody>\n    <tr>\n      <th>8</th>\n      <td>9</td>\n      <td>fun fact: its tradition for europeans to sprea...</td>\n      <td>yes</td>\n      <td>yes</td>\n      <td>yes</td>\n      <td>yes</td>\n      <td>no</td>\n      <td>yes</td>\n      <td>yes</td>\n    </tr>\n    <tr>\n      <th>12</th>\n      <td>13</td>\n      <td>My mum has a PhD on Corona Virus from WhatsApp...</td>\n      <td>yes</td>\n      <td>yes</td>\n      <td>no</td>\n      <td>no</td>\n      <td>no</td>\n      <td>no</td>\n      <td>no</td>\n    </tr>\n    <tr>\n      <th>29</th>\n      <td>30</td>\n      <td>This Corona virus will pass by mid April !! Sp...</td>\n      <td>yes</td>\n      <td>yes</td>\n      <td>yes</td>\n      <td>no</td>\n      <td>no</td>\n      <td>no</td>\n      <td>no</td>\n    </tr>\n    <tr>\n      <th>33</th>\n      <td>34</td>\n      <td>no.. one...  cleans like Gaston quarantines li...</td>\n      <td>yes</td>\n      <td>yes</td>\n      <td>no</td>\n      <td>no</td>\n      <td>no</td>\n      <td>no</td>\n      <td>no</td>\n    </tr>\n    <tr>\n      <th>37</th>\n      <td>38</td>\n      <td>Corona Virus isn't real, the government just w...</td>\n      <td>yes</td>\n      <td>yes</td>\n      <td>no</td>\n      <td>no</td>\n      <td>no</td>\n      <td>no</td>\n      <td>no</td>\n    </tr>\n    <tr>\n      <th>46</th>\n      <td>47</td>\n      <td>CDC just announced that corona can be spread v...</td>\n      <td>yes</td>\n      <td>yes</td>\n      <td>no</td>\n      <td>no</td>\n      <td>no</td>\n      <td>no</td>\n      <td>no</td>\n    </tr>\n    <tr>\n      <th>62</th>\n      <td>63</td>\n      <td>my flintstones gummies from 15 years ago fight...</td>\n      <td>yes</td>\n      <td>yes</td>\n      <td>no</td>\n      <td>no</td>\n      <td>no</td>\n      <td>no</td>\n      <td>no</td>\n    </tr>\n    <tr>\n      <th>66</th>\n      <td>67</td>\n      <td>Dominican Republic found the cure for Covid-19...</td>\n      <td>yes</td>\n      <td>yes</td>\n      <td>no</td>\n      <td>no</td>\n      <td>no</td>\n      <td>no</td>\n      <td>no</td>\n    </tr>\n    <tr>\n      <th>87</th>\n      <td>88</td>\n      <td>Y’all dirty mfs brought corona home from Miami...</td>\n      <td>yes</td>\n      <td>yes</td>\n      <td>yes</td>\n      <td>yes</td>\n      <td>yes</td>\n      <td>yes</td>\n      <td>yes</td>\n    </tr>\n    <tr>\n      <th>103</th>\n      <td>104</td>\n      <td>FRIENDS. The stuff about nature healing and wi...</td>\n      <td>yes</td>\n      <td>yes</td>\n      <td>yes</td>\n      <td>no</td>\n      <td>yes</td>\n      <td>no</td>\n      <td>no</td>\n    </tr>\n    <tr>\n      <th>118</th>\n      <td>119</td>\n      <td>.@realDonaldTrump, dear Lord—please step up an...</td>\n      <td>yes</td>\n      <td>yes</td>\n      <td>yes</td>\n      <td>yes</td>\n      <td>no</td>\n      <td>no</td>\n      <td>yes</td>\n    </tr>\n    <tr>\n      <th>137</th>\n      <td>138</td>\n      <td>Fearmongering #PharmaFauci - who  built his en...</td>\n      <td>yes</td>\n      <td>yes</td>\n      <td>yes</td>\n      <td>yes</td>\n      <td>yes</td>\n      <td>yes</td>\n      <td>yes</td>\n    </tr>\n    <tr>\n      <th>141</th>\n      <td>142</td>\n      <td>I was starting to think the Coronavirus fear-m...</td>\n      <td>yes</td>\n      <td>yes</td>\n      <td>yes</td>\n      <td>yes</td>\n      <td>yes</td>\n      <td>yes</td>\n      <td>yes</td>\n    </tr>\n    <tr>\n      <th>173</th>\n      <td>174</td>\n      <td>Flu Season is winding down and warm weather is...</td>\n      <td>yes</td>\n      <td>yes</td>\n      <td>yes</td>\n      <td>yes</td>\n      <td>yes</td>\n      <td>yes</td>\n      <td>yes</td>\n    </tr>\n    <tr>\n      <th>181</th>\n      <td>182</td>\n      <td>#Qatar refused to prepare a hospital for the t...</td>\n      <td>yes</td>\n      <td>yes</td>\n      <td>yes</td>\n      <td>yes</td>\n      <td>yes</td>\n      <td>yes</td>\n      <td>yes</td>\n    </tr>\n    <tr>\n      <th>202</th>\n      <td>203</td>\n      <td>The meth you mistook for molly in 2014 was the...</td>\n      <td>yes</td>\n      <td>yes</td>\n      <td>no</td>\n      <td>no</td>\n      <td>no</td>\n      <td>no</td>\n      <td>no</td>\n    </tr>\n    <tr>\n      <th>207</th>\n      <td>208</td>\n      <td>There's not a single confirmed case of an Asia...</td>\n      <td>yes</td>\n      <td>yes</td>\n      <td>yes</td>\n      <td>no</td>\n      <td>no</td>\n      <td>no</td>\n      <td>no</td>\n    </tr>\n    <tr>\n      <th>218</th>\n      <td>219</td>\n      <td>BREAKING: Trump could still own stock in a com...</td>\n      <td>yes</td>\n      <td>yes</td>\n      <td>yes</td>\n      <td>yes</td>\n      <td>yes</td>\n      <td>no</td>\n      <td>yes</td>\n    </tr>\n    <tr>\n      <th>226</th>\n      <td>227</td>\n      <td>Korea: giving free test kit for covid-19  PH: ...</td>\n      <td>yes</td>\n      <td>yes</td>\n      <td>yes</td>\n      <td>no</td>\n      <td>yes</td>\n      <td>no</td>\n      <td>yes</td>\n    </tr>\n    <tr>\n      <th>231</th>\n      <td>232</td>\n      <td>What works in stopping the spread of Coronavir...</td>\n      <td>yes</td>\n      <td>yes</td>\n      <td>yes</td>\n      <td>no</td>\n      <td>no</td>\n      <td>no</td>\n      <td>no</td>\n    </tr>\n    <tr>\n      <th>235</th>\n      <td>236</td>\n      <td>Vietnam was the first country to fully contain...</td>\n      <td>yes</td>\n      <td>yes</td>\n      <td>yes</td>\n      <td>no</td>\n      <td>yes</td>\n      <td>no</td>\n      <td>yes</td>\n    </tr>\n    <tr>\n      <th>236</th>\n      <td>237</td>\n      <td>MORE PEOPLE DIE FROM THE REGULAR FUCKING FLU E...</td>\n      <td>yes</td>\n      <td>yes</td>\n      <td>yes</td>\n      <td>yes</td>\n      <td>yes</td>\n      <td>yes</td>\n      <td>yes</td>\n    </tr>\n    <tr>\n      <th>237</th>\n      <td>238</td>\n      <td>Translation - A 60 year old women caught a col...</td>\n      <td>yes</td>\n      <td>yes</td>\n      <td>yes</td>\n      <td>yes</td>\n      <td>no</td>\n      <td>no</td>\n      <td>no</td>\n    </tr>\n    <tr>\n      <th>263</th>\n      <td>264</td>\n      <td>Kerala is the only state in India which succes...</td>\n      <td>yes</td>\n      <td>yes</td>\n      <td>yes</td>\n      <td>no</td>\n      <td>yes</td>\n      <td>no</td>\n      <td>no</td>\n    </tr>\n    <tr>\n      <th>278</th>\n      <td>279</td>\n      <td>According to TMZ, and some other reliable sour...</td>\n      <td>yes</td>\n      <td>yes</td>\n      <td>yes</td>\n      <td>no</td>\n      <td>yes</td>\n      <td>no</td>\n      <td>no</td>\n    </tr>\n    <tr>\n      <th>286</th>\n      <td>287</td>\n      <td>Media is bombarding us with queries about fake...</td>\n      <td>yes</td>\n      <td>yes</td>\n      <td>no</td>\n      <td>yes</td>\n      <td>no</td>\n      <td>yes</td>\n      <td>no</td>\n    </tr>\n    <tr>\n      <th>317</th>\n      <td>318</td>\n      <td>Trump to Hannity on WHO saying coronavirus dea...</td>\n      <td>yes</td>\n      <td>yes</td>\n      <td>yes</td>\n      <td>yes</td>\n      <td>no</td>\n      <td>yes</td>\n      <td>yes</td>\n    </tr>\n    <tr>\n      <th>334</th>\n      <td>335</td>\n      <td>In the 5 months since the beginning of the Cor...</td>\n      <td>yes</td>\n      <td>yes</td>\n      <td>yes</td>\n      <td>yes</td>\n      <td>yes</td>\n      <td>yes</td>\n      <td>yes</td>\n    </tr>\n    <tr>\n      <th>350</th>\n      <td>351</td>\n      <td>Corona got these flights cheap as hell why not...</td>\n      <td>yes</td>\n      <td>yes</td>\n      <td>no</td>\n      <td>no</td>\n      <td>no</td>\n      <td>no</td>\n      <td>no</td>\n    </tr>\n    <tr>\n      <th>352</th>\n      <td>353</td>\n      <td>Corona Virus Pro Tip: If you mix Emergen-C wit...</td>\n      <td>yes</td>\n      <td>yes</td>\n      <td>no</td>\n      <td>yes</td>\n      <td>yes</td>\n      <td>yes</td>\n      <td>no</td>\n    </tr>\n    <tr>\n      <th>377</th>\n      <td>378</td>\n      <td>Anyone else notice that COVID-19 seemed to pop...</td>\n      <td>yes</td>\n      <td>yes</td>\n      <td>yes</td>\n      <td>yes</td>\n      <td>no</td>\n      <td>yes</td>\n      <td>no</td>\n    </tr>\n    <tr>\n      <th>378</th>\n      <td>379</td>\n      <td>How did USERID fail to contain #coronavirus? 1...</td>\n      <td>yes</td>\n      <td>yes</td>\n      <td>yes</td>\n      <td>yes</td>\n      <td>yes</td>\n      <td>yes</td>\n      <td>yes</td>\n    </tr>\n    <tr>\n      <th>382</th>\n      <td>383</td>\n      <td>we are going to look back and feel really sill...</td>\n      <td>yes</td>\n      <td>yes</td>\n      <td>yes</td>\n      <td>no</td>\n      <td>no</td>\n      <td>no</td>\n      <td>no</td>\n    </tr>\n    <tr>\n      <th>463</th>\n      <td>517</td>\n      <td>Fun fact: the #covid mRNA vaccines now account...</td>\n      <td>yes</td>\n      <td>yes</td>\n      <td>yes</td>\n      <td>yes</td>\n      <td>yes</td>\n      <td>yes</td>\n      <td>yes</td>\n    </tr>\n    <tr>\n      <th>605</th>\n      <td>659</td>\n      <td>First Week of COVID Experimental Vaccines in S...</td>\n      <td>yes</td>\n      <td>yes</td>\n      <td>yes</td>\n      <td>yes</td>\n      <td>yes</td>\n      <td>yes</td>\n      <td>yes</td>\n    </tr>\n    <tr>\n      <th>641</th>\n      <td>695</td>\n      <td>BREAKING: CDC (VAERS) REPORTS 966 deaths from ...</td>\n      <td>yes</td>\n      <td>yes</td>\n      <td>yes</td>\n      <td>yes</td>\n      <td>yes</td>\n      <td>yes</td>\n      <td>yes</td>\n    </tr>\n    <tr>\n      <th>680</th>\n      <td>734</td>\n      <td>Pfizer's shot causes mortality 100s of times g...</td>\n      <td>yes</td>\n      <td>yes</td>\n      <td>yes</td>\n      <td>yes</td>\n      <td>yes</td>\n      <td>yes</td>\n      <td>yes</td>\n    </tr>\n    <tr>\n      <th>738</th>\n      <td>792</td>\n      <td>Soon, vaccines and vaccine passports may not b...</td>\n      <td>yes</td>\n      <td>yes</td>\n      <td>yes</td>\n      <td>yes</td>\n      <td>yes</td>\n      <td>yes</td>\n      <td>yes</td>\n    </tr>\n    <tr>\n      <th>839</th>\n      <td>893</td>\n      <td>https://t.co/WgdOehVPOp There is no clear scie...</td>\n      <td>yes</td>\n      <td>yes</td>\n      <td>yes</td>\n      <td>yes</td>\n      <td>yes</td>\n      <td>yes</td>\n      <td>yes</td>\n    </tr>\n  </tbody>\n</table>\n</div>"
     },
     "execution_count": 12,
     "metadata": {},
     "output_type": "execute_result"
    }
   ],
   "source": [
    "dfs_dict['english', 'train'][dfs_dict['english', 'train']['q2_label'] == 'yes']"
   ],
   "metadata": {
    "collapsed": false,
    "pycharm": {
     "name": "#%%\n"
    }
   }
  },
  {
   "cell_type": "code",
   "execution_count": 13,
   "outputs": [
    {
     "data": {
      "text/plain": "['It’s corona time URL',\n 'Now they want to clean',\n 'this is fucking bullshit',\n 'But bitch y’all said— URL',\n 'Exhibit A ð\\x9f\\x98\\xadð\\x9f¥´ URL URL',\n 'COVID-19 health advice⚠️ URL',\n 'chinese corona virus be like URL',\n 'self quarantine #coronavirus URL',\n 'Thank you, keep up the great work!',\n 'Day 5: We have rediscovered farming',\n 'Cancel Corona Virus ~ Not Coachella.',\n 'Yishun is truly a different town URL',\n \"let's get an F in the chat for grandpa\",\n 'Miss corona u have another job to do 😍😍',\n \"RIP Grandpa can we get 30 gifted subs?'\",\n 'corona sis you leaving by may right? URL',\n 'everyone coming out of corona as barista',\n 'Coronovirus #COVID19 is cancelled! \\U0001f9a0 URL',\n 'Batman bussing tables now. Times is hard.',\n 'This man hospital bill bout to be so much.',\n 'From this                      to this URL',\n 'its always the comfortable spots hits 3G \\U0001f97a',\n \"Let's bring more hope! Science works!  URL\",\n 'People after the covid-19 quarantine  : URL',\n 'China has 24 times more people than Italy...',\n 'Dear Allah, please protect Gaza at all costs',\n 'We are doomed.    #coronavirus #Covid_19 URL',\n '$57 round trip to LA, thanks corona virus URL',\n 'This episode of Black Mirror is too fucking long',\n 'You do. I hear it affects pigs in a big way. URL',\n '“That’s the coffin there as you can see”  URL URL',\n \"My bihun sup ain't perfect without sambal hitam🤧🤧\",\n 'Corona Virus is Temporary. House music is forever🤙',\n 'Corona got these flights cheap as hell why not URL',\n 'me washing my hands: [bye sharona voice] die corona',\n 'Y’all tweeting about corona but not corinthians smh',\n 'corona has no CHANCE against my essential oils mom.',\n 'Dominican Republic found the cure for Covid-19 😭 URL',\n \"It's like suicide but minus the haram part I'm in URL\",\n 'future grandson: “hey grandpa want a corona?”  me: URL',\n 'maybe if i develop feelings for covid-19 it will leave',\n 'Y’all miss your ex, I miss life without the corona virus',\n 'Me explaining to my kids how I survived corona virus URL',\n 'My mum has a PhD on Corona Virus from WhatsApp University',\n 'If Corona is only getting yt folks outta here then... URL',\n 'The virus of communal hatred is deadlier than Corona virus!',\n \"I'm gonna have to go on TotalSportek for my nans funeral ffs\",\n 'Translation - A 60 year old women caught a cold and is fine.',\n \"whats the coolest way we can say '16 people have been tested'\",\n 'my flintstones gummies from 15 years ago fighting corona   URL',\n 'If this Corona scare doesnâ\\x80\\x99t end soon imma have to intervene',\n 'Korea: giving free test kit for covid-19  PH: we on tiktok!!! \\U0001f970',\n 'Corona is a black light and America is a cum-stained hotel room',\n 'me to corona after finding out she infected harvey weinstein URL',\n 'Anybody else just randomly yell “Corona Virus” in Cardi’s voice ?',\n 'Corona oppa pls stop ur world tour hyung u need to rest saranghae',\n 'The whole entire world: Corona Virus is dangerous.  Jamaicans: URL',\n 'The meth you mistook for molly in 2014 was the Corona virus vaccine',\n 'Egypt is in talks with India and China to produce COVID-19 vaccines.',\n 'the scariest thing about COVID-19 is that it looks like a JIRA ticket',\n 'Normal sick ppl vs people with Corona virus #CoronaVirusChallenge URL',\n 'Looks like the corona virus is antiblack and Iâ\\x80\\x99m okay with that URL',\n 'This Corona virus will pass by mid April !! Speaking it into existence',\n 'This is how corona virus is spread #COVID2019 #CoronavirusOutbreak URL',\n 'No offense but the corona virus disappearing before April actually sucks',\n 'Y’all had the gummies? I was eating that pure ROCK we ain’t built the same',\n 'Safety always comes first. Do not panic and stay safe. #CoronaAlert <link>',\n 'White People: COVID-19  Black Folks: the RONA   Gay People : Miss Rona   😭☠️',\n 'Aaron Ramsey scores &amp; Serie A dies? We canâ\\x80\\x99t beat this guy ffs URL URL',\n 'Iceland tested its entire population. Read that again: ITS ENTIRE POPULATION.',\n 'Addressing the nation on battling the COVID-19 menace. #IndiaFightsCorona URL',\n \"Fox News claims it never called COVID-19 a hoax. Let's check the receipts. URL\",\n \"Fox News claims it never called COVID-19 a hoax. Let's check the receipts. URL\",\n 'Retweet this if you still have no idea how to get tested for the #coronavirus.',\n 'day 6 of quarantine: my dad gave a talk to the cats about covid-19 😭😭😭😭😭😭😭😭 URL',\n 'Covid-19 might be big, but I just want to remind y’all that our God is BIGGER.✨',\n 'CDC just announced that corona can be spread via Instagram story challenges :-/',\n 'Read this thread and RT. Great perspective you wonâ\\x80\\x99t hear from the media. URL',\n 'passport twitter been quiet since corona hit. shouldve spent ur money on jordans',\n 'Dogs when they found out their owners can’t leave because of the corona virus URL',\n 'ICE pretended to be doctors. There are no fucking words. Please donate if you can',\n 'wow...taken this morning....never seen Vegas this empty before tbh #coronavirus URL',\n 'My mans House would pop 6 Vicodin on Thursday and have that cure by Saturday morning.',\n 'Bro these the only 3 songs I’m hearing on my TL 😂 lord take this corona away now! URL',\n '@joshtpm And it was NOT responsible for creating the vaccines. https://t.co/5JcyfcTkqp',\n 'Celebrities keep trying to sing the virus away like this is a Disney movie or something',\n 'me: h-  my mom with her phd in corona virus after graduating from whatsapp threads: URL',\n 'Outside of Chicago just now #coronavirus #forcedisolation  #militarytrain #notahoax URL',\n 'Bro China is out here reading niggas power levels and we cant even get adequate testing \\U0001f9d0',\n 'celebrities making singing videos as corona virus now tops over 230k cases worldwide  URL',\n \"Coronavirus COVID-19 Global Cases as tracked by Johns Hopkins University's USERID URL URL\",\n 'Not all heroes wear capes, sometimes they just wear blanket then netflix n chill for 2 weeks',\n 'Y’all dirty mfs brought corona home from Miami &amp; now it’s increased by 88% in 48HRS ....',\n 'Toilet paper completely sold out in supermarkets? Did you lot not wipe your ass before corona',\n 'Anyone else notice that COVID-19 seemed to pop up almost immediately after impeachment failed?',\n 'FRIENDS. The stuff about nature healing and wildlife returning because of COVID-19 is fake. URL',\n \"So there is local transmission. Please wash your hands. Please don't cough or sneeze on people.\",\n 'We doing all this shit for corona virus and niggaz canâ\\x80\\x99t send Flint, Michigan a good plumber.',\n \"covid-19 is making Namjoon angry and sad because he can't see karmy so, i have instructions: URL\",\n \"Well, we called it here first, didn't we? Or at least among the first... This would be good news.\"]"
     },
     "execution_count": 13,
     "metadata": {},
     "output_type": "execute_result"
    }
   ],
   "source": [
    "sorted(dfs_dict['english', 'train']['tweet_text'].to_list(), key=lambda x: len(x))[:100]"
   ],
   "metadata": {
    "collapsed": false,
    "pycharm": {
     "name": "#%%\n"
    }
   }
  },
  {
   "cell_type": "code",
   "execution_count": 14,
   "outputs": [],
   "source": [
    "sorted_df = dfs_dict['english', 'train'].sort_values(by=['tweet_text'], key=lambda x: x.str.len())"
   ],
   "metadata": {
    "collapsed": false,
    "pycharm": {
     "name": "#%%\n"
    }
   }
  },
  {
   "cell_type": "code",
   "execution_count": 15,
   "outputs": [
    {
     "data": {
      "text/plain": "tweet_no                                     303\ntweet_text    Thank you, keep up the great work!\nq1_label                                      no\nq2_label                                     nan\nq3_label                                     nan\nq4_label                                     nan\nq5_label                                     nan\nq6_label                                      no\nq7_label                                      no\nName: 302, dtype: object"
     },
     "execution_count": 15,
     "metadata": {},
     "output_type": "execute_result"
    }
   ],
   "source": [
    "sorted_df.iloc[8]"
   ],
   "metadata": {
    "collapsed": false,
    "pycharm": {
     "name": "#%%\n"
    }
   }
  },
  {
   "cell_type": "markdown",
   "source": [
    "**Bulgarian**"
   ],
   "metadata": {
    "collapsed": false
   }
  },
  {
   "cell_type": "code",
   "execution_count": 16,
   "outputs": [
    {
     "data": {
      "text/plain": "['Ж. 80. Covid пневмония.',\n 'Туит на италиански. 😈 Corona ciao.',\n 'Короната е умрена Да живее #Covid19',\n 'Пълното име на вируса било Covid-1984',\n 'Ей тъй са прай. https://t.co/byATViqUGE',\n 'Шах и мат зоофоби.) https://t.co/YSz7x3WEF5',\n 'И още малко сайънс. https://t.co/WMfJewLD4h',\n 'Цял месец. Само 71. https://t.co/e6UF96FrLy',\n 'Още малко благини ☺️ https://t.co/eZEiAwSTse',\n 'Чат ботът COVID-19 във Вайбър е много удобен']"
     },
     "execution_count": 16,
     "metadata": {},
     "output_type": "execute_result"
    }
   ],
   "source": [
    "sorted(dfs_dict['bulgarian', 'train']['text'].to_list(), key=lambda x: len(x))[:10]"
   ],
   "metadata": {
    "collapsed": false,
    "pycharm": {
     "name": "#%%\n"
    }
   }
  },
  {
   "cell_type": "code",
   "execution_count": 17,
   "outputs": [],
   "source": [
    "sorted_df = dfs_dict['bulgarian', 'train'].sort_values(by=['text'], key=lambda x: x.str.len())"
   ],
   "metadata": {
    "collapsed": false,
    "pycharm": {
     "name": "#%%\n"
    }
   }
  },
  {
   "cell_type": "code",
   "execution_count": 18,
   "outputs": [
    {
     "data": {
      "text/plain": "tweet_no                                           1319\ntext        Цял месец. Само 71. https://t.co/e6UF96FrLy\nq1_label                                            yes\nq2_label                                             no\nq3_label                                            yes\nq4_label                                             no\nq5_label                                             no\nq6_label                                             no\nq7_label                                             no\nName: 1318, dtype: object"
     },
     "execution_count": 18,
     "metadata": {},
     "output_type": "execute_result"
    }
   ],
   "source": [
    "sorted_df.iloc[6]\n"
   ],
   "metadata": {
    "collapsed": false,
    "pycharm": {
     "name": "#%%\n"
    }
   }
  },
  {
   "cell_type": "markdown",
   "source": [
    "**Arabic**"
   ],
   "metadata": {
    "collapsed": false
   }
  },
  {
   "cell_type": "code",
   "execution_count": 19,
   "outputs": [
    {
     "data": {
      "text/plain": "['طيب هذي دعواتهم',\n 'ما هو دي دعواتنا',\n 'كوفيد ١٩ برو ماكس',\n 'ماذا بعد #كورونا يا أهل قطر ؟😉',\n 'لقاح الاديان اهم من لقاح #كورونا',\n '#كورونا راحت تقابل #كورونا 😊ً URL',\n 'كورونا لما يشوف اللي بيحصل في اسكندريه URL',\n 'ما هو أفضل علاج لفيروس كورونا كوفيد-١٩؟ URL',\n '❌ علاج ❌ لقاح ✅ مناعة https://t.co/WkoTQy7ok5',\n 'روسيا تعلن عن أول لقاح مضاد لفيروس كورونا #كورونا']"
     },
     "execution_count": 19,
     "metadata": {},
     "output_type": "execute_result"
    }
   ],
   "source": [
    "sorted(dfs_dict['arabic', 'train']['text'].to_list(), key=lambda x: len(x))[:10]"
   ],
   "metadata": {
    "collapsed": false,
    "pycharm": {
     "name": "#%%\n"
    }
   }
  },
  {
   "cell_type": "code",
   "execution_count": 20,
   "outputs": [],
   "source": [
    "sorted_df = dfs_dict['arabic', 'train'].sort_values(by=['text'], key=lambda x: x.str.len())"
   ],
   "metadata": {
    "collapsed": false,
    "pycharm": {
     "name": "#%%\n"
    }
   }
  },
  {
   "cell_type": "code",
   "execution_count": 21,
   "outputs": [
    {
     "data": {
      "text/plain": "tweet_no                   44\ntext        كوفيد ١٩ برو ماكس\nq1_label                   no\nq2_label                  nan\nq3_label                  nan\nq4_label                  nan\nq5_label                  nan\nq6_label                  yes\nq7_label                  yes\nName: 43, dtype: object"
     },
     "execution_count": 21,
     "metadata": {},
     "output_type": "execute_result"
    }
   ],
   "source": [
    "sorted_df.iloc[2]\n",
    "\n",
    "\n"
   ],
   "metadata": {
    "collapsed": false,
    "pycharm": {
     "name": "#%%\n"
    }
   }
  }
 ],
 "metadata": {
  "kernelspec": {
   "display_name": "Python 3",
   "language": "python",
   "name": "python3"
  },
  "language_info": {
   "codemirror_mode": {
    "name": "ipython",
    "version": 2
   },
   "file_extension": ".py",
   "mimetype": "text/x-python",
   "name": "python",
   "nbconvert_exporter": "python",
   "pygments_lexer": "ipython2",
   "version": "2.7.6"
  }
 },
 "nbformat": 4,
 "nbformat_minor": 0
}