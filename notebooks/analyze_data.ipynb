{
 "cells": [
  {
   "cell_type": "code",
   "execution_count": 1,
   "metadata": {
    "collapsed": true
   },
   "outputs": [],
   "source": [
    "import os\n",
    "\n",
    "import pandas as pd"
   ]
  },
  {
   "cell_type": "code",
   "execution_count": 2,
   "outputs": [],
   "source": [
    "HOME_DATA_DIR = os.path.join('../data')\n",
    "assert os.path.isdir(HOME_DATA_DIR)"
   ],
   "metadata": {
    "collapsed": false,
    "pycharm": {
     "name": "#%%\n"
    }
   }
  },
  {
   "cell_type": "code",
   "execution_count": 3,
   "outputs": [],
   "source": [
    "data_fpath_dict = {\n",
    "    'english': {\n",
    "        'train': os.path.join(HOME_DATA_DIR, 'data_english_v1', 'v1', 'covid19_disinfo_binary_english_train.tsv'),\n",
    "        'dev': os.path.join(HOME_DATA_DIR, 'data_english_v1', 'v1', 'covid19_disinfo_binary_english_dev_input.tsv'),\n",
    "    },\n",
    "    'arabic': {\n",
    "        'train': os.path.join(HOME_DATA_DIR, 'data_arabic_v1', 'v1', 'covid19_disinfo_binary_arabic_train.tsv'),\n",
    "        'dev': os.path.join(HOME_DATA_DIR, 'data_arabic_v1', 'v1', 'covid19_disinfo_binary_arabic_dev.tsv'),\n",
    "    },\n",
    "}"
   ],
   "metadata": {
    "collapsed": false,
    "pycharm": {
     "name": "#%%\n"
    }
   }
  },
  {
   "cell_type": "code",
   "execution_count": 4,
   "outputs": [],
   "source": [
    "dfs_dict = {}\n",
    "for lang, di in data_fpath_dict.items():\n",
    "    for split_name, fpath in di.items():\n",
    "        dfs_dict[lang, split_name] = pd.read_csv(fpath, sep='\\t', encoding='utf-8', na_filter=False)"
   ],
   "metadata": {
    "collapsed": false,
    "pycharm": {
     "name": "#%%\n"
    }
   }
  },
  {
   "cell_type": "code",
   "execution_count": 5,
   "outputs": [
    {
     "name": "stdout",
     "output_type": "stream",
     "text": [
      "language: english, split: train, total samples: 451\n",
      "language: english, split: dev, total samples: 53\n",
      "language: arabic, split: train, total samples: 198\n",
      "language: arabic, split: dev, total samples: 20\n"
     ]
    }
   ],
   "source": [
    "for (lang, split_name), df in dfs_dict.items():\n",
    "    print(f'language: {lang}, split: {split_name}, total samples: {len(df)}')"
   ],
   "metadata": {
    "collapsed": false,
    "pycharm": {
     "name": "#%%\n"
    }
   }
  },
  {
   "cell_type": "code",
   "execution_count": null,
   "outputs": [],
   "source": [],
   "metadata": {
    "collapsed": false,
    "pycharm": {
     "name": "#%%\n"
    }
   }
  }
 ],
 "metadata": {
  "kernelspec": {
   "display_name": "Python 3",
   "language": "python",
   "name": "python3"
  },
  "language_info": {
   "codemirror_mode": {
    "name": "ipython",
    "version": 2
   },
   "file_extension": ".py",
   "mimetype": "text/x-python",
   "name": "python",
   "nbconvert_exporter": "python",
   "pygments_lexer": "ipython2",
   "version": "2.7.6"
  }
 },
 "nbformat": 4,
 "nbformat_minor": 0
}