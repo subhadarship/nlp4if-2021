{
 "cells": [
  {
   "cell_type": "markdown",
   "source": [
    "# Data"
   ],
   "metadata": {
    "collapsed": false,
    "pycharm": {
     "name": "#%% md\n"
    }
   }
  },
  {
   "cell_type": "code",
   "execution_count": 1,
   "metadata": {
    "collapsed": true
   },
   "outputs": [],
   "source": [
    "import os\n",
    "\n",
    "import pandas as pd"
   ]
  },
  {
   "cell_type": "code",
   "source": [
    "HOME_DATA_DIR = os.path.join('../data')\n",
    "assert os.path.isdir(HOME_DATA_DIR)"
   ],
   "metadata": {
    "collapsed": false,
    "pycharm": {
     "name": "#%%\n"
    }
   },
   "execution_count": 2,
   "outputs": []
  },
  {
   "cell_type": "markdown",
   "source": [
    "## Raw data"
   ],
   "metadata": {
    "collapsed": false,
    "pycharm": {
     "name": "#%% md\n"
    }
   }
  },
  {
   "cell_type": "code",
   "execution_count": 3,
   "outputs": [],
   "source": [
    "data_fpath_dict = {\n",
    "    'english': {\n",
    "        'train': os.path.join(HOME_DATA_DIR, 'data_english_v1', 'v1', 'covid19_disinfo_binary_english_train.tsv'),\n",
    "        'dev': os.path.join(HOME_DATA_DIR, 'data_english_v1', 'v1', 'covid19_disinfo_binary_english_dev_input.tsv'),\n",
    "    },\n",
    "    'bulgarian': {\n",
    "        'train': os.path.join(HOME_DATA_DIR, 'data_bulgarian_v1', 'v1', 'covid19_disinfo_binary_bulgarian_train.tsv'),\n",
    "        'dev': os.path.join(HOME_DATA_DIR, 'data_bulgarian_v1', 'v1', 'covid19_disinfo_binary_bulgarian_dev.tsv'),\n",
    "    },\n",
    "    'arabic': {\n",
    "        'train': os.path.join(HOME_DATA_DIR, 'data_arabic_v1', 'v1', 'covid19_disinfo_binary_arabic_train.tsv'),\n",
    "        'dev': os.path.join(HOME_DATA_DIR, 'data_arabic_v1', 'v1', 'covid19_disinfo_binary_arabic_dev.tsv'),\n",
    "    },\n",
    "\n",
    "}"
   ],
   "metadata": {
    "collapsed": false,
    "pycharm": {
     "name": "#%%\n"
    }
   }
  },
  {
   "cell_type": "code",
   "execution_count": 4,
   "outputs": [],
   "source": [
    "dfs_dict = {}\n",
    "for lang, di in data_fpath_dict.items():\n",
    "    for split_name, fpath in di.items():\n",
    "        dfs_dict[lang, split_name] = pd.read_csv(fpath, sep='\\t', encoding='utf-8', na_filter=False)"
   ],
   "metadata": {
    "collapsed": false,
    "pycharm": {
     "name": "#%%\n"
    }
   }
  },
  {
   "cell_type": "code",
   "execution_count": 5,
   "outputs": [
    {
     "name": "stdout",
     "output_type": "stream",
     "text": [
      "language: english, split: train, total samples: 451\n",
      "language: english, split: dev, total samples: 53\n",
      "language: bulgarian, split: train, total samples: 3000\n",
      "language: bulgarian, split: dev, total samples: 350\n",
      "language: arabic, split: train, total samples: 198\n",
      "language: arabic, split: dev, total samples: 20\n"
     ]
    }
   ],
   "source": [
    "for (lang, split_name), df in dfs_dict.items():\n",
    "    print(f'language: {lang}, split: {split_name}, total samples: {len(df)}')"
   ],
   "metadata": {
    "collapsed": false,
    "pycharm": {
     "name": "#%%\n"
    }
   }
  },
  {
   "cell_type": "markdown",
   "source": [
    "## Prepared data (train and dev splits)\n"
   ],
   "metadata": {
    "collapsed": false,
    "pycharm": {
     "name": "#%% md\n"
    }
   }
  },
  {
   "cell_type": "code",
   "execution_count": 6,
   "outputs": [],
   "source": [
    "table_dict = {\n",
    "    'Language': [],\n",
    "    'train': [],\n",
    "    'dev': [],\n",
    "}\n",
    "for lang in ['en', 'bg', 'ar']:\n",
    "    table_dict['Language'].append(lang)\n",
    "    for split_name in ['train', 'dev']:\n",
    "        table_dict[split_name].append(\n",
    "            len(pd.read_csv(os.path.join(HOME_DATA_DIR, 'prepared', f'{split_name}.{lang}.tsv'), sep='\\t', encoding='utf-8', na_filter=False))\n",
    "        )"
   ],
   "metadata": {
    "collapsed": false,
    "pycharm": {
     "name": "#%%\n"
    }
   }
  },
  {
   "cell_type": "code",
   "execution_count": 7,
   "outputs": [
    {
     "data": {
      "text/plain": "  Language  train  dev\n0       en    375   76\n1       bg   3000  350\n2       ar    165   33",
      "text/html": "<div>\n<style scoped>\n    .dataframe tbody tr th:only-of-type {\n        vertical-align: middle;\n    }\n\n    .dataframe tbody tr th {\n        vertical-align: top;\n    }\n\n    .dataframe thead th {\n        text-align: right;\n    }\n</style>\n<table border=\"1\" class=\"dataframe\">\n  <thead>\n    <tr style=\"text-align: right;\">\n      <th></th>\n      <th>Language</th>\n      <th>train</th>\n      <th>dev</th>\n    </tr>\n  </thead>\n  <tbody>\n    <tr>\n      <th>0</th>\n      <td>en</td>\n      <td>375</td>\n      <td>76</td>\n    </tr>\n    <tr>\n      <th>1</th>\n      <td>bg</td>\n      <td>3000</td>\n      <td>350</td>\n    </tr>\n    <tr>\n      <th>2</th>\n      <td>ar</td>\n      <td>165</td>\n      <td>33</td>\n    </tr>\n  </tbody>\n</table>\n</div>"
     },
     "execution_count": 7,
     "metadata": {},
     "output_type": "execute_result"
    }
   ],
   "source": [
    "pd.DataFrame(table_dict)"
   ],
   "metadata": {
    "collapsed": false,
    "pycharm": {
     "name": "#%%\n"
    }
   }
  },
  {
   "cell_type": "code",
   "execution_count": 7,
   "outputs": [],
   "source": [],
   "metadata": {
    "collapsed": false,
    "pycharm": {
     "name": "#%%\n"
    }
   }
  }
 ],
 "metadata": {
  "kernelspec": {
   "display_name": "Python 3",
   "language": "python",
   "name": "python3"
  },
  "language_info": {
   "codemirror_mode": {
    "name": "ipython",
    "version": 2
   },
   "file_extension": ".py",
   "mimetype": "text/x-python",
   "name": "python",
   "nbconvert_exporter": "python",
   "pygments_lexer": "ipython2",
   "version": "2.7.6"
  }
 },
 "nbformat": 4,
 "nbformat_minor": 0
}