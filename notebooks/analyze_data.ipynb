{
 "cells": [
  {
   "cell_type": "markdown",
   "source": [
    "# Data"
   ],
   "metadata": {
    "collapsed": false,
    "pycharm": {
     "name": "#%% md\n"
    }
   }
  },
  {
   "cell_type": "code",
   "execution_count": 1,
   "metadata": {
    "collapsed": true
   },
   "outputs": [],
   "source": [
    "import os\n",
    "\n",
    "import pandas as pd"
   ]
  },
  {
   "cell_type": "code",
   "source": [
    "HOME_DATA_DIR = os.path.join('../data')\n",
    "assert os.path.isdir(HOME_DATA_DIR)"
   ],
   "metadata": {
    "collapsed": false,
    "pycharm": {
     "name": "#%%\n"
    }
   },
   "execution_count": 2,
   "outputs": []
  },
  {
   "cell_type": "markdown",
   "source": [
    "## Raw data"
   ],
   "metadata": {
    "collapsed": false,
    "pycharm": {
     "name": "#%% md\n"
    }
   }
  },
  {
   "cell_type": "code",
   "execution_count": 3,
   "outputs": [],
   "source": [
    "data_fpath_dict = {\n",
    "    'english': {\n",
    "        'train': os.path.join(HOME_DATA_DIR, 'english', 'v1', 'v1', 'covid19_disinfo_binary_english_train.tsv'),\n",
    "        'dev': os.path.join(HOME_DATA_DIR, 'english', 'v2', 'v2', 'covid19_disinfo_binary_english_dev_input.tsv'),\n",
    "        'test': os.path.join(HOME_DATA_DIR, 'english', 'test-input', 'test-input', 'covid19_disinfo_binary_english_test_input.tsv'),\n",
    "    },\n",
    "    'bulgarian': {\n",
    "        'train': os.path.join(HOME_DATA_DIR, 'bulgarian', 'v1', 'v1', 'covid19_disinfo_binary_bulgarian_train.tsv'),\n",
    "        'dev': os.path.join(HOME_DATA_DIR, 'bulgarian', 'v1', 'v1', 'covid19_disinfo_binary_bulgarian_dev.tsv'),\n",
    "        'test': os.path.join(HOME_DATA_DIR, 'bulgarian', 'test-input', 'test-input', 'covid19_disinfo_binary_bulgarian_test_input.tsv'),\n",
    "    },\n",
    "    'arabic': {\n",
    "        'train': os.path.join(HOME_DATA_DIR, 'arabic', 'v1', 'v1', 'covid19_disinfo_binary_arabic_train.tsv'),\n",
    "        'dev': os.path.join(HOME_DATA_DIR, 'arabic', 'v2', 'v2', 'covid19_disinfo_binary_arabic_dev.tsv'),\n",
    "        'test': os.path.join(HOME_DATA_DIR, 'arabic', 'test-input', 'test-input', 'covid19_disinfo_binary_arabic_test_input.tsv'),\n",
    "    },\n",
    "\n",
    "}"
   ],
   "metadata": {
    "collapsed": false,
    "pycharm": {
     "name": "#%%\n"
    }
   }
  },
  {
   "cell_type": "code",
   "execution_count": 4,
   "outputs": [],
   "source": [
    "dfs_dict = {}\n",
    "for lang, di in data_fpath_dict.items():\n",
    "    for split_name, fpath in di.items():\n",
    "        dfs_dict[lang, split_name] = pd.read_csv(fpath, sep='\\t', encoding='utf-8', na_filter=False)"
   ],
   "metadata": {
    "collapsed": false,
    "pycharm": {
     "name": "#%%\n"
    }
   }
  },
  {
   "cell_type": "code",
   "execution_count": 5,
   "outputs": [
    {
     "name": "stdout",
     "output_type": "stream",
     "text": [
      "language: english, split: train, total samples: 451\n",
      "language: english, split: dev, total samples: 53\n",
      "language: english, split: test, total samples: 418\n",
      "language: bulgarian, split: train, total samples: 3000\n",
      "language: bulgarian, split: dev, total samples: 350\n",
      "language: bulgarian, split: test, total samples: 357\n",
      "language: arabic, split: train, total samples: 198\n",
      "language: arabic, split: dev, total samples: 20\n",
      "language: arabic, split: test, total samples: 1000\n"
     ]
    }
   ],
   "source": [
    "for (lang, split_name), df in dfs_dict.items():\n",
    "    print(f'language: {lang}, split: {split_name}, total samples: {len(df)}')"
   ],
   "metadata": {
    "collapsed": false,
    "pycharm": {
     "name": "#%%\n"
    }
   }
  },
  {
   "cell_type": "markdown",
   "source": [
    "## Prepared data (train and dev splits)\n"
   ],
   "metadata": {
    "collapsed": false,
    "pycharm": {
     "name": "#%% md\n"
    }
   }
  },
  {
   "cell_type": "code",
   "execution_count": 6,
   "outputs": [],
   "source": [
    "table_dict = {\n",
    "    'Language': [],\n",
    "    'train': [],\n",
    "    'dev': [],\n",
    "}\n",
    "for lang in ['en', 'bg', 'ar']:\n",
    "    table_dict['Language'].append(lang)\n",
    "    for split_name in ['train', 'dev']:\n",
    "        table_dict[split_name].append(\n",
    "            len(pd.read_csv(os.path.join(HOME_DATA_DIR, 'prepared', f'{split_name}.{lang}.tsv'), sep='\\t', encoding='utf-8', na_filter=False))\n",
    "        )"
   ],
   "metadata": {
    "collapsed": false,
    "pycharm": {
     "name": "#%%\n"
    }
   }
  },
  {
   "cell_type": "code",
   "execution_count": 7,
   "outputs": [
    {
     "data": {
      "text/plain": "  Language  train  dev\n0       en    451   53\n1       bg   3000  350\n2       ar    198   20",
      "text/html": "<div>\n<style scoped>\n    .dataframe tbody tr th:only-of-type {\n        vertical-align: middle;\n    }\n\n    .dataframe tbody tr th {\n        vertical-align: top;\n    }\n\n    .dataframe thead th {\n        text-align: right;\n    }\n</style>\n<table border=\"1\" class=\"dataframe\">\n  <thead>\n    <tr style=\"text-align: right;\">\n      <th></th>\n      <th>Language</th>\n      <th>train</th>\n      <th>dev</th>\n    </tr>\n  </thead>\n  <tbody>\n    <tr>\n      <th>0</th>\n      <td>en</td>\n      <td>451</td>\n      <td>53</td>\n    </tr>\n    <tr>\n      <th>1</th>\n      <td>bg</td>\n      <td>3000</td>\n      <td>350</td>\n    </tr>\n    <tr>\n      <th>2</th>\n      <td>ar</td>\n      <td>198</td>\n      <td>20</td>\n    </tr>\n  </tbody>\n</table>\n</div>"
     },
     "execution_count": 7,
     "metadata": {},
     "output_type": "execute_result"
    }
   ],
   "source": [
    "pd.DataFrame(table_dict)"
   ],
   "metadata": {
    "collapsed": false,
    "pycharm": {
     "name": "#%%\n"
    }
   }
  },
  {
   "cell_type": "code",
   "execution_count": 8,
   "outputs": [
    {
     "name": "stdout",
     "output_type": "stream",
     "text": [
      "*** english ***\n",
      "train:\n",
      "q1_label : {'yes': 1933, 'no': 1067}\n",
      "q2_label : {'no': 1897, 'nan': 1039, 'yes': 64}\n",
      "q3_label : {'yes': 1910, 'nan': 1035, 'no': 55}\n",
      "q4_label : {'no': 1770, 'nan': 1049, 'yes': 181}\n",
      "q5_label : {'no': 1557, 'nan': 1051, 'yes': 392}\n",
      "q6_label : {'no': 2680, 'yes': 316, 'nan': 4}\n",
      "q7_label : {'no': 2655, 'yes': 300, 'nan': 45}\n",
      "dev:\n",
      "q1_label : {'yes': 315, 'no': 35}\n",
      "q2_label : {'no': 316, 'nan': 29, 'yes': 5}\n",
      "q3_label : {'yes': 308, 'nan': 30, 'no': 12}\n",
      "q4_label : {'no': 288, 'nan': 37, 'yes': 25}\n",
      "q5_label : {'no': 254, 'yes': 62, 'nan': 34}\n",
      "q6_label : {'no': 288, 'yes': 62}\n",
      "q7_label : {'no': 275, 'yes': 69, 'nan': 6}\n",
      "\n",
      "*** bulgarian ***\n",
      "train:\n",
      "q1_label : {'yes': 1933, 'no': 1067}\n",
      "q2_label : {'no': 1897, 'nan': 1039, 'yes': 64}\n",
      "q3_label : {'yes': 1910, 'nan': 1035, 'no': 55}\n",
      "q4_label : {'no': 1770, 'nan': 1049, 'yes': 181}\n",
      "q5_label : {'no': 1557, 'nan': 1051, 'yes': 392}\n",
      "q6_label : {'no': 2680, 'yes': 316, 'nan': 4}\n",
      "q7_label : {'no': 2655, 'yes': 300, 'nan': 45}\n",
      "dev:\n",
      "q1_label : {'yes': 315, 'no': 35}\n",
      "q2_label : {'no': 316, 'nan': 29, 'yes': 5}\n",
      "q3_label : {'yes': 308, 'nan': 30, 'no': 12}\n",
      "q4_label : {'no': 288, 'nan': 37, 'yes': 25}\n",
      "q5_label : {'no': 254, 'yes': 62, 'nan': 34}\n",
      "q6_label : {'no': 288, 'yes': 62}\n",
      "q7_label : {'no': 275, 'yes': 69, 'nan': 6}\n",
      "\n",
      "*** arabic ***\n",
      "train:\n",
      "q1_label : {'yes': 1933, 'no': 1067}\n",
      "q2_label : {'no': 1897, 'nan': 1039, 'yes': 64}\n",
      "q3_label : {'yes': 1910, 'nan': 1035, 'no': 55}\n",
      "q4_label : {'no': 1770, 'nan': 1049, 'yes': 181}\n",
      "q5_label : {'no': 1557, 'nan': 1051, 'yes': 392}\n",
      "q6_label : {'no': 2680, 'yes': 316, 'nan': 4}\n",
      "q7_label : {'no': 2655, 'yes': 300, 'nan': 45}\n",
      "dev:\n",
      "q1_label : {'yes': 315, 'no': 35}\n",
      "q2_label : {'no': 316, 'nan': 29, 'yes': 5}\n",
      "q3_label : {'yes': 308, 'nan': 30, 'no': 12}\n",
      "q4_label : {'no': 288, 'nan': 37, 'yes': 25}\n",
      "q5_label : {'no': 254, 'yes': 62, 'nan': 34}\n",
      "q6_label : {'no': 288, 'yes': 62}\n",
      "q7_label : {'no': 275, 'yes': 69, 'nan': 6}\n",
      "\n"
     ]
    }
   ],
   "source": [
    "for lang in ['english', 'bulgarian', 'arabic']:\n",
    "    print(f'*** {lang} ***')\n",
    "    for split_name in ['train', 'dev']:\n",
    "        print(f'{split_name}:')\n",
    "        for col_name in [f'q{idx + 1}_label' for idx in range(7)]:\n",
    "            print(col_name, ':', dfs_dict['bulgarian', split_name][col_name].value_counts().to_dict())\n",
    "    print()"
   ],
   "metadata": {
    "collapsed": false,
    "pycharm": {
     "name": "#%%\n"
    }
   }
  },
  {
   "cell_type": "code",
   "execution_count": 8,
   "outputs": [],
   "source": [],
   "metadata": {
    "collapsed": false,
    "pycharm": {
     "name": "#%%\n"
    }
   }
  },
  {
   "cell_type": "code",
   "execution_count": 8,
   "outputs": [],
   "source": [],
   "metadata": {
    "collapsed": false,
    "pycharm": {
     "name": "#%%\n"
    }
   }
  }
 ],
 "metadata": {
  "kernelspec": {
   "display_name": "Python 3",
   "language": "python",
   "name": "python3"
  },
  "language_info": {
   "codemirror_mode": {
    "name": "ipython",
    "version": 2
   },
   "file_extension": ".py",
   "mimetype": "text/x-python",
   "name": "python",
   "nbconvert_exporter": "python",
   "pygments_lexer": "ipython2",
   "version": "2.7.6"
  }
 },
 "nbformat": 4,
 "nbformat_minor": 0
}