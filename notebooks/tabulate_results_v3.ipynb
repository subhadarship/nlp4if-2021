{
 "cells": [
  {
   "cell_type": "markdown",
   "source": [
    "# Tabulate results\n"
   ],
   "metadata": {
    "collapsed": false
   }
  },
  {
   "cell_type": "code",
   "execution_count": 1,
   "outputs": [],
   "source": [
    "import os\n",
    "import sys\n",
    "from typing import Tuple\n",
    "\n",
    "import pandas as pd\n",
    "from tabulate import tabulate\n",
    "from tqdm import tqdm\n",
    "sys.path.append('../src')\n",
    "from read_log_file import read_log_file"
   ],
   "metadata": {
    "collapsed": false,
    "pycharm": {
     "name": "#%%\n"
    }
   }
  },
  {
   "cell_type": "code",
   "execution_count": 2,
   "outputs": [],
   "source": [
    "LOG_HOME_DIR = os.path.join('../logs')\n",
    "assert os.path.isdir(LOG_HOME_DIR)"
   ],
   "metadata": {
    "collapsed": false,
    "pycharm": {
     "name": "#%%\n"
    }
   }
  },
  {
   "cell_type": "code",
   "execution_count": 3,
   "outputs": [],
   "source": [
    "MODEL_NAMES = ['bert-base-uncased', 'bert-base-multilingual-cased']"
   ],
   "metadata": {
    "collapsed": false,
    "pycharm": {
     "name": "#%%\n"
    }
   }
  },
  {
   "cell_type": "code",
   "execution_count": 4,
   "outputs": [],
   "source": [
    "SETUPS = ['full', 'trg']"
   ],
   "metadata": {
    "collapsed": false,
    "pycharm": {
     "name": "#%%\n"
    }
   }
  },
  {
   "cell_type": "code",
   "execution_count": 5,
   "outputs": [],
   "source": [
    "def get_best_score_from_dict(di: dict) -> dict:\n",
    "    \"\"\"Get max value from a dict\"\"\"\n",
    "    keys_with_max_val = []\n",
    "    # find max value\n",
    "    max_val = -float('inf')\n",
    "    for k, v in di.items():\n",
    "        if v > max_val:\n",
    "            max_val = v\n",
    "    # find all keys with max value\n",
    "    for k, v in di.items():\n",
    "        if v == max_val:\n",
    "            keys_with_max_val.append(k)\n",
    "    return {\n",
    "        'k': keys_with_max_val,\n",
    "        'v': max_val,\n",
    "    }"
   ],
   "metadata": {
    "collapsed": false,
    "pycharm": {
     "name": "#%%\n"
    }
   }
  },
  {
   "cell_type": "code",
   "execution_count": 6,
   "outputs": [],
   "source": [
    "def create_best_results_df(langs: str) -> Tuple[pd.DataFrame, pd.DataFrame]:\n",
    "    results_dict = {}\n",
    "    for model_name in MODEL_NAMES:\n",
    "        results_dict[model_name] = {}\n",
    "        log_dir = os.path.join(LOG_HOME_DIR, langs, model_name)\n",
    "        log_filenames = os.listdir(log_dir)\n",
    "        for fname in log_filenames:\n",
    "            results_dict[model_name][fname] = read_log_file(\n",
    "                log_file_path=os.path.join(log_dir, fname),\n",
    "                plot=False,\n",
    "                verbose=False,\n",
    "            )['best_val_metrics']['f1']\n",
    "\n",
    "    best_results_dict = {'Setup': SETUPS}\n",
    "    best_hparams_dict = {'Setup': SETUPS}\n",
    "    best_results_dict.update({model_name: [] for model_name in MODEL_NAMES})\n",
    "    best_hparams_dict.update({model_name: [] for model_name in MODEL_NAMES})\n",
    "    for model_name in MODEL_NAMES:\n",
    "        for setup in SETUPS:\n",
    "            best_score = get_best_score_from_dict(\n",
    "                {k: v for k, v in results_dict[model_name].items() if k.startswith(f'{setup}_')}\n",
    "            )\n",
    "            best_results_dict[model_name].append(\n",
    "                best_score['v']\n",
    "            )\n",
    "            best_hparams_dict[model_name].append(\n",
    "                best_score['k']\n",
    "            )\n",
    "\n",
    "\n",
    "    best_results_df = pd.DataFrame(best_results_dict)\n",
    "    best_hparams_df = pd.DataFrame(best_hparams_dict)\n",
    "    return best_results_df, best_hparams_df"
   ],
   "metadata": {
    "collapsed": false,
    "pycharm": {
     "name": "#%%\n"
    }
   }
  },
  {
   "cell_type": "code",
   "execution_count": 7,
   "outputs": [],
   "source": [
    "def highlight_best_score(df: pd.DataFrame) -> pd.DataFrame:\n",
    "    \"\"\"Highlight best score in each row\"\"\"\n",
    "    return df.style.apply(lambda x: ['background: red' if isinstance(v, float) and v == max(x.iloc[1:]) else '' for v in x], axis=1)"
   ],
   "metadata": {
    "collapsed": false,
    "pycharm": {
     "name": "#%%\n"
    }
   }
  },
  {
   "cell_type": "code",
   "execution_count": 8,
   "outputs": [],
   "source": [
    "def tabulate_markdown(df: pd.DataFrame) -> str:\n",
    "    \"\"\"Tabulate in markdown format and bold best scores in each row\"\"\"\n",
    "    df = df.round(4)\n",
    "    for model_name in MODEL_NAMES:\n",
    "        df[model_name] = df[model_name].astype(str)\n",
    "    for idx in range(len(df)):\n",
    "        max_val = max(float(df.iloc[idx][model_name]) for model_name in MODEL_NAMES)\n",
    "        for model_name in MODEL_NAMES:\n",
    "            cell_val = float(df.iloc[idx][model_name])\n",
    "            if cell_val == max_val:\n",
    "                df.at[idx, model_name] = f'**{cell_val}**'\n",
    "            else:\n",
    "                df.at[idx, model_name] = f'{cell_val}'\n",
    "\n",
    "    return tabulate(df, headers='keys', showindex=False, tablefmt='github')\n"
   ],
   "metadata": {
    "collapsed": false,
    "pycharm": {
     "name": "#%%\n"
    }
   }
  },
  {
   "cell_type": "code",
   "execution_count": 9,
   "outputs": [],
   "source": [
    "def tabulate_latex(df: pd.DataFrame) -> str:\n",
    "    \"\"\"Tabulate in markdown format and bold best scores in each row\"\"\"\n",
    "    df = df.round(4)\n",
    "    for model_name in MODEL_NAMES:\n",
    "        df[model_name] = df[model_name].astype(str)\n",
    "    for idx in range(len(df)):\n",
    "        max_val = max(float(df.iloc[idx][model_name]) for model_name in MODEL_NAMES)\n",
    "        for model_name in MODEL_NAMES:\n",
    "            cell_val = float(df.iloc[idx][model_name])\n",
    "            if cell_val == max_val:\n",
    "                df.at[idx, model_name] = f'{cell_val}'\n",
    "            else:\n",
    "                df.at[idx, model_name] = f'{cell_val}'\n",
    "\n",
    "    return tabulate(df, headers='keys', showindex=False, tablefmt='latex')"
   ],
   "metadata": {
    "collapsed": false,
    "pycharm": {
     "name": "#%%\n"
    }
   }
  },
  {
   "cell_type": "code",
   "execution_count": 10,
   "outputs": [
    {
     "name": "stderr",
     "output_type": "stream",
     "text": [
      "100%|██████████| 6/6 [00:00<00:00,  9.19it/s]\n"
     ]
    }
   ],
   "source": [
    "best_results_dfs_dict = {}\n",
    "best_hparams_dfs_dict = {}\n",
    "for langs in tqdm(['enbg', 'enar', 'bgen', 'bgar', 'aren', 'arbg']):\n",
    "    best_results_dfs_dict[langs], best_hparams_dfs_dict[langs] = create_best_results_df(langs)"
   ],
   "metadata": {
    "collapsed": false,
    "pycharm": {
     "name": "#%%\n"
    }
   }
  },
  {
   "cell_type": "markdown",
   "source": [
    "## en-bg"
   ],
   "metadata": {
    "collapsed": false
   }
  },
  {
   "cell_type": "code",
   "execution_count": 11,
   "outputs": [
    {
     "data": {
      "text/plain": "<pandas.io.formats.style.Styler at 0x22b4bc40da0>",
      "text/html": "<style  type=\"text/css\" >\n#T_1e47c2e2_99af_11eb_82e5_a0cec835c16drow0_col2,#T_1e47c2e2_99af_11eb_82e5_a0cec835c16drow1_col2{\n            background:  red;\n        }</style><table id=\"T_1e47c2e2_99af_11eb_82e5_a0cec835c16d\" ><thead>    <tr>        <th class=\"blank level0\" ></th>        <th class=\"col_heading level0 col0\" >Setup</th>        <th class=\"col_heading level0 col1\" >bert-base-uncased</th>        <th class=\"col_heading level0 col2\" >bert-base-multilingual-cased</th>    </tr></thead><tbody>\n                <tr>\n                        <th id=\"T_1e47c2e2_99af_11eb_82e5_a0cec835c16dlevel0_row0\" class=\"row_heading level0 row0\" >0</th>\n                        <td id=\"T_1e47c2e2_99af_11eb_82e5_a0cec835c16drow0_col0\" class=\"data row0 col0\" >full</td>\n                        <td id=\"T_1e47c2e2_99af_11eb_82e5_a0cec835c16drow0_col1\" class=\"data row0 col1\" >0.823907</td>\n                        <td id=\"T_1e47c2e2_99af_11eb_82e5_a0cec835c16drow0_col2\" class=\"data row0 col2\" >0.831701</td>\n            </tr>\n            <tr>\n                        <th id=\"T_1e47c2e2_99af_11eb_82e5_a0cec835c16dlevel0_row1\" class=\"row_heading level0 row1\" >1</th>\n                        <td id=\"T_1e47c2e2_99af_11eb_82e5_a0cec835c16drow1_col0\" class=\"data row1 col0\" >trg</td>\n                        <td id=\"T_1e47c2e2_99af_11eb_82e5_a0cec835c16drow1_col1\" class=\"data row1 col1\" >0.821763</td>\n                        <td id=\"T_1e47c2e2_99af_11eb_82e5_a0cec835c16drow1_col2\" class=\"data row1 col2\" >0.843117</td>\n            </tr>\n    </tbody></table>"
     },
     "execution_count": 11,
     "metadata": {},
     "output_type": "execute_result"
    }
   ],
   "source": [
    "highlight_best_score(best_results_dfs_dict['enbg'])"
   ],
   "metadata": {
    "collapsed": false,
    "pycharm": {
     "name": "#%%\n"
    }
   }
  },
  {
   "cell_type": "code",
   "execution_count": 12,
   "outputs": [
    {
     "name": "stdout",
     "output_type": "stream",
     "text": [
      "| Setup   |   bert-base-uncased | bert-base-multilingual-cased   |\n",
      "|---------|---------------------|--------------------------------|\n",
      "| full    |              0.8239 | **0.8317**                     |\n",
      "| trg     |              0.8218 | **0.8431**                     |\n"
     ]
    }
   ],
   "source": [
    "print(tabulate_markdown(best_results_dfs_dict['enbg']))"
   ],
   "metadata": {
    "collapsed": false,
    "pycharm": {
     "name": "#%%\n"
    }
   }
  },
  {
   "cell_type": "code",
   "execution_count": 13,
   "outputs": [
    {
     "name": "stdout",
     "output_type": "stream",
     "text": [
      "\\begin{tabular}{lrr}\n",
      "\\hline\n",
      " Setup   &   bert-base-uncased &   bert-base-multilingual-cased \\\\\n",
      "\\hline\n",
      " full    &              0.8239 &                         0.8317 \\\\\n",
      " trg     &              0.8218 &                         0.8431 \\\\\n",
      "\\hline\n",
      "\\end{tabular}\n"
     ]
    }
   ],
   "source": [
    "print(tabulate_latex(best_results_dfs_dict['enbg']))"
   ],
   "metadata": {
    "collapsed": false,
    "pycharm": {
     "name": "#%%\n"
    }
   }
  },
  {
   "cell_type": "code",
   "execution_count": 14,
   "outputs": [
    {
     "data": {
      "text/plain": "  Setup                 bert-base-uncased     bert-base-multilingual-cased\n0  full  [full_fc128_lr0.0005_frozen.txt]  [full_fc256_lr0.005_frozen.txt]\n1   trg   [trg_fc128_lr0.0005_frozen.txt]  [trg_fc512_lr0.0005_frozen.txt]",
      "text/html": "<div>\n<style scoped>\n    .dataframe tbody tr th:only-of-type {\n        vertical-align: middle;\n    }\n\n    .dataframe tbody tr th {\n        vertical-align: top;\n    }\n\n    .dataframe thead th {\n        text-align: right;\n    }\n</style>\n<table border=\"1\" class=\"dataframe\">\n  <thead>\n    <tr style=\"text-align: right;\">\n      <th></th>\n      <th>Setup</th>\n      <th>bert-base-uncased</th>\n      <th>bert-base-multilingual-cased</th>\n    </tr>\n  </thead>\n  <tbody>\n    <tr>\n      <th>0</th>\n      <td>full</td>\n      <td>[full_fc128_lr0.0005_frozen.txt]</td>\n      <td>[full_fc256_lr0.005_frozen.txt]</td>\n    </tr>\n    <tr>\n      <th>1</th>\n      <td>trg</td>\n      <td>[trg_fc128_lr0.0005_frozen.txt]</td>\n      <td>[trg_fc512_lr0.0005_frozen.txt]</td>\n    </tr>\n  </tbody>\n</table>\n</div>"
     },
     "execution_count": 14,
     "metadata": {},
     "output_type": "execute_result"
    }
   ],
   "source": [
    "best_hparams_dfs_dict['enbg']"
   ],
   "metadata": {
    "collapsed": false,
    "pycharm": {
     "name": "#%%\n"
    }
   }
  },
  {
   "cell_type": "markdown",
   "source": [
    "## en-ar"
   ],
   "metadata": {
    "collapsed": false
   }
  },
  {
   "cell_type": "code",
   "execution_count": 15,
   "outputs": [
    {
     "data": {
      "text/plain": "<pandas.io.formats.style.Styler at 0x22b4c043320>",
      "text/html": "<style  type=\"text/css\" >\n#T_1e638054_99af_11eb_a9be_a0cec835c16drow0_col2,#T_1e638054_99af_11eb_a9be_a0cec835c16drow1_col2{\n            background:  red;\n        }</style><table id=\"T_1e638054_99af_11eb_a9be_a0cec835c16d\" ><thead>    <tr>        <th class=\"blank level0\" ></th>        <th class=\"col_heading level0 col0\" >Setup</th>        <th class=\"col_heading level0 col1\" >bert-base-uncased</th>        <th class=\"col_heading level0 col2\" >bert-base-multilingual-cased</th>    </tr></thead><tbody>\n                <tr>\n                        <th id=\"T_1e638054_99af_11eb_a9be_a0cec835c16dlevel0_row0\" class=\"row_heading level0 row0\" >0</th>\n                        <td id=\"T_1e638054_99af_11eb_a9be_a0cec835c16drow0_col0\" class=\"data row0 col0\" >full</td>\n                        <td id=\"T_1e638054_99af_11eb_a9be_a0cec835c16drow0_col1\" class=\"data row0 col1\" >0.594156</td>\n                        <td id=\"T_1e638054_99af_11eb_a9be_a0cec835c16drow0_col2\" class=\"data row0 col2\" >0.693677</td>\n            </tr>\n            <tr>\n                        <th id=\"T_1e638054_99af_11eb_a9be_a0cec835c16dlevel0_row1\" class=\"row_heading level0 row1\" >1</th>\n                        <td id=\"T_1e638054_99af_11eb_a9be_a0cec835c16drow1_col0\" class=\"data row1 col0\" >trg</td>\n                        <td id=\"T_1e638054_99af_11eb_a9be_a0cec835c16drow1_col1\" class=\"data row1 col1\" >0.606164</td>\n                        <td id=\"T_1e638054_99af_11eb_a9be_a0cec835c16drow1_col2\" class=\"data row1 col2\" >0.687872</td>\n            </tr>\n    </tbody></table>"
     },
     "execution_count": 15,
     "metadata": {},
     "output_type": "execute_result"
    }
   ],
   "source": [
    "highlight_best_score(best_results_dfs_dict['enar'])"
   ],
   "metadata": {
    "collapsed": false,
    "pycharm": {
     "name": "#%%\n"
    }
   }
  },
  {
   "cell_type": "code",
   "execution_count": 16,
   "outputs": [
    {
     "name": "stdout",
     "output_type": "stream",
     "text": [
      "| Setup   |   bert-base-uncased | bert-base-multilingual-cased   |\n",
      "|---------|---------------------|--------------------------------|\n",
      "| full    |              0.5942 | **0.6937**                     |\n",
      "| trg     |              0.6062 | **0.6879**                     |\n"
     ]
    }
   ],
   "source": [
    "print(tabulate_markdown(best_results_dfs_dict['enar']))"
   ],
   "metadata": {
    "collapsed": false,
    "pycharm": {
     "name": "#%%\n"
    }
   }
  },
  {
   "cell_type": "code",
   "source": [
    "print(tabulate_latex(best_results_dfs_dict['enar']))"
   ],
   "metadata": {
    "collapsed": false,
    "pycharm": {
     "name": "#%%\n"
    }
   },
   "execution_count": 17,
   "outputs": [
    {
     "name": "stdout",
     "output_type": "stream",
     "text": [
      "\\begin{tabular}{lrr}\n",
      "\\hline\n",
      " Setup   &   bert-base-uncased &   bert-base-multilingual-cased \\\\\n",
      "\\hline\n",
      " full    &              0.5942 &                         0.6937 \\\\\n",
      " trg     &              0.6062 &                         0.6879 \\\\\n",
      "\\hline\n",
      "\\end{tabular}\n"
     ]
    }
   ]
  },
  {
   "cell_type": "code",
   "execution_count": 18,
   "outputs": [
    {
     "data": {
      "text/plain": "  Setup                bert-base-uncased      bert-base-multilingual-cased\n0  full  [full_fc256_lr0.005_frozen.txt]  [full_fc256_lr0.0005_frozen.txt]\n1   trg  [trg_fc256_lr0.0005_frozen.txt]    [trg_fc256_lr0.005_frozen.txt]",
      "text/html": "<div>\n<style scoped>\n    .dataframe tbody tr th:only-of-type {\n        vertical-align: middle;\n    }\n\n    .dataframe tbody tr th {\n        vertical-align: top;\n    }\n\n    .dataframe thead th {\n        text-align: right;\n    }\n</style>\n<table border=\"1\" class=\"dataframe\">\n  <thead>\n    <tr style=\"text-align: right;\">\n      <th></th>\n      <th>Setup</th>\n      <th>bert-base-uncased</th>\n      <th>bert-base-multilingual-cased</th>\n    </tr>\n  </thead>\n  <tbody>\n    <tr>\n      <th>0</th>\n      <td>full</td>\n      <td>[full_fc256_lr0.005_frozen.txt]</td>\n      <td>[full_fc256_lr0.0005_frozen.txt]</td>\n    </tr>\n    <tr>\n      <th>1</th>\n      <td>trg</td>\n      <td>[trg_fc256_lr0.0005_frozen.txt]</td>\n      <td>[trg_fc256_lr0.005_frozen.txt]</td>\n    </tr>\n  </tbody>\n</table>\n</div>"
     },
     "execution_count": 18,
     "metadata": {},
     "output_type": "execute_result"
    }
   ],
   "source": [
    "best_hparams_dfs_dict['enar']"
   ],
   "metadata": {
    "collapsed": false,
    "pycharm": {
     "name": "#%%\n"
    }
   }
  },
  {
   "cell_type": "markdown",
   "source": [
    "## bg-en"
   ],
   "metadata": {
    "collapsed": false
   }
  },
  {
   "cell_type": "code",
   "execution_count": 19,
   "outputs": [
    {
     "data": {
      "text/plain": "<pandas.io.formats.style.Styler at 0x22b4c043668>",
      "text/html": "<style  type=\"text/css\" >\n#T_1e746652_99af_11eb_ab12_a0cec835c16drow0_col2,#T_1e746652_99af_11eb_ab12_a0cec835c16drow1_col1{\n            background:  red;\n        }</style><table id=\"T_1e746652_99af_11eb_ab12_a0cec835c16d\" ><thead>    <tr>        <th class=\"blank level0\" ></th>        <th class=\"col_heading level0 col0\" >Setup</th>        <th class=\"col_heading level0 col1\" >bert-base-uncased</th>        <th class=\"col_heading level0 col2\" >bert-base-multilingual-cased</th>    </tr></thead><tbody>\n                <tr>\n                        <th id=\"T_1e746652_99af_11eb_ab12_a0cec835c16dlevel0_row0\" class=\"row_heading level0 row0\" >0</th>\n                        <td id=\"T_1e746652_99af_11eb_ab12_a0cec835c16drow0_col0\" class=\"data row0 col0\" >full</td>\n                        <td id=\"T_1e746652_99af_11eb_ab12_a0cec835c16drow0_col1\" class=\"data row0 col1\" >0.708275</td>\n                        <td id=\"T_1e746652_99af_11eb_ab12_a0cec835c16drow0_col2\" class=\"data row0 col2\" >0.709109</td>\n            </tr>\n            <tr>\n                        <th id=\"T_1e746652_99af_11eb_ab12_a0cec835c16dlevel0_row1\" class=\"row_heading level0 row1\" >1</th>\n                        <td id=\"T_1e746652_99af_11eb_ab12_a0cec835c16drow1_col0\" class=\"data row1 col0\" >trg</td>\n                        <td id=\"T_1e746652_99af_11eb_ab12_a0cec835c16drow1_col1\" class=\"data row1 col1\" >0.729080</td>\n                        <td id=\"T_1e746652_99af_11eb_ab12_a0cec835c16drow1_col2\" class=\"data row1 col2\" >0.716178</td>\n            </tr>\n    </tbody></table>"
     },
     "execution_count": 19,
     "metadata": {},
     "output_type": "execute_result"
    }
   ],
   "source": [
    "highlight_best_score(best_results_dfs_dict['bgen'])"
   ],
   "metadata": {
    "collapsed": false,
    "pycharm": {
     "name": "#%%\n"
    }
   }
  },
  {
   "cell_type": "code",
   "execution_count": 20,
   "outputs": [
    {
     "name": "stdout",
     "output_type": "stream",
     "text": [
      "| Setup   | bert-base-uncased   | bert-base-multilingual-cased   |\n",
      "|---------|---------------------|--------------------------------|\n",
      "| full    | 0.7083              | **0.7091**                     |\n",
      "| trg     | **0.7291**          | 0.7162                         |\n"
     ]
    }
   ],
   "source": [
    "print(tabulate_markdown(best_results_dfs_dict['bgen']))"
   ],
   "metadata": {
    "collapsed": false,
    "pycharm": {
     "name": "#%%\n"
    }
   }
  },
  {
   "cell_type": "code",
   "source": [
    "print(tabulate_latex(best_results_dfs_dict['bgen']))"
   ],
   "metadata": {
    "collapsed": false,
    "pycharm": {
     "name": "#%%\n"
    }
   },
   "execution_count": 21,
   "outputs": [
    {
     "name": "stdout",
     "output_type": "stream",
     "text": [
      "\\begin{tabular}{lrr}\n",
      "\\hline\n",
      " Setup   &   bert-base-uncased &   bert-base-multilingual-cased \\\\\n",
      "\\hline\n",
      " full    &              0.7083 &                         0.7091 \\\\\n",
      " trg     &              0.7291 &                         0.7162 \\\\\n",
      "\\hline\n",
      "\\end{tabular}\n"
     ]
    }
   ]
  },
  {
   "cell_type": "code",
   "execution_count": 22,
   "outputs": [
    {
     "data": {
      "text/plain": "  Setup                 bert-base-uncased     bert-base-multilingual-cased\n0  full  [full_fc512_lr0.0005_frozen.txt]  [full_fc128_lr0.005_frozen.txt]\n1   trg    [trg_fc128_lr0.005_frozen.txt]  [trg_fc512_lr0.0005_frozen.txt]",
      "text/html": "<div>\n<style scoped>\n    .dataframe tbody tr th:only-of-type {\n        vertical-align: middle;\n    }\n\n    .dataframe tbody tr th {\n        vertical-align: top;\n    }\n\n    .dataframe thead th {\n        text-align: right;\n    }\n</style>\n<table border=\"1\" class=\"dataframe\">\n  <thead>\n    <tr style=\"text-align: right;\">\n      <th></th>\n      <th>Setup</th>\n      <th>bert-base-uncased</th>\n      <th>bert-base-multilingual-cased</th>\n    </tr>\n  </thead>\n  <tbody>\n    <tr>\n      <th>0</th>\n      <td>full</td>\n      <td>[full_fc512_lr0.0005_frozen.txt]</td>\n      <td>[full_fc128_lr0.005_frozen.txt]</td>\n    </tr>\n    <tr>\n      <th>1</th>\n      <td>trg</td>\n      <td>[trg_fc128_lr0.005_frozen.txt]</td>\n      <td>[trg_fc512_lr0.0005_frozen.txt]</td>\n    </tr>\n  </tbody>\n</table>\n</div>"
     },
     "execution_count": 22,
     "metadata": {},
     "output_type": "execute_result"
    }
   ],
   "source": [
    "best_hparams_dfs_dict['bgen']"
   ],
   "metadata": {
    "collapsed": false,
    "pycharm": {
     "name": "#%%\n"
    }
   }
  },
  {
   "cell_type": "markdown",
   "source": [
    "## bg-ar"
   ],
   "metadata": {
    "collapsed": false
   }
  },
  {
   "cell_type": "code",
   "execution_count": 23,
   "outputs": [
    {
     "data": {
      "text/plain": "<pandas.io.formats.style.Styler at 0x22b4c050978>",
      "text/html": "<style  type=\"text/css\" >\n#T_1e8f59e2_99af_11eb_9531_a0cec835c16drow0_col2,#T_1e8f59e2_99af_11eb_9531_a0cec835c16drow1_col2{\n            background:  red;\n        }</style><table id=\"T_1e8f59e2_99af_11eb_9531_a0cec835c16d\" ><thead>    <tr>        <th class=\"blank level0\" ></th>        <th class=\"col_heading level0 col0\" >Setup</th>        <th class=\"col_heading level0 col1\" >bert-base-uncased</th>        <th class=\"col_heading level0 col2\" >bert-base-multilingual-cased</th>    </tr></thead><tbody>\n                <tr>\n                        <th id=\"T_1e8f59e2_99af_11eb_9531_a0cec835c16dlevel0_row0\" class=\"row_heading level0 row0\" >0</th>\n                        <td id=\"T_1e8f59e2_99af_11eb_9531_a0cec835c16drow0_col0\" class=\"data row0 col0\" >full</td>\n                        <td id=\"T_1e8f59e2_99af_11eb_9531_a0cec835c16drow0_col1\" class=\"data row0 col1\" >0.597743</td>\n                        <td id=\"T_1e8f59e2_99af_11eb_9531_a0cec835c16drow0_col2\" class=\"data row0 col2\" >0.678938</td>\n            </tr>\n            <tr>\n                        <th id=\"T_1e8f59e2_99af_11eb_9531_a0cec835c16dlevel0_row1\" class=\"row_heading level0 row1\" >1</th>\n                        <td id=\"T_1e8f59e2_99af_11eb_9531_a0cec835c16drow1_col0\" class=\"data row1 col0\" >trg</td>\n                        <td id=\"T_1e8f59e2_99af_11eb_9531_a0cec835c16drow1_col1\" class=\"data row1 col1\" >0.606164</td>\n                        <td id=\"T_1e8f59e2_99af_11eb_9531_a0cec835c16drow1_col2\" class=\"data row1 col2\" >0.687872</td>\n            </tr>\n    </tbody></table>"
     },
     "execution_count": 23,
     "metadata": {},
     "output_type": "execute_result"
    }
   ],
   "source": [
    "highlight_best_score(best_results_dfs_dict['bgar'])"
   ],
   "metadata": {
    "collapsed": false,
    "pycharm": {
     "name": "#%%\n"
    }
   }
  },
  {
   "cell_type": "code",
   "execution_count": 24,
   "outputs": [
    {
     "name": "stdout",
     "output_type": "stream",
     "text": [
      "| Setup   |   bert-base-uncased | bert-base-multilingual-cased   |\n",
      "|---------|---------------------|--------------------------------|\n",
      "| full    |              0.5977 | **0.6789**                     |\n",
      "| trg     |              0.6062 | **0.6879**                     |\n"
     ]
    }
   ],
   "source": [
    "print(tabulate_markdown(best_results_dfs_dict['bgar']))"
   ],
   "metadata": {
    "collapsed": false,
    "pycharm": {
     "name": "#%%\n"
    }
   }
  },
  {
   "cell_type": "code",
   "execution_count": 25,
   "outputs": [
    {
     "name": "stdout",
     "output_type": "stream",
     "text": [
      "\\begin{tabular}{lrr}\n",
      "\\hline\n",
      " Setup   &   bert-base-uncased &   bert-base-multilingual-cased \\\\\n",
      "\\hline\n",
      " full    &              0.5977 &                         0.6789 \\\\\n",
      " trg     &              0.6062 &                         0.6879 \\\\\n",
      "\\hline\n",
      "\\end{tabular}\n"
     ]
    }
   ],
   "source": [
    "print(tabulate_latex(best_results_dfs_dict['bgar']))"
   ],
   "metadata": {
    "collapsed": false,
    "pycharm": {
     "name": "#%%\n"
    }
   }
  },
  {
   "cell_type": "code",
   "execution_count": 26,
   "outputs": [
    {
     "data": {
      "text/plain": "  Setup                 bert-base-uncased      bert-base-multilingual-cased\n0  full  [full_fc512_lr0.0005_frozen.txt]  [full_fc512_lr0.0005_frozen.txt]\n1   trg   [trg_fc256_lr0.0005_frozen.txt]    [trg_fc256_lr0.005_frozen.txt]",
      "text/html": "<div>\n<style scoped>\n    .dataframe tbody tr th:only-of-type {\n        vertical-align: middle;\n    }\n\n    .dataframe tbody tr th {\n        vertical-align: top;\n    }\n\n    .dataframe thead th {\n        text-align: right;\n    }\n</style>\n<table border=\"1\" class=\"dataframe\">\n  <thead>\n    <tr style=\"text-align: right;\">\n      <th></th>\n      <th>Setup</th>\n      <th>bert-base-uncased</th>\n      <th>bert-base-multilingual-cased</th>\n    </tr>\n  </thead>\n  <tbody>\n    <tr>\n      <th>0</th>\n      <td>full</td>\n      <td>[full_fc512_lr0.0005_frozen.txt]</td>\n      <td>[full_fc512_lr0.0005_frozen.txt]</td>\n    </tr>\n    <tr>\n      <th>1</th>\n      <td>trg</td>\n      <td>[trg_fc256_lr0.0005_frozen.txt]</td>\n      <td>[trg_fc256_lr0.005_frozen.txt]</td>\n    </tr>\n  </tbody>\n</table>\n</div>"
     },
     "execution_count": 26,
     "metadata": {},
     "output_type": "execute_result"
    }
   ],
   "source": [
    "best_hparams_dfs_dict['bgar']"
   ],
   "metadata": {
    "collapsed": false,
    "pycharm": {
     "name": "#%%\n"
    }
   }
  },
  {
   "cell_type": "markdown",
   "source": [
    "## ar-en"
   ],
   "metadata": {
    "collapsed": false
   }
  },
  {
   "cell_type": "code",
   "execution_count": 27,
   "outputs": [
    {
     "data": {
      "text/plain": "<pandas.io.formats.style.Styler at 0x22b4bc40e80>",
      "text/html": "<style  type=\"text/css\" >\n#T_1ea39afa_99af_11eb_b742_a0cec835c16drow0_col1,#T_1ea39afa_99af_11eb_b742_a0cec835c16drow1_col1{\n            background:  red;\n        }</style><table id=\"T_1ea39afa_99af_11eb_b742_a0cec835c16d\" ><thead>    <tr>        <th class=\"blank level0\" ></th>        <th class=\"col_heading level0 col0\" >Setup</th>        <th class=\"col_heading level0 col1\" >bert-base-uncased</th>        <th class=\"col_heading level0 col2\" >bert-base-multilingual-cased</th>    </tr></thead><tbody>\n                <tr>\n                        <th id=\"T_1ea39afa_99af_11eb_b742_a0cec835c16dlevel0_row0\" class=\"row_heading level0 row0\" >0</th>\n                        <td id=\"T_1ea39afa_99af_11eb_b742_a0cec835c16drow0_col0\" class=\"data row0 col0\" >full</td>\n                        <td id=\"T_1ea39afa_99af_11eb_b742_a0cec835c16drow0_col1\" class=\"data row0 col1\" >0.701622</td>\n                        <td id=\"T_1ea39afa_99af_11eb_b742_a0cec835c16drow0_col2\" class=\"data row0 col2\" >0.696182</td>\n            </tr>\n            <tr>\n                        <th id=\"T_1ea39afa_99af_11eb_b742_a0cec835c16dlevel0_row1\" class=\"row_heading level0 row1\" >1</th>\n                        <td id=\"T_1ea39afa_99af_11eb_b742_a0cec835c16drow1_col0\" class=\"data row1 col0\" >trg</td>\n                        <td id=\"T_1ea39afa_99af_11eb_b742_a0cec835c16drow1_col1\" class=\"data row1 col1\" >0.729080</td>\n                        <td id=\"T_1ea39afa_99af_11eb_b742_a0cec835c16drow1_col2\" class=\"data row1 col2\" >0.716178</td>\n            </tr>\n    </tbody></table>"
     },
     "execution_count": 27,
     "metadata": {},
     "output_type": "execute_result"
    }
   ],
   "source": [
    "highlight_best_score(best_results_dfs_dict['aren'])"
   ],
   "metadata": {
    "collapsed": false,
    "pycharm": {
     "name": "#%%\n"
    }
   }
  },
  {
   "cell_type": "code",
   "execution_count": 28,
   "outputs": [
    {
     "name": "stdout",
     "output_type": "stream",
     "text": [
      "| Setup   | bert-base-uncased   |   bert-base-multilingual-cased |\n",
      "|---------|---------------------|--------------------------------|\n",
      "| full    | **0.7016**          |                         0.6962 |\n",
      "| trg     | **0.7291**          |                         0.7162 |\n"
     ]
    }
   ],
   "source": [
    "print(tabulate_markdown(best_results_dfs_dict['aren']))"
   ],
   "metadata": {
    "collapsed": false,
    "pycharm": {
     "name": "#%%\n"
    }
   }
  },
  {
   "cell_type": "code",
   "execution_count": 29,
   "outputs": [
    {
     "name": "stdout",
     "output_type": "stream",
     "text": [
      "\\begin{tabular}{lrr}\n",
      "\\hline\n",
      " Setup   &   bert-base-uncased &   bert-base-multilingual-cased \\\\\n",
      "\\hline\n",
      " full    &              0.7016 &                         0.6962 \\\\\n",
      " trg     &              0.7291 &                         0.7162 \\\\\n",
      "\\hline\n",
      "\\end{tabular}\n"
     ]
    }
   ],
   "source": [
    "print(tabulate_latex(best_results_dfs_dict['aren']))"
   ],
   "metadata": {
    "collapsed": false,
    "pycharm": {
     "name": "#%%\n"
    }
   }
  },
  {
   "cell_type": "code",
   "execution_count": 30,
   "outputs": [
    {
     "data": {
      "text/plain": "  Setup                bert-base-uncased     bert-base-multilingual-cased\n0  full  [full_fc512_lr0.005_frozen.txt]  [full_fc256_lr0.005_frozen.txt]\n1   trg   [trg_fc128_lr0.005_frozen.txt]  [trg_fc512_lr0.0005_frozen.txt]",
      "text/html": "<div>\n<style scoped>\n    .dataframe tbody tr th:only-of-type {\n        vertical-align: middle;\n    }\n\n    .dataframe tbody tr th {\n        vertical-align: top;\n    }\n\n    .dataframe thead th {\n        text-align: right;\n    }\n</style>\n<table border=\"1\" class=\"dataframe\">\n  <thead>\n    <tr style=\"text-align: right;\">\n      <th></th>\n      <th>Setup</th>\n      <th>bert-base-uncased</th>\n      <th>bert-base-multilingual-cased</th>\n    </tr>\n  </thead>\n  <tbody>\n    <tr>\n      <th>0</th>\n      <td>full</td>\n      <td>[full_fc512_lr0.005_frozen.txt]</td>\n      <td>[full_fc256_lr0.005_frozen.txt]</td>\n    </tr>\n    <tr>\n      <th>1</th>\n      <td>trg</td>\n      <td>[trg_fc128_lr0.005_frozen.txt]</td>\n      <td>[trg_fc512_lr0.0005_frozen.txt]</td>\n    </tr>\n  </tbody>\n</table>\n</div>"
     },
     "execution_count": 30,
     "metadata": {},
     "output_type": "execute_result"
    }
   ],
   "source": [
    "best_hparams_dfs_dict['aren']"
   ],
   "metadata": {
    "collapsed": false,
    "pycharm": {
     "name": "#%%\n"
    }
   }
  },
  {
   "cell_type": "markdown",
   "source": [
    "## ar-bg"
   ],
   "metadata": {
    "collapsed": false
   }
  },
  {
   "cell_type": "code",
   "execution_count": 31,
   "outputs": [
    {
     "data": {
      "text/plain": "<pandas.io.formats.style.Styler at 0x22b4c04d438>",
      "text/html": "<style  type=\"text/css\" >\n#T_1eb7cbee_99af_11eb_ace8_a0cec835c16drow0_col2,#T_1eb7cbee_99af_11eb_ace8_a0cec835c16drow1_col2{\n            background:  red;\n        }</style><table id=\"T_1eb7cbee_99af_11eb_ace8_a0cec835c16d\" ><thead>    <tr>        <th class=\"blank level0\" ></th>        <th class=\"col_heading level0 col0\" >Setup</th>        <th class=\"col_heading level0 col1\" >bert-base-uncased</th>        <th class=\"col_heading level0 col2\" >bert-base-multilingual-cased</th>    </tr></thead><tbody>\n                <tr>\n                        <th id=\"T_1eb7cbee_99af_11eb_ace8_a0cec835c16dlevel0_row0\" class=\"row_heading level0 row0\" >0</th>\n                        <td id=\"T_1eb7cbee_99af_11eb_ace8_a0cec835c16drow0_col0\" class=\"data row0 col0\" >full</td>\n                        <td id=\"T_1eb7cbee_99af_11eb_ace8_a0cec835c16drow0_col1\" class=\"data row0 col1\" >0.820622</td>\n                        <td id=\"T_1eb7cbee_99af_11eb_ace8_a0cec835c16drow0_col2\" class=\"data row0 col2\" >0.841008</td>\n            </tr>\n            <tr>\n                        <th id=\"T_1eb7cbee_99af_11eb_ace8_a0cec835c16dlevel0_row1\" class=\"row_heading level0 row1\" >1</th>\n                        <td id=\"T_1eb7cbee_99af_11eb_ace8_a0cec835c16drow1_col0\" class=\"data row1 col0\" >trg</td>\n                        <td id=\"T_1eb7cbee_99af_11eb_ace8_a0cec835c16drow1_col1\" class=\"data row1 col1\" >0.821763</td>\n                        <td id=\"T_1eb7cbee_99af_11eb_ace8_a0cec835c16drow1_col2\" class=\"data row1 col2\" >0.843117</td>\n            </tr>\n    </tbody></table>"
     },
     "execution_count": 31,
     "metadata": {},
     "output_type": "execute_result"
    }
   ],
   "source": [
    "highlight_best_score(best_results_dfs_dict['arbg'])"
   ],
   "metadata": {
    "collapsed": false,
    "pycharm": {
     "name": "#%%\n"
    }
   }
  },
  {
   "cell_type": "code",
   "execution_count": 32,
   "outputs": [
    {
     "name": "stdout",
     "output_type": "stream",
     "text": [
      "| Setup   |   bert-base-uncased | bert-base-multilingual-cased   |\n",
      "|---------|---------------------|--------------------------------|\n",
      "| full    |              0.8206 | **0.841**                      |\n",
      "| trg     |              0.8218 | **0.8431**                     |\n"
     ]
    }
   ],
   "source": [
    "print(tabulate_markdown(best_results_dfs_dict['arbg']))"
   ],
   "metadata": {
    "collapsed": false,
    "pycharm": {
     "name": "#%%\n"
    }
   }
  },
  {
   "cell_type": "code",
   "execution_count": 33,
   "outputs": [
    {
     "name": "stdout",
     "output_type": "stream",
     "text": [
      "\\begin{tabular}{lrr}\n",
      "\\hline\n",
      " Setup   &   bert-base-uncased &   bert-base-multilingual-cased \\\\\n",
      "\\hline\n",
      " full    &              0.8206 &                         0.841  \\\\\n",
      " trg     &              0.8218 &                         0.8431 \\\\\n",
      "\\hline\n",
      "\\end{tabular}\n"
     ]
    }
   ],
   "source": [
    "print(tabulate_latex(best_results_dfs_dict['arbg']))\n",
    "\n"
   ],
   "metadata": {
    "collapsed": false,
    "pycharm": {
     "name": "#%%\n"
    }
   }
  },
  {
   "cell_type": "code",
   "execution_count": 34,
   "outputs": [
    {
     "data": {
      "text/plain": "  Setup                bert-base-uncased      bert-base-multilingual-cased\n0  full  [full_fc512_lr0.005_frozen.txt]  [full_fc256_lr0.0005_frozen.txt]\n1   trg  [trg_fc128_lr0.0005_frozen.txt]   [trg_fc512_lr0.0005_frozen.txt]",
      "text/html": "<div>\n<style scoped>\n    .dataframe tbody tr th:only-of-type {\n        vertical-align: middle;\n    }\n\n    .dataframe tbody tr th {\n        vertical-align: top;\n    }\n\n    .dataframe thead th {\n        text-align: right;\n    }\n</style>\n<table border=\"1\" class=\"dataframe\">\n  <thead>\n    <tr style=\"text-align: right;\">\n      <th></th>\n      <th>Setup</th>\n      <th>bert-base-uncased</th>\n      <th>bert-base-multilingual-cased</th>\n    </tr>\n  </thead>\n  <tbody>\n    <tr>\n      <th>0</th>\n      <td>full</td>\n      <td>[full_fc512_lr0.005_frozen.txt]</td>\n      <td>[full_fc256_lr0.0005_frozen.txt]</td>\n    </tr>\n    <tr>\n      <th>1</th>\n      <td>trg</td>\n      <td>[trg_fc128_lr0.0005_frozen.txt]</td>\n      <td>[trg_fc512_lr0.0005_frozen.txt]</td>\n    </tr>\n  </tbody>\n</table>\n</div>"
     },
     "execution_count": 34,
     "metadata": {},
     "output_type": "execute_result"
    }
   ],
   "source": [
    "best_hparams_dfs_dict['arbg']"
   ],
   "metadata": {
    "collapsed": false,
    "pycharm": {
     "name": "#%%\n"
    }
   }
  },
  {
   "cell_type": "code",
   "execution_count": 34,
   "outputs": [],
   "source": [],
   "metadata": {
    "collapsed": false,
    "pycharm": {
     "name": "#%%\n"
    }
   }
  }
 ],
 "metadata": {
  "kernelspec": {
   "display_name": "Python 3",
   "language": "python",
   "name": "python3"
  },
  "language_info": {
   "codemirror_mode": {
    "name": "ipython",
    "version": 2
   },
   "file_extension": ".py",
   "mimetype": "text/x-python",
   "name": "python",
   "nbconvert_exporter": "python",
   "pygments_lexer": "ipython2",
   "version": "2.7.6"
  }
 },
 "nbformat": 4,
 "nbformat_minor": 0
}